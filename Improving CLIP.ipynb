{
  "cells": [
    {
      "cell_type": "markdown",
      "id": "635b58e2",
      "metadata": {
        "id": "635b58e2"
      },
      "source": [
        "# Deep Learning Assignement\n",
        "Group memebers:\n",
        "- Bando Matteo (ID: 259068)\n",
        "- Fin Jonathan (ID: 256178)\n",
        "- Netti Vincenzo (ID: 256245)\n",
        "\n",
        "## Objective: Few-shot adaptation of CLIP on some classes of Flowers102 dataset\n",
        "CLIP has impressive zero shot accuracy. The goal of the assignment is to improve its accuracy on given classes (**base**)\n",
        "but still maintain its zero shot accuracy on the other unseen classes (**novel**)"
      ]
    },
    {
      "cell_type": "code",
      "execution_count": 1,
      "id": "88b5182e",
      "metadata": {
        "colab": {
          "base_uri": "https://localhost:8080/"
        },
        "id": "88b5182e",
        "outputId": "fa21ff16-6928-4e59-b2d0-ac70ecfea723"
      },
      "outputs": [
        {
          "output_type": "stream",
          "name": "stdout",
          "text": [
            "Collecting openai-clip\n",
            "  Downloading openai-clip-1.0.1.tar.gz (1.4 MB)\n",
            "\u001b[2K     \u001b[90m━━━━━━━━━━━━━━━━━━━━━━━━━━━━━━━━━━━━━━━━\u001b[0m \u001b[32m1.4/1.4 MB\u001b[0m \u001b[31m18.8 MB/s\u001b[0m eta \u001b[36m0:00:00\u001b[0m\n",
            "\u001b[?25h  Preparing metadata (setup.py) ... \u001b[?25l\u001b[?25hdone\n",
            "Collecting ftfy (from openai-clip)\n",
            "  Downloading ftfy-6.3.1-py3-none-any.whl.metadata (7.3 kB)\n",
            "Requirement already satisfied: regex in /usr/local/lib/python3.11/dist-packages (from openai-clip) (2024.11.6)\n",
            "Requirement already satisfied: tqdm in /usr/local/lib/python3.11/dist-packages (from openai-clip) (4.67.1)\n",
            "Requirement already satisfied: wcwidth in /usr/local/lib/python3.11/dist-packages (from ftfy->openai-clip) (0.2.13)\n",
            "Downloading ftfy-6.3.1-py3-none-any.whl (44 kB)\n",
            "\u001b[2K   \u001b[90m━━━━━━━━━━━━━━━━━━━━━━━━━━━━━━━━━━━━━━━━\u001b[0m \u001b[32m44.8/44.8 kB\u001b[0m \u001b[31m4.4 MB/s\u001b[0m eta \u001b[36m0:00:00\u001b[0m\n",
            "\u001b[?25hBuilding wheels for collected packages: openai-clip\n",
            "  Building wheel for openai-clip (setup.py) ... \u001b[?25l\u001b[?25hdone\n",
            "  Created wheel for openai-clip: filename=openai_clip-1.0.1-py3-none-any.whl size=1368605 sha256=98db3bf0f96f22f64a0989112de28101ffefc8eb2acc4367bb02d0d2567a7acd\n",
            "  Stored in directory: /root/.cache/pip/wheels/0d/17/90/042948fd2e2a87f1dcf6db6d438cad015c49db0c53d1d9c7dc\n",
            "Successfully built openai-clip\n",
            "Installing collected packages: ftfy, openai-clip\n",
            "Successfully installed ftfy-6.3.1 openai-clip-1.0.1\n"
          ]
        }
      ],
      "source": [
        "# Installing and importing the requirements\n",
        "!pip install openai-clip  # For colab\n",
        "\n",
        "import torch\n",
        "import torchvision\n",
        "from torch import Tensor\n",
        "import torch.nn as nn\n",
        "import torch.nn.functional as F\n",
        "from torch.amp import autocast\n",
        "from tqdm import tqdm\n",
        "from typing import Tuple\n",
        "from typing import List\n",
        "import os\n",
        "import clip\n",
        "from clip.simple_tokenizer import SimpleTokenizer as _Tokenizer\n",
        "from tabulate import tabulate\n",
        "import random\n",
        "import numpy as np\n",
        "import pandas as pd\n",
        "import matplotlib.pyplot as plt\n",
        "import seaborn as sns\n",
        "from io import StringIO\n",
        "from IPython.display import Markdown, display"
      ]
    },
    {
      "cell_type": "code",
      "execution_count": 2,
      "id": "rtMc4_Dh-LM4",
      "metadata": {
        "id": "rtMc4_Dh-LM4"
      },
      "outputs": [],
      "source": [
        "# Create folder if it doesn't exist (for saving models)\n",
        "os.makedirs(\"models\", exist_ok=True)\n",
        "\n",
        "# Seed for reproducibility\n",
        "SEED = 42\n",
        "\n",
        "# Function to set random seed for reproducibility\n",
        "def set_seed(seed):\n",
        "    \"\"\"Set random seed for reproducibility\"\"\"\n",
        "    random.seed(seed)\n",
        "    np.random.seed(seed)\n",
        "    torch.manual_seed(seed)\n",
        "    torch.cuda.manual_seed_all(seed)\n",
        "    torch.backends.cudnn.deterministic = True\n",
        "    torch.backends.cudnn.benchmark = False\n",
        "\n",
        "# Set the seed for reproducibility\n",
        "set_seed(SEED)\n",
        "\n",
        "# Worker init function\n",
        "def worker_init_fn(worker_id):\n",
        "    np.random.seed(SEED + worker_id)\n",
        "    random.seed(SEED + worker_id)"
      ]
    },
    {
      "cell_type": "markdown",
      "id": "4fec66a2",
      "metadata": {
        "id": "4fec66a2"
      },
      "source": [
        "### Utilities for data handling"
      ]
    },
    {
      "cell_type": "code",
      "execution_count": 3,
      "id": "eda62730",
      "metadata": {
        "id": "eda62730"
      },
      "outputs": [],
      "source": [
        "def get_data(data_dir=\"../data\", transform=None):\n",
        "    \"\"\"Load Flowers102 train, validation and test sets.\n",
        "    Args:\n",
        "        data_dir (str): Directory where the dataset will be stored.\n",
        "        transform (torch.Compose)\n",
        "    Returns:\n",
        "        tuple: A tuple containing the train, validation, and test sets.\n",
        "    \"\"\"\n",
        "    train = torchvision.datasets.Flowers102(root=data_dir, split=\"train\", download=True, transform=transform)\n",
        "    val = torchvision.datasets.Flowers102(root=data_dir, split=\"val\", download=True, transform=transform)\n",
        "    test = torchvision.datasets.Flowers102(root=data_dir, split=\"test\", download=True, transform=transform)\n",
        "    return train, val, test\n",
        "\n",
        "def base_novel_categories(dataset):\n",
        "    \"\"\"Optimized version for Flowers102 dataset (102 classes)\"\"\"\n",
        "    num_classes = 102\n",
        "    base_classes = list(range(num_classes))[:num_classes//2]  # 0-50\n",
        "    novel_classes = list(range(num_classes))[num_classes//2:]  # 51-101\n",
        "    return base_classes, novel_classes\n",
        "\n",
        "\n",
        "def get_labels(dataset):\n",
        "    # If dataset is a Subset, get labels from the underlying dataset\n",
        "    if isinstance(dataset, torch.utils.data.Subset):\n",
        "        return [dataset.dataset[i][1] for i in dataset.indices]\n",
        "    else:\n",
        "        return [dataset[i][1] for i in range(len(dataset))]\n",
        "\n",
        "\n",
        "def split_data(dataset, base_classes):\n",
        "    # These two lists will store the sample indexes\n",
        "    base_categories_samples = []\n",
        "    novel_categories_samples = []\n",
        "\n",
        "    # We create a set of base classes to compute the test below in O(1)\n",
        "    # This is optional and can be removed\n",
        "    base_set = set(base_classes)\n",
        "    labels = get_labels(dataset)\n",
        "    # Here we iterate over sample labels and also get the correspondent sample index\n",
        "    for sample_id, label in enumerate(labels):\n",
        "        if label in base_set:\n",
        "            base_categories_samples.append(sample_id)\n",
        "        else:\n",
        "            novel_categories_samples.append(sample_id)\n",
        "\n",
        "    # Here we create the dataset subsets\n",
        "    # the torch Subset is just a wrapper around the dataset\n",
        "    # it simply stores the subset indexes and the original dataset (your_subset.dataset)\n",
        "    # when asking for sample i in the subset, torch will look for its original position in the dataset and retrieve it\n",
        "    # https://pytorch.org/docs/stable/data.html#torch.utils.data.Subset\n",
        "    base_dataset = torch.utils.data.Subset(dataset, base_categories_samples)\n",
        "    novel_dataset = torch.utils.data.Subset(dataset, novel_categories_samples)\n",
        "    return base_dataset, novel_dataset\n",
        "\n",
        "def harmonic_mean(base_accuracy, novel_accuracy):\n",
        "    numerator = 2\n",
        "    denominator = 1 / base_accuracy + 1 / novel_accuracy\n",
        "    hm = numerator / denominator\n",
        "    return hm\n"
      ]
    },
    {
      "cell_type": "code",
      "execution_count": 4,
      "id": "bb23b6c1",
      "metadata": {
        "id": "bb23b6c1",
        "colab": {
          "base_uri": "https://localhost:8080/"
        },
        "outputId": "c0f5712f-b60b-41a9-a36b-ebe7dd8f4caf"
      },
      "outputs": [
        {
          "output_type": "stream",
          "name": "stderr",
          "text": [
            "100%|███████████████████████████████████████| 335M/335M [00:12<00:00, 27.1MiB/s]\n",
            "100%|██████████| 345M/345M [00:11<00:00, 30.1MB/s]\n",
            "100%|██████████| 502/502 [00:00<00:00, 1.01MB/s]\n",
            "100%|██████████| 15.0k/15.0k [00:00<00:00, 32.9MB/s]\n"
          ]
        }
      ],
      "source": [
        "# Model and data\n",
        "DEVICE = \"cuda\" if torch.cuda.is_available() else \"cpu\"\n",
        "model, preprocess = clip.load(\"ViT-B/16\", device=DEVICE)\n",
        "_, _, tmp_test = get_data()\n",
        "base_classes, novel_classes = base_novel_categories(tmp_test)\n",
        "CLASS_NAMES = [\"pink primrose\", \"hard-leaved pocket orchid\", \"canterbury bells\", \"sweet pea\", \"english marigold\", \"tiger lily\", \"moon orchid\", \"bird of paradise\", \"monkshood\", \"globe thistle\", \"snapdragon\", \"colt's foot\", \"king protea\", \"spear thistle\", \"yellow iris\", \"globe-flower\", \"purple coneflower\", \"peruvian lily\", \"balloon flower\", \"giant white arum lily\", \"fire lily\", \"pincushion flower\", \"fritillary\", \"red ginger\", \"grape hyacinth\", \"corn poppy\", \"prince of wales feathers\", \"stemless gentian\", \"artichoke\", \"sweet william\", \"carnation\", \"garden phlox\", \"love in the mist\", \"mexican aster\", \"alpine sea holly\", \"ruby-lipped cattleya\", \"cape flower\", \"great masterwort\", \"siam tulip\", \"lenten rose\", \"barbeton daisy\", \"daffodil\", \"sword lily\", \"poinsettia\", \"bolero deep blue\", \"wallflower\", \"marigold\", \"buttercup\", \"oxeye daisy\", \"common dandelion\", \"petunia\", \"wild pansy\", \"primula\", \"sunflower\", \"pelargonium\", \"bishop of llandaff\", \"gaura\", \"geranium\", \"orange dahlia\", \"pink-yellow dahlia?\", \"cautleya spicata\", \"japanese anemone\", \"black-eyed susan\", \"silverbush\", \"californian poppy\", \"osteospermum\", \"spring crocus\", \"bearded iris\", \"windflower\", \"tree poppy\", \"gazania\", \"azalea\", \"water lily\", \"rose\", \"thorn apple\", \"morning glory\", \"passion flower\", \"lotus\", \"toad lily\", \"anthurium\", \"frangipani\", \"clematis\", \"hibiscus\", \"columbine\", \"desert-rose\", \"tree mallow\", \"magnolia\", \"cyclamen\", \"watercress\", \"canna lily\", \"hippeastrum\", \"bee balm\", \"ball moss\", \"foxglove\", \"bougainvillea\", \"camellia\", \"mallow\", \"mexican petunia\", \"bromelia\", \"blanket flower\", \"trumpet creeper\", \"blackberry lily\"]\n",
        "train_set, val_set, test_set = get_data(transform=preprocess)\n",
        "base_classes, novel_classes = base_novel_categories(train_set)\n",
        "\n",
        "train_base, _ = split_data(train_set, base_classes)\n",
        "val_base, _ = split_data(val_set, base_classes)\n",
        "test_base, test_novel = split_data(test_set, base_classes)"
      ]
    },
    {
      "cell_type": "markdown",
      "id": "f8f7e33f",
      "metadata": {
        "id": "f8f7e33f"
      },
      "source": [
        "### Baseline accuracy computation"
      ]
    },
    {
      "cell_type": "code",
      "execution_count": 5,
      "id": "9a4d31f2",
      "metadata": {
        "colab": {
          "base_uri": "https://localhost:8080/"
        },
        "id": "9a4d31f2",
        "outputId": "c4e12587-b55f-4061-813f-ab4b09cfe089"
      },
      "outputs": [
        {
          "output_type": "stream",
          "name": "stderr",
          "text": [
            "🧠 Zero-shot evaluation on Base Classes: 100%|██████████| 20/20 [00:10<00:00,  1.94it/s]\n",
            "🧠 Zero-shot evaluation on Novel Classes: 100%|██████████| 29/29 [00:14<00:00,  2.05it/s]"
          ]
        },
        {
          "output_type": "stream",
          "name": "stdout",
          "text": [
            "\n",
            "🔍 Base classes accuracy: 71.33%\n",
            "🔍 Novel classes accuracy: 78.26%\n"
          ]
        },
        {
          "output_type": "stream",
          "name": "stderr",
          "text": [
            "\n"
          ]
        }
      ],
      "source": [
        "@torch.no_grad()\n",
        "def eval(model, dataset, categories, batch_size, device, label=\"\"):\n",
        "    model.eval()\n",
        "    # Remap labels into a contiguous set starting from zero\n",
        "    contig_cat2idx = {cat: idx for idx, cat in enumerate(categories)}\n",
        "    # Apply and tokenize standard clip sentences\n",
        "    text_inputs = clip.tokenize(\n",
        "        [f\"a photo of a {CLASS_NAMES[c]}, a type of flower.\" for c in categories]\n",
        "    ).to(device)\n",
        "\n",
        "    # We encode the text features once as they are shared for all images\n",
        "    text_features = model.encode_text(text_inputs)\n",
        "    # Normalization, standard clip practice\n",
        "    text_features /= text_features.norm(dim=-1, keepdim=True)\n",
        "\n",
        "    dataloader = torch.utils.data.DataLoader(\n",
        "        dataset,\n",
        "        batch_size=batch_size,\n",
        "        shuffle=False,\n",
        "        num_workers=2,\n",
        "        worker_init_fn=worker_init_fn)\n",
        "\n",
        "    correct_predictions = 0\n",
        "    for image, target in tqdm(dataloader, desc=label):\n",
        "        # Label remapping\n",
        "        target = torch.Tensor([contig_cat2idx[t.item()] for t in target]).long()\n",
        "\n",
        "        image = image.to(device)\n",
        "        target = target.to(device)\n",
        "\n",
        "        image_features = model.encode_image(image)\n",
        "        image_features /= image_features.norm(dim=-1, keepdim=True)\n",
        "\n",
        "        # Cosine similarity between image and text features and keep the argmax for every image\n",
        "        predicted_class = (image_features @ text_features.T).argmax(dim=-1)\n",
        "\n",
        "        correct_predictions += (predicted_class == target).sum().item()\n",
        "\n",
        "    # And now we compute the accuracy\n",
        "    accuracy = correct_predictions / len(dataset)\n",
        "    return accuracy\n",
        "\n",
        "zero_shot_base_accuracy = eval(model=model, dataset=test_base, categories=base_classes, batch_size=128, device=DEVICE, label=\"🧠 Zero-shot evaluation on Base Classes\")\n",
        "zero_shot_novel_accuracy = eval(model=model, dataset=test_novel, categories=novel_classes, batch_size=128, device=DEVICE, label=\"🧠 Zero-shot evaluation on Novel Classes\")\n",
        "\n",
        "print()\n",
        "print(f\"🔍 Base classes accuracy: {zero_shot_base_accuracy*100:.2f}%\")\n",
        "print(f\"🔍 Novel classes accuracy: {zero_shot_novel_accuracy*100:.2f}%\")\n"
      ]
    },
    {
      "cell_type": "markdown",
      "id": "5a88f36d",
      "metadata": {
        "id": "5a88f36d"
      },
      "source": [
        "## Our Approach"
      ]
    },
    {
      "cell_type": "markdown",
      "id": "378aa889",
      "metadata": {
        "id": "378aa889"
      },
      "source": [
        "Most few-shot methods achieve higher accuracy w.r.t. CLIP on the base classes but they loose generalization on the novel one.\n",
        "Our intuition is that those approaches and standard zero shot clip should be balanced when predicting the final output.\n",
        "To determine which weights to assign to the few-shot method and clip we decided prototypes and similarity, the more a sample is similar to one fo the prototypes of the base classes the more likely it belongs to our base set and thus higher weight should be assigned to the few-shot method, vice versa if it belongs to the novel set.  \n",
        "\n",
        "---\n",
        "\n",
        "## Table of Contents\n",
        "\n",
        "1. [**TIP-Adapter: Description and implementation**](#1-tip-adapter)\n",
        "2. [**Prototype Cache: Similarity-Based Weighting Strategy**](#2-prototype-cache-similarity-based-weighting-strategy)\n",
        "3. [**Dynamic CoOp**](#3-dynamic-coop)\n",
        "4. [**Dynamic CoCoOp**](#4-dynamic-cocoop)\n",
        "5. [**Conclusions**](#5-conclusions)\n",
        "6. [**Other work**](#6-other-work---apollo)\n",
        "7. [**References**](#7-references)"
      ]
    },
    {
      "cell_type": "markdown",
      "id": "b9373d80",
      "metadata": {
        "id": "b9373d80"
      },
      "source": [
        "\n",
        "---\n",
        "\n",
        "# 1. TIP-Adapter\n",
        "Tip-Adapter is a training-free extension of CLIP that builds a cache made using the few-shot samples, the cache is then processed using non linear operations and then combined with clip before computing the standard output.\n",
        "\n",
        "## How the Cache is Computed and Combined with CLIP:\n",
        "For each training image:\n",
        "\n",
        "1. Keys: extract CLIP visual features $(F_{train})$ using the frozen visual encoder. its shape is $(N*K,C)$ where  $N$ is the total number of classes, $K$ is the number of shots and $C$ is the dimension of the visual embedding\n",
        "   \n",
        "2. Values: Convert labels to one-hot vectors $(L_{train})$. its shape is $(N*K,N)$\n",
        "\n",
        "The two MLP layers in the adapter are set as:\n",
        "\n",
        "1. $W_1 = F_{train}$\n",
        "\n",
        "1. $W_2 = L_{train}$\n",
        "\n",
        "**Activation**: $ϕ(x) = \\exp(−β(1 − x))$\n",
        "\n",
        "**Tip adpter logits**: $Logits_{tipadapter} = ϕ(f_{test} · W_1^T) · W_2 $, where $f_{test}$ are the visual features of the current image\n",
        "\n",
        "**Final logits**: $\\alpha * Logits_{tipadapter} + Logits_{clip}$\n",
        "\n"
      ]
    },
    {
      "cell_type": "code",
      "execution_count": 6,
      "id": "dedd5b67",
      "metadata": {
        "id": "dedd5b67"
      },
      "outputs": [],
      "source": [
        "# Building the cache\n",
        "@torch.no_grad()\n",
        "def create_cache(model: torch.nn.Module, base_dataset: torch.utils.data.Subset, device: str,cache_path='tip_adapter_cache.pt') -> Tuple[Tensor,Tensor]:\n",
        "\n",
        "    if os.path.exists(cache_path):\n",
        "        # Loading the cache in case it already exists\n",
        "        print(\"Loading cache\")\n",
        "        cache = torch.load(cache_path,map_location=torch.device('cpu'))\n",
        "        keys = cache['keys']\n",
        "        vals = cache['vals']\n",
        "        return keys,vals\n",
        "\n",
        "    model.eval()\n",
        "    keys = []\n",
        "    vals = []\n",
        "    dataloader = torch.utils.data.DataLoader(\n",
        "        base_dataset,\n",
        "        batch_size=128,\n",
        "        shuffle=False,\n",
        "        num_workers=2,\n",
        "        worker_init_fn=worker_init_fn)\n",
        "\n",
        "    for img,target in tqdm(dataloader, desc=\"Encoding few-shot images\"):\n",
        "        img = img.to(device)\n",
        "        target = target.to(device)\n",
        "        # Computing the visual embeddings\n",
        "        features: Tensor = model.encode_image(img)\n",
        "        keys.append(features)\n",
        "        vals.append(target)\n",
        "\n",
        "    keys = torch.cat(keys, dim=0)\n",
        "    keys /= keys.norm(dim=-1,keepdim=True)\n",
        "    vals = torch.cat(vals, dim=0)\n",
        "    vals = F.one_hot(vals).half()\n",
        "    # Saving the cache, commented for the colab notebook\n",
        "    # torch.save({'keys': keys, 'vals': vals}, 'models/tip_adapter_cache.pt')\n",
        "\n",
        "    return keys, vals"
      ]
    },
    {
      "cell_type": "markdown",
      "id": "e7ad10e0",
      "metadata": {
        "id": "e7ad10e0"
      },
      "source": [
        "### Tip-adapter Evaluation"
      ]
    },
    {
      "cell_type": "code",
      "execution_count": 7,
      "id": "98855ed4",
      "metadata": {
        "id": "98855ed4"
      },
      "outputs": [],
      "source": [
        "@torch.no_grad()\n",
        "def eval_tipAdapt(model, dataset, categories, batch_size, device, label=\"\",keys = None,values = None,alpha = 0.1):\n",
        "    assert keys is not None and values is not None, \"Keys and values must be provided\"\n",
        "    model.eval()\n",
        "    keys   = keys.to(device)\n",
        "    values = values.to(device)\n",
        "\n",
        "    contig_cat2idx = {cat: idx for idx, cat in enumerate(categories)}\n",
        "    text_inputs = clip.tokenize(\n",
        "        [f\"a photo of a {CLASS_NAMES[c]}, a type of flower.\" for c in categories]\n",
        "    ).to(device)\n",
        "\n",
        "    text_features = model.encode_text(text_inputs)\n",
        "    text_features /= text_features.norm(dim=-1, keepdim=True)\n",
        "    dataloader = torch.utils.data.DataLoader(\n",
        "        dataset,\n",
        "        batch_size=batch_size,\n",
        "        shuffle=False,\n",
        "        num_workers=2,\n",
        "        worker_init_fn=worker_init_fn)\n",
        "\n",
        "    correct_predictions = 0\n",
        "    for image, target in tqdm(dataloader, desc=label):\n",
        "\n",
        "        target = torch.Tensor([contig_cat2idx[t.item()] for t in target]).long()\n",
        "\n",
        "        image = image.to(device)\n",
        "        target = target.to(device)\n",
        "\n",
        "        image_features = model.encode_image(image)\n",
        "        image_features /= image_features.norm(dim=-1, keepdim=True)\n",
        "        beta = 5.5  # value choosen according to the tip adapter's paper\n",
        "        # Using autocast to avoid float precision errors\n",
        "        with autocast(device):\n",
        "            A = torch.exp(-beta * (1-(image_features @ keys.T)))\n",
        "            # Combining tip logits and clip logits\n",
        "            logits = alpha * (A@values) + (image_features @ text_features.T)\n",
        "        predicted_class = (logits).argmax(dim=-1)\n",
        "        correct_predictions += (predicted_class == target).sum().item()\n",
        "\n",
        "    accuracy = correct_predictions / len(dataset)\n",
        "    return accuracy"
      ]
    },
    {
      "cell_type": "code",
      "execution_count": 8,
      "id": "df7823c3",
      "metadata": {
        "colab": {
          "base_uri": "https://localhost:8080/"
        },
        "id": "df7823c3",
        "outputId": "66832669-6d08-4318-dbcd-e2165b3046c3"
      },
      "outputs": [
        {
          "output_type": "stream",
          "name": "stderr",
          "text": [
            "Encoding few-shot images: 100%|██████████| 4/4 [00:02<00:00,  1.90it/s]\n",
            "🧠 Tip adapter evaluation on Base Classes: 100%|██████████| 20/20 [00:09<00:00,  2.05it/s]\n",
            "🧠 Tip adapter evaluation on Novel Classes: 100%|██████████| 29/29 [00:14<00:00,  2.02it/s]\n",
            "🧠 Tip adapter evaluation on Base Classes: 100%|██████████| 20/20 [00:09<00:00,  2.05it/s]\n",
            "🧠 Tip adapter evaluation on Novel Classes: 100%|██████████| 29/29 [00:14<00:00,  2.04it/s]\n",
            "🧠 Tip adapter evaluation on Base Classes: 100%|██████████| 20/20 [00:09<00:00,  2.06it/s]\n",
            "🧠 Tip adapter evaluation on Novel Classes: 100%|██████████| 29/29 [00:14<00:00,  2.03it/s]"
          ]
        },
        {
          "output_type": "stream",
          "name": "stdout",
          "text": [
            "  α (Alpha)  🎯 Base Accuracy    🧪 Novel Accuracy    ⚖️ Harmonic Mean\n",
            "-----------  ------------------  -------------------  ------------------\n",
            "       0.01  81.60%              75.14%               78.24%\n",
            "       0.5   91.10%              2.83%                5.49%\n",
            "       1     90.86%              2.18%                4.25%\n"
          ]
        },
        {
          "output_type": "stream",
          "name": "stderr",
          "text": [
            "\n"
          ]
        }
      ],
      "source": [
        "# Testing different values of alpha\n",
        "keys,values = create_cache(model,train_base,DEVICE)\n",
        "tip_adapter_results = []\n",
        "\n",
        "# Save last result for final table\n",
        "tip_final_base_acc = 0\n",
        "tip_final_novel_acc = 0\n",
        "\n",
        "alphas = [0.01, 0.5, 1]\n",
        "for alpha in alphas:\n",
        "    base_acc = eval_tipAdapt(model=model, dataset=test_base, categories=base_classes, batch_size=128, device=DEVICE, label=\"🧠 Tip adapter evaluation on Base Classes\",keys=keys,values=values,alpha=alpha)\n",
        "    novel_acc = eval_tipAdapt(model=model, dataset=test_novel, categories=novel_classes, batch_size=128, device=DEVICE, label=\"🧠 Tip adapter evaluation on Novel Classes\",keys=keys,values=values,alpha=alpha)\n",
        "    hmean = harmonic_mean(base_acc, novel_acc)\n",
        "    tip_adapter_results.append([\n",
        "        f\"{alpha:.2f}\",\n",
        "        f\"{base_acc * 100:.2f}%\",\n",
        "        f\"{novel_acc * 100:.2f}%\",\n",
        "        f\"{hmean * 100:.2f}%\"\n",
        "    ])\n",
        "\n",
        "    tip_final_base_acc = base_acc\n",
        "    tip_final_novel_acc = novel_acc\n",
        "\n",
        "headers = [\"α (Alpha)\", \"🎯 Base Accuracy\", \"🧪 Novel Accuracy\", \"⚖️ Harmonic Mean\"]\n",
        "print(tabulate(tip_adapter_results, headers=headers, tablefmt=\"alpaha impact on accuracy\"))"
      ]
    },
    {
      "cell_type": "markdown",
      "id": "4f7eb42f",
      "metadata": {
        "id": "4f7eb42f"
      },
      "source": [
        "We observe that α (alpha) significantly influences the harmonic mean performance, as it controls the weight assigned to the Tip-Adapter predictions. A larger α increases the reliance on the Tip-Adapter, which typically improves accuracy on base classes but reduces accuracy on novel classes due to overfitting to the base distribution. Conversely, when α = 0, the adapter contributes nothing, and the model behaves identically to standard CLIP, relying solely on its zero-shot generalization capabilities.\n",
        "***How can we set alpha without knowning if we are dealing with base or novel classes in advance?***"
      ]
    },
    {
      "cell_type": "markdown",
      "id": "d69425f2",
      "metadata": {
        "id": "d69425f2"
      },
      "source": [
        "\n",
        "---\n",
        "\n",
        "# 2. Prototype Cache: Similarity-Based Weighting Strategy\n",
        "\n",
        "## Cache Construction: Average Embedding Approach\n",
        "\n",
        "Our proposed prototype cache fundamentally reimagines the traditional TIP-Adapter cache structure. Instead of storing individual image features as keys, we construct **class prototypes by computing mean embeddings** of all training samples within each base class:\n",
        "\n",
        "$Prototype_c = \\frac{1}{N_c} \\cdot Σ_{i=1}^{N_c} f(x_i^c)$\n",
        "\n",
        "\n",
        "Where:\n",
        "- $Prototype_c$ represents the prototype for class c\n",
        "- $N_c$ is the number of training samples in class c  \n",
        "- $f(x_i^c)$ denotes the CLIP image feature for sample i in class c\n",
        "\n",
        "This approach offers several advantages:\n",
        "1. **Reduced Memory Footprint**: Storing one prototype per class instead of all individual features\n",
        "2. **Noise Reduction**: Averaging mitigates the impact of outlier samples\n",
        "3. **Stable Representations**: Prototypes provide robust class centroids less susceptible to individual sample variations\n",
        "\n",
        "## Motivation: Adaptive Weighting Through Similarity\n",
        "\n",
        "The core innovation lies in using prototype similarities to adaptively weight the combination of TIP-Adapter and CLIP predictions. The underlying hypothesis is that **similarity to base class prototypes serves as a reliable indicator of whether a query belongs to the base or novel class distribution**.\n",
        "\n",
        "For each query image, we compute its maximum similarity to all base class prototypes using cosine similarity\n",
        "\n",
        "## Weighting Strategy: Dynamic Alpha Computation\n",
        "\n",
        "The final prediction combines TIP-Adapter and CLIP outputs through an adaptive weighting scheme:\n",
        "\n",
        "```\n",
        "Final_Score = α × TIP_Adapter_Score + CLIP_Score\n",
        "```\n",
        "Where α is computed based on the similarity score:\n",
        "\n",
        "#### Step 1: Similarity Computation\n",
        "For a query image with features $f_I(x)$, compute similarity to prototype cache $\\mathcal{K}$:\n",
        "\n",
        "$$S = \\frac{f_I(x) \\cdot \\mathcal{K}^T}{\\|f_I(x)\\| \\|\\mathcal{K}\\|}$$\n",
        "\n",
        "where $\\mathcal{K} \\in \\mathbb{R}^{N \\times D}$ contains $N$ prototype vectors of dimension $D=512$.\n",
        "\n",
        "#### Step 2: Power Transformation\n",
        "Apply power transformation to create sharper confidence decisions:\n",
        "\n",
        "$$\\alpha = S^p$$\n",
        "\n",
        "where $p$ controls the sharpness:\n",
        "- $p > 1$: pushes high similarities toward 1 and low ones toward 0 (clearer confidence)\n",
        "\n",
        "The ideal behavior targets:\n",
        "- **α → 1.0** when similairty is high (query likely from base classes)\n",
        "- **α → 0.0** when similarity is low (query likely from novel classes)"
      ]
    },
    {
      "cell_type": "code",
      "execution_count": 9,
      "id": "4af72c8c",
      "metadata": {
        "id": "4af72c8c"
      },
      "outputs": [],
      "source": [
        "# Prototype cache construction\n",
        "@torch.no_grad()\n",
        "def create_prototype_cache(model: torch.nn.Module, base_dataset: torch.utils.data.Subset, device: str,cache_path='models/prototype_cache.pt') -> Tuple[Tensor,Tensor]:\n",
        "    if os.path.exists(cache_path):\n",
        "        print(\"Loading cache\")\n",
        "        cache = torch.load(cache_path,map_location=torch.device(device))\n",
        "        keys = cache['keys']\n",
        "        vals = cache['vals'].half()\n",
        "        return keys,vals\n",
        "\n",
        "    model.eval()\n",
        "    keys = []\n",
        "    vals = []\n",
        "    dataloader = torch.utils.data.DataLoader(\n",
        "        base_dataset,\n",
        "        batch_size=128,\n",
        "        shuffle=False,\n",
        "        num_workers=2,\n",
        "        worker_init_fn=worker_init_fn)\n",
        "\n",
        "    for img,target in tqdm(dataloader, desc=\"Encoding few-shot images\"):\n",
        "        img = img.to(device)\n",
        "        target = target.to(device)\n",
        "        features: Tensor = model.encode_image(img)\n",
        "        keys.append(features)\n",
        "        vals.append(target)\n",
        "    keys = torch.cat(keys, dim=0)\n",
        "    keys /= keys.norm(dim=-1,keepdim=True)\n",
        "    vals = torch.cat(vals, dim=0)\n",
        "    unique_labels = torch.unique(vals)\n",
        "    prototypes = []\n",
        "    prototype_lable = []\n",
        "\n",
        "    for label in tqdm(unique_labels, desc='Computing prototypes'):\n",
        "        class_featues = keys[vals == label]\n",
        "        proto = torch.mean(class_featues,dim=0)\n",
        "        proto /= proto.norm(dim=-1,keepdim=True)\n",
        "        prototypes.append(proto)\n",
        "        prototype_lable.append(label)\n",
        "    prototypes_tensor = torch.stack(prototypes, dim=0)\n",
        "    prototype_labels_tensor = torch.stack(prototype_lable, dim=0)\n",
        "\n",
        "\n",
        "    num_base_classes = len(unique_labels)\n",
        "    prototype_labels_one_hot = F.one_hot(prototype_labels_tensor, num_classes=num_base_classes).float()\n",
        "\n",
        "    # torch.save({'keys': prototypes_tensor, 'vals': prototype_labels_one_hot}, cache_path)\n",
        "\n",
        "    return prototypes_tensor, prototype_labels_one_hot"
      ]
    },
    {
      "cell_type": "code",
      "execution_count": 10,
      "id": "e934503f",
      "metadata": {
        "id": "e934503f"
      },
      "outputs": [],
      "source": [
        "# Evaluation\n",
        "@torch.no_grad()\n",
        "def eval_prototype_tipAdapt(model, dataset, categories, batch_size, device, label=\"\",keys = None,values = None,beta=15,p=20):\n",
        "    assert keys is not None and values is not None, \"Keys and values must be provided\"\n",
        "    model.eval()\n",
        "\n",
        "    # Remap labels into a contiguous set starting from zero\n",
        "    contig_cat2idx = {cat: idx for idx, cat in enumerate(categories)}\n",
        "    # Using a generic prompt (the default one)\n",
        "    generic_prompts = [f\"a photo of a {CLASS_NAMES[c]}, a type of flower.\" for c in categories]\n",
        "    generic_tokens = clip.tokenize(generic_prompts).to(device)\n",
        "    generic_embeddings = model.encode_text(generic_tokens)\n",
        "\n",
        "    # Normalize\n",
        "    generic_embeddings = generic_embeddings / generic_embeddings.norm(dim=-1, keepdim=True)\n",
        "\n",
        "    text_features = generic_embeddings\n",
        "\n",
        "    # Simple dataloader creation\n",
        "    dataloader = torch.utils.data.DataLoader(\n",
        "        dataset,\n",
        "        batch_size=batch_size,\n",
        "        shuffle=False,\n",
        "        num_workers=2,\n",
        "        worker_init_fn=worker_init_fn)\n",
        "\n",
        "    # Here we store the number of correct predictions we will make\n",
        "    correct_predictions = 0\n",
        "\n",
        "    for image, target in tqdm(dataloader, desc=label):\n",
        "        target = torch.Tensor([contig_cat2idx[t.item()] for t in target]).long()\n",
        "        image = image.to(device)\n",
        "        target = target.to(device)\n",
        "        image_features = model.encode_image(image)\n",
        "        image_features /= image_features.norm(dim=-1, keepdim=True)\n",
        "\n",
        "        with autocast(device):\n",
        "            S = image_features @ keys.T # Cosine similarity\n",
        "            S_trans = torch.pow(S,p)    # Lowering the impact fo the similarity\n",
        "            A = torch.exp(-beta * (1-(S)))\n",
        "            alpha = S_trans\n",
        "\n",
        "            # Combinig the score\n",
        "            logits = alpha * (A@values) + (image_features @ text_features.T)\n",
        "        predicted_class = (logits).argmax(dim=-1)\n",
        "        correct_predictions += (predicted_class == target).sum().item()\n",
        "\n",
        "    # And now we compute the accuracy\n",
        "    accuracy = correct_predictions / len(dataset)\n",
        "    return accuracy"
      ]
    },
    {
      "cell_type": "markdown",
      "id": "9be42c47",
      "metadata": {
        "id": "9be42c47"
      },
      "source": [
        "The role fo the p and beta parameters:\n",
        "- **p**:\n",
        "    Controls the influence of outliers.\n",
        "    When doing S_trans = torch.pow(S, p), the goal is to make outliers receive small to zero weight.\n",
        "\n",
        "- **$\\beta$ (Sharpness Ratio)** :\n",
        "    used in torch.exp(-$\\beta$ * (1-S)), controls the sharpness of the affinities, when $\\beta$ is large only the nearby training samples to the test image have large influences to its class prediction and vice versa."
      ]
    },
    {
      "cell_type": "markdown",
      "id": "3db8f290",
      "metadata": {
        "id": "3db8f290"
      },
      "source": [
        "The parameters $\\beta$ and $p$ have great impact on classification accuracy end were choosen using grid search with cross-validation.\n",
        "In detail, we took the 51 classes from the training set, shuffled their indices and for k times we evaluated the performance on a random spilit of 25 to simulate the base and 25 classes to simulate the novel classes, yes one was left out.\n",
        "This was done to simulate the original problem settings."
      ]
    },
    {
      "cell_type": "code",
      "execution_count": 11,
      "id": "ec10db17",
      "metadata": {
        "id": "ec10db17"
      },
      "outputs": [],
      "source": [
        "# GRID search cell, if you want to run the full search just in comment the candidates for beta and p\n",
        "@torch.no_grad()\n",
        "def create_prototype_cache_crossval_mapped(model: torch.nn.Module,\n",
        "                                          base_dataset: torch.utils.data.Subset,\n",
        "                                          base_categories: List[int],\n",
        "                                          all_categories: List[int],\n",
        "                                          device: str,\n",
        "                                          cache_path: str = 'models/prototype_cache.pt',\n",
        "                                          new: bool = False) -> Tuple[Tensor, Tensor, dict]:\n",
        "    \"\"\"\n",
        "    Create prototype cache for cross validation with consistent dimensions\n",
        "    Args:\n",
        "        model: The model to use for encoding\n",
        "        base_dataset: Dataset subset for base categories\n",
        "        base_categories: List of base category indices used in this split (e.g., [4,10,21,1,2])\n",
        "        device: Device to run on\n",
        "        cache_path: Path to save/load cache\n",
        "        new: Whether to create new cache or load existing\n",
        "\n",
        "    Returns:\n",
        "        Tuple of (prototypes_tensor, prototype_labels_one_hot, mapping)\n",
        "        - prototypes_tensor: [num_base_categories, feature_dim] - only base category prototypes\n",
        "        - prototype_labels_one_hot: [num_base_categories, len(base_categories)] - consistent one-hot\n",
        "        - mapping: dict mapping from base_category to prototype index\n",
        "    \"\"\"\n",
        "    if os.path.exists(cache_path) and not new:\n",
        "        print(\"Loading cache\")\n",
        "        cache = torch.load(cache_path, map_location=torch.device(device))\n",
        "        keys = cache['keys']\n",
        "        vals = cache['vals'].half()\n",
        "        mapping = cache.get('mapping', {})\n",
        "        return keys, vals, mapping\n",
        "\n",
        "    model.eval()\n",
        "    keys = []\n",
        "    vals = []\n",
        "\n",
        "    dataloader = torch.utils.data.DataLoader(\n",
        "        base_dataset,\n",
        "        batch_size=128,\n",
        "        shuffle=False,\n",
        "        num_workers=2,\n",
        "        worker_init_fn=worker_init_fn)\n",
        "\n",
        "    for img, target in tqdm(dataloader, desc=\"Encoding few-shot images\"):\n",
        "        img = img.to(device)\n",
        "        target = target.to(device)\n",
        "        features: Tensor = model.encode_image(img)\n",
        "        keys.append(features)\n",
        "        vals.append(target)\n",
        "\n",
        "    keys = torch.cat(keys, dim=0)\n",
        "    keys /= keys.norm(dim=-1, keepdim=True)\n",
        "    vals = torch.cat(vals, dim=0)\n",
        "\n",
        "    unique_labels = torch.unique(vals)\n",
        "    prototypes = []\n",
        "\n",
        "    # Create mapping from base category to prototype index\n",
        "    label_to_prototype_idx = {}\n",
        "\n",
        "    for idx, label in enumerate(tqdm(unique_labels, desc='Computing prototypes')):\n",
        "        class_features = keys[vals == label]\n",
        "        proto = torch.mean(class_features, dim=0)\n",
        "        proto /= proto.norm(dim=-1, keepdim=True)\n",
        "        prototypes.append(proto)\n",
        "        label_to_prototype_idx[label.item()] = idx\n",
        "\n",
        "    prototypes_tensor = torch.stack(prototypes, dim=0)\n",
        "\n",
        "    prototype_labels_one_hot = torch.eye(len(base_categories), device=device).float()\n",
        "    # Commented for google colab\n",
        "    #torch.save({\n",
        "    #    'keys': prototypes_tensor,\n",
        "    #    'vals': prototype_labels_one_hot,\n",
        "    #    'mapping': label_to_prototype_idx,\n",
        "    #    'base_categories': base_categories,\n",
        "    #    'all_categories': all_categories\n",
        "    #}, cache_path)\n",
        "\n",
        "    return prototypes_tensor, prototype_labels_one_hot, label_to_prototype_idx\n",
        "\n",
        "def find_best_params_cross_validation(model, train_set, validation_set, categories, batch_size, device, k=5, random_state=SEED):\n",
        "    \"\"\"\n",
        "    Find best hyperparameters using classwise cross validation\n",
        "\n",
        "    Args:\n",
        "        model: The model to evaluate\n",
        "        train_set: Training dataset\n",
        "        validation_set: Validation dataset\n",
        "        categories: List of all categories\n",
        "        batch_size: Batch size for evaluation\n",
        "        device: Device to run on\n",
        "        k: Number of splits for cross validation\n",
        "        random_state: Random seed for reproducibility\n",
        "\n",
        "    Returns:\n",
        "        tuple: (best_p, best_beta, cv_results)\n",
        "    \"\"\"\n",
        "    n = len(categories)\n",
        "\n",
        "    # Hyperparameter candidates based on the heatmap\n",
        "    #candidates_beta = [15, 20, 30, 35, 40, 50, 60, 80, 90]\n",
        "    #candidates_p = [15, 20, 30, 40, 50, 90, 120, 150]\n",
        "\n",
        "    candidates_beta = [30]\n",
        "    candidates_p = [40]\n",
        "    # Initialize results structure: {(beta, p): [split_results]}\n",
        "    param_results = {(beta, p): [] for beta in candidates_beta for p in candidates_p}\n",
        "\n",
        "    print(f\"Starting cross validation...\")\n",
        "\n",
        "    for split_idx in range(k):\n",
        "        print(f\"  Split {split_idx + 1}/{k}\")\n",
        "\n",
        "        # Create random base/novel splits on training data\n",
        "        random.seed(random_state + split_idx)\n",
        "        all_categories_shuffled = categories.copy()\n",
        "        random.shuffle(all_categories_shuffled)\n",
        "\n",
        "        # Split into 25 base, 25 novel, exclude 1 for compatibility\n",
        "        base_categories = all_categories_shuffled[:25]\n",
        "        novel_categories = all_categories_shuffled[25:50]\n",
        "\n",
        "        # Split datasets based on these categories\n",
        "        base_set, _ = split_data(validation_set, base_categories)\n",
        "        novel_set, _ = split_data(validation_set, novel_categories)\n",
        "        base_setCache, _ = split_data(train_set, base_categories)\n",
        "\n",
        "        # Create prototype cache for this split\n",
        "        keys, values, _ = create_prototype_cache_crossval_mapped(\n",
        "            model=model,\n",
        "            base_dataset=base_setCache,\n",
        "            base_categories=base_categories,\n",
        "            all_categories=categories,\n",
        "            device=device,\n",
        "            cache_path=f'models/prototype_tuning_split_{split_idx}.pt',\n",
        "            new=True\n",
        "        )\n",
        "\n",
        "        # Middle loop: iterate through beta values\n",
        "        for beta in candidates_beta:\n",
        "            print(f\"    Testing beta={beta}\")\n",
        "\n",
        "            # Inner loop: iterate through p values\n",
        "            for p in candidates_p:\n",
        "                print(f\"      Testing p={p}\")\n",
        "\n",
        "                # Evaluate on base categories (25 categories)\n",
        "                acc_base = eval_prototype_tipAdapt(\n",
        "                    model, base_set, base_categories, batch_size, device,\n",
        "                    label=f\"Split {split_idx+1} base - beta={beta}, p={p}\",\n",
        "                    keys=keys, values=values, beta=beta, p=p\n",
        "                )\n",
        "\n",
        "                # Evaluate on novel categories (25 categories)\n",
        "                acc_novel = eval_prototype_tipAdapt(\n",
        "                    model, novel_set, novel_categories, batch_size, device,\n",
        "                    label=f\"Split {split_idx+1} novel - beta={beta}, p={p}\",\n",
        "                    keys=keys, values=values, beta=beta, p=p\n",
        "                )\n",
        "\n",
        "                # Calculate harmonic mean\n",
        "                hm_acc = harmonic_mean(acc_base, acc_novel)\n",
        "\n",
        "                param_results[(beta, p)].append({\n",
        "                    'Split': split_idx + 1,\n",
        "                    'acc_base': acc_base,\n",
        "                    'acc_novel': acc_novel,\n",
        "                    'harmonic': hm_acc\n",
        "                })\n",
        "\n",
        "    # Convert results to the original format and calculate statistics\n",
        "    final_param_results = []\n",
        "\n",
        "    for beta in candidates_beta:\n",
        "        for p in candidates_p:\n",
        "            split_results = param_results[(beta, p)]\n",
        "\n",
        "            # Calculate mean and std across splits\n",
        "            mean_acc_base = np.mean([r['acc_base'] for r in split_results])\n",
        "            mean_acc_novel = np.mean([r['acc_novel'] for r in split_results])\n",
        "            mean_harmonic = np.mean([r['harmonic'] for r in split_results])\n",
        "\n",
        "            std_acc_base = np.std([r['acc_base'] for r in split_results])\n",
        "            std_acc_novel = np.std([r['acc_novel'] for r in split_results])\n",
        "            std_harmonic = np.std([r['harmonic'] for r in split_results])\n",
        "\n",
        "            final_param_results.append({\n",
        "                'beta': beta,\n",
        "                'p': p,\n",
        "                'mean_acc_base': mean_acc_base,\n",
        "                'mean_acc_novel': mean_acc_novel,\n",
        "                'mean_harmonic': mean_harmonic,\n",
        "                'std_acc_base': std_acc_base,\n",
        "                'std_acc_novel': std_acc_novel,\n",
        "                'std_harmonic': std_harmonic,\n",
        "                'split_results': split_results\n",
        "            })\n",
        "\n",
        "            print(f\"beta={beta}, p={p}: Mean harmonic accuracy: {mean_harmonic:.4f} ± {std_harmonic:.4f}\")\n",
        "\n",
        "    # Find best parameters based on mean harmonic accuracy\n",
        "    best_result = max(final_param_results, key=lambda x: x['mean_harmonic'])\n",
        "    best_p = best_result['p']\n",
        "    best_beta = best_result['beta']\n",
        "\n",
        "    print(f\"\\nBest parameters: beta={best_beta}, p={best_p}\")\n",
        "    print(f\"Best mean harmonic accuracy: {best_result['mean_harmonic']:.4f} ± {best_result['std_harmonic']:.4f}\")\n",
        "\n",
        "    return best_p, best_beta, final_param_results"
      ]
    },
    {
      "cell_type": "markdown",
      "id": "98e7bf9a",
      "metadata": {
        "id": "98e7bf9a"
      },
      "source": [
        "### Results\n",
        "In the end we choose beta = 30 and p = 40 even though they were not the best parameters but slightly lower (0.7351) instead of (0.7690)\n",
        "Since those requires much higher values of beta and p and when that happens the value of alpha which weights the impact of the tip adapter tends toward 0 and therefore resorts to standard clip.\n",
        "We attribute this behaviour in which standard clip scoore is higher than the weighted tip adapter due to the small dimension mof the validation set."
      ]
    },
    {
      "cell_type": "code",
      "execution_count": 12,
      "id": "fdd54116",
      "metadata": {
        "colab": {
          "base_uri": "https://localhost:8080/",
          "height": 1000
        },
        "id": "fdd54116",
        "outputId": "d13eac05-4ec3-4ef4-e275-e427574656e8"
      },
      "outputs": [
        {
          "output_type": "display_data",
          "data": {
            "text/plain": [
              "<Figure size 1400x1000 with 2 Axes>"
            ],
            "image/png": "[encoded data removed]"
          },
          "metadata": {}
        }
      ],
      "source": [
        "# This cell is used to plot the results obtained with the previous cross validation\n",
        "\n",
        "# Raw data as string\n",
        "data_str = \"\"\"\n",
        "Beta,P,Harmonic\n",
        "40,150,0.7690\n",
        "50,150,0.7690\n",
        "60,150,0.7690\n",
        "80,120,0.7690\n",
        "80,150,0.7690\n",
        "90,120,0.7690\n",
        "90,150,0.7690\n",
        "20,150,0.7686\n",
        "30,150,0.7686\n",
        "35,150,0.7686\n",
        "50,120,0.7686\n",
        "60,120,0.7686\n",
        "80,90,0.7686\n",
        "90,90,0.7686\n",
        "15,150,0.7681\n",
        "40,120,0.7676\n",
        "30,120,0.7671\n",
        "35,120,0.7671\n",
        "60,90,0.7671\n",
        "15,120,0.7660\n",
        "20,120,0.7660\n",
        "50,90,0.7660\n",
        "90,50,0.7660\n",
        "40,90,0.7642\n",
        "80,50,0.7642\n",
        "90,40,0.7642\n",
        "30,90,0.7628\n",
        "80,40,0.7628\n",
        "90,30,0.7628\n",
        "35,90,0.7624\n",
        "20,90,0.7602\n",
        "60,50,0.7599\n",
        "80,30,0.7599\n",
        "90,20,0.7594\n",
        "50,50,0.7580\n",
        "60,40,0.7580\n",
        "90,15,0.7580\n",
        "80,20,0.7577\n",
        "15,90,0.7575\n",
        "80,15,0.7562\n",
        "40,50,0.7542\n",
        "50,40,0.7537\n",
        "60,30,0.7537\n",
        "35,50,0.7513\n",
        "30,50,0.7484\n",
        "40,40,0.7479\n",
        "50,30,0.7477\n",
        "60,20,0.7477\n",
        "35,40,0.7412\n",
        "60,15,0.7410\n",
        "20,50,0.7360\n",
        "30,40,0.7351\n",
        "40,30,0.7351\n",
        "50,20,0.7351\n",
        "15,50,0.7252\n",
        "35,30,0.7242\n",
        "50,15,0.7238\n",
        "30,30,0.7115\n",
        "20,40,0.7115\n",
        "40,20,0.7112\n",
        "15,40,0.6899\n",
        "35,20,0.6880\n",
        "40,15,0.6871\n",
        "20,30,0.6638\n",
        "35,15,0.6630\n",
        "30,20,0.6628\n",
        "15,30,0.6311\n",
        "30,15,0.6283\n",
        "20,20,0.5804\n",
        "15,20,0.4951\n",
        "20,15,0.4930\n",
        "15,15,0.3991\n",
        "\"\"\"\n",
        "\n",
        "# Read into DataFrame\n",
        "df = pd.read_csv(StringIO(data_str))\n",
        "\n",
        "# Pivot the table for heatmap\n",
        "pivot_table = df.pivot(index=\"Beta\", columns=\"P\", values=\"Harmonic\")\n",
        "# Plot heatmap\n",
        "plt.figure(figsize=(14, 10))\n",
        "sns.heatmap(pivot_table, annot=True, fmt=\".4f\", cmap=\"YlGnBu\", cbar_kws={'label': 'Mean Harmonic Accuracy'})\n",
        "plt.title(\"Average Harmonic Accuracy Heatmap (Beta vs P)\", fontsize=16)\n",
        "plt.xlabel(\"P\")\n",
        "plt.ylabel(\"Beta\")\n",
        "plt.tight_layout()\n",
        "plt.show()\n"
      ]
    },
    {
      "cell_type": "code",
      "execution_count": 13,
      "id": "9fdb77ab",
      "metadata": {
        "colab": {
          "base_uri": "https://localhost:8080/"
        },
        "id": "9fdb77ab",
        "outputId": "a39da887-9fe6-4618-c0ab-2ad1cc4c7940"
      },
      "outputs": [
        {
          "output_type": "stream",
          "name": "stderr",
          "text": [
            "Encoding few-shot images: 100%|██████████| 4/4 [00:02<00:00,  1.87it/s]\n",
            "Computing prototypes: 100%|██████████| 51/51 [00:00<00:00, 780.31it/s]\n"
          ]
        },
        {
          "output_type": "stream",
          "name": "stdout",
          "text": [
            "Starting cross validation...\n",
            "  Split 1/5\n"
          ]
        },
        {
          "output_type": "stream",
          "name": "stderr",
          "text": [
            "Encoding few-shot images: 100%|██████████| 2/2 [00:01<00:00,  1.75it/s]\n",
            "Computing prototypes: 100%|██████████| 25/25 [00:00<00:00, 4804.69it/s]\n"
          ]
        },
        {
          "output_type": "stream",
          "name": "stdout",
          "text": [
            "    Testing beta=30\n",
            "      Testing p=40\n"
          ]
        },
        {
          "output_type": "stream",
          "name": "stderr",
          "text": [
            "Split 1 base - beta=30, p=40: 100%|██████████| 2/2 [00:01<00:00,  1.65it/s]\n",
            "Split 1 novel - beta=30, p=40: 100%|██████████| 2/2 [00:01<00:00,  1.68it/s]\n"
          ]
        },
        {
          "output_type": "stream",
          "name": "stdout",
          "text": [
            "  Split 2/5\n"
          ]
        },
        {
          "output_type": "stream",
          "name": "stderr",
          "text": [
            "Encoding few-shot images: 100%|██████████| 2/2 [00:01<00:00,  1.75it/s]\n",
            "Computing prototypes: 100%|██████████| 25/25 [00:00<00:00, 5036.39it/s]\n"
          ]
        },
        {
          "output_type": "stream",
          "name": "stdout",
          "text": [
            "    Testing beta=30\n",
            "      Testing p=40\n"
          ]
        },
        {
          "output_type": "stream",
          "name": "stderr",
          "text": [
            "Split 2 base - beta=30, p=40: 100%|██████████| 2/2 [00:01<00:00,  1.70it/s]\n",
            "Split 2 novel - beta=30, p=40: 100%|██████████| 2/2 [00:01<00:00,  1.68it/s]\n"
          ]
        },
        {
          "output_type": "stream",
          "name": "stdout",
          "text": [
            "  Split 3/5\n"
          ]
        },
        {
          "output_type": "stream",
          "name": "stderr",
          "text": [
            "Encoding few-shot images: 100%|██████████| 2/2 [00:01<00:00,  1.73it/s]\n",
            "Computing prototypes: 100%|██████████| 25/25 [00:00<00:00, 4982.54it/s]\n"
          ]
        },
        {
          "output_type": "stream",
          "name": "stdout",
          "text": [
            "    Testing beta=30\n",
            "      Testing p=40\n"
          ]
        },
        {
          "output_type": "stream",
          "name": "stderr",
          "text": [
            "Split 3 base - beta=30, p=40: 100%|██████████| 2/2 [00:01<00:00,  1.70it/s]\n",
            "Split 3 novel - beta=30, p=40: 100%|██████████| 2/2 [00:01<00:00,  1.70it/s]\n"
          ]
        },
        {
          "output_type": "stream",
          "name": "stdout",
          "text": [
            "  Split 4/5\n"
          ]
        },
        {
          "output_type": "stream",
          "name": "stderr",
          "text": [
            "Encoding few-shot images: 100%|██████████| 2/2 [00:01<00:00,  1.75it/s]\n",
            "Computing prototypes: 100%|██████████| 25/25 [00:00<00:00, 5241.31it/s]\n"
          ]
        },
        {
          "output_type": "stream",
          "name": "stdout",
          "text": [
            "    Testing beta=30\n",
            "      Testing p=40\n"
          ]
        },
        {
          "output_type": "stream",
          "name": "stderr",
          "text": [
            "Split 4 base - beta=30, p=40: 100%|██████████| 2/2 [00:01<00:00,  1.64it/s]\n",
            "Split 4 novel - beta=30, p=40: 100%|██████████| 2/2 [00:01<00:00,  1.68it/s]\n"
          ]
        },
        {
          "output_type": "stream",
          "name": "stdout",
          "text": [
            "  Split 5/5\n"
          ]
        },
        {
          "output_type": "stream",
          "name": "stderr",
          "text": [
            "Encoding few-shot images: 100%|██████████| 2/2 [00:01<00:00,  1.71it/s]\n",
            "Computing prototypes: 100%|██████████| 25/25 [00:00<00:00, 4782.12it/s]\n"
          ]
        },
        {
          "output_type": "stream",
          "name": "stdout",
          "text": [
            "    Testing beta=30\n",
            "      Testing p=40\n"
          ]
        },
        {
          "output_type": "stream",
          "name": "stderr",
          "text": [
            "Split 5 base - beta=30, p=40: 100%|██████████| 2/2 [00:01<00:00,  1.66it/s]\n",
            "Split 5 novel - beta=30, p=40: 100%|██████████| 2/2 [00:01<00:00,  1.70it/s]\n"
          ]
        },
        {
          "output_type": "stream",
          "name": "stdout",
          "text": [
            "beta=30, p=40: Mean harmonic accuracy: 0.7345 ± 0.0171\n",
            "\n",
            "Best parameters: beta=30, p=40\n",
            "Best mean harmonic accuracy: 0.7345 ± 0.0171\n"
          ]
        },
        {
          "output_type": "stream",
          "name": "stderr",
          "text": [
            "🧠 Tip adapter evaluation on Base Classes: 100%|██████████| 20/20 [00:09<00:00,  2.07it/s]\n",
            "🧠 Tip adapter evaluation on Novel Classes: 100%|██████████| 29/29 [00:14<00:00,  2.07it/s]"
          ]
        },
        {
          "output_type": "stream",
          "name": "stdout",
          "text": [
            "\n",
            "🔍 Base classes accuracy: 83.74%\n",
            "🔍 Novel classes accuracy: 78.24%\n",
            "🔍 Harmonic mean: 80.90%\n"
          ]
        },
        {
          "output_type": "stream",
          "name": "stderr",
          "text": [
            "\n"
          ]
        }
      ],
      "source": [
        "# Evaluation\n",
        "keys,values = create_prototype_cache(model,train_base,DEVICE)\n",
        "beta,p,results = find_best_params_cross_validation(model=model,train_set = train_base, validation_set = val_base,categories = base_classes, batch_size =128, device = DEVICE)\n",
        "tip_blend_base_accuracy = eval_prototype_tipAdapt(model=model, dataset=test_base, categories=base_classes, batch_size=128, device=DEVICE, label=\"🧠 Tip adapter evaluation on Base Classes\",keys=keys,values=values,beta=beta,p=p)\n",
        "tip_blend_novel_accuracy = eval_prototype_tipAdapt(model=model, dataset=test_novel, categories=novel_classes, batch_size=128, device=DEVICE, label=\"🧠 Tip adapter evaluation on Novel Classes\",keys=keys,values=values,beta=beta,p=p)\n",
        "hmean = harmonic_mean(tip_blend_base_accuracy, tip_blend_novel_accuracy)\n",
        "print()\n",
        "print(f\"🔍 Base classes accuracy: {tip_blend_base_accuracy*100:.2f}%\")\n",
        "print(f\"🔍 Novel classes accuracy: {tip_blend_novel_accuracy*100:.2f}%\")\n",
        "print(f\"🔍 Harmonic mean: {hmean*100:.2f}%\")\n",
        "\n"
      ]
    },
    {
      "cell_type": "markdown",
      "id": "4f06d684",
      "metadata": {
        "id": "4f06d684"
      },
      "source": [
        "### What if we finetune the cache?\n",
        "In the original tip adapter's paper better performance have been seen if the cache was finetuned"
      ]
    },
    {
      "cell_type": "code",
      "execution_count": 14,
      "id": "94b82a9d",
      "metadata": {
        "id": "94b82a9d"
      },
      "outputs": [],
      "source": [
        "import torch.optim as optim\n",
        "from torch.cuda.amp import GradScaler\n",
        "import torch.nn as nn\n",
        "import copy\n",
        "@torch.no_grad()\n",
        "# Early stopping of the finetuning on the validation set of the novel classes\n",
        "def validate_epoch(model, dataloader, keys, values, text_features,\n",
        "                   contig_cat2idx, device, beta, alpha):\n",
        "    \"\"\"Calculates accuracy for a single validation epoch.\"\"\"\n",
        "    model.eval()\n",
        "    correct_predictions = 0\n",
        "    total_samples = 0\n",
        "\n",
        "    for image, target in tqdm(dataloader, desc=\"⚙️ Validating\", leave=False):\n",
        "        target = torch.Tensor([contig_cat2idx[t.item()] for t in target]).long().to(device)\n",
        "        image = image.to(device)\n",
        "\n",
        "        with autocast(device):\n",
        "            image_features = model.encode_image(image).float()\n",
        "            image_features /= image_features.norm(dim=-1, keepdim=True)\n",
        "\n",
        "        # Tip-Adapter forward pass\n",
        "\n",
        "        A = torch.exp(-beta * (1 - image_features @ keys.T))\n",
        "\n",
        "        with autocast(device):\n",
        "            logits = alpha * (A @ values) + (image_features @ text_features.T)\n",
        "\n",
        "        predicted_class = logits.argmax(dim=-1)\n",
        "        correct_predictions += (predicted_class == target).sum().item()\n",
        "        total_samples += target.size(0)\n",
        "\n",
        "    accuracy = correct_predictions / total_samples\n",
        "    return accuracy\n",
        "\n",
        "# Finetune tip adapter's cache\n",
        "def finetune_tip_adapter_f(model, train_dataset, validation_dataset, categories, device,\n",
        "                           model_save_path=\"models/tip_adapter_f_weights.pt\",\n",
        "                           epochs=20, learning_rate=1e-3, beta=5.5, alpha=1, patience=3):\n",
        "    \"\"\"\n",
        "    Fine-tunes Tip-Adapter-F weights with early stopping based on validation accuracy.\n",
        "    \"\"\"\n",
        "    # 1. Check if a pre-trained model file already exists\n",
        "    if os.path.exists(model_save_path):\n",
        "        print(f\"✅ Found existing model weights at '{model_save_path}'. Skipping fine-tuning.\")\n",
        "        state_dict = torch.load(model_save_path, map_location=device)\n",
        "        return state_dict['keys'].to(device), state_dict['values'].to(device)\n",
        "\n",
        "    print(\"No existing weights found. Starting fine-tuning for Tip-Adapter-F.\")\n",
        "\n",
        "    # --- Initialization ---\n",
        "    model.eval() # Keep the base CLIP model frozen\n",
        "\n",
        "    # Build the initial cache to be used as trainable parameters\n",
        "    # This function should be defined elsewhere in your project\n",
        "\n",
        "    initial_keys, initial_values = create_cache(model, train_dataset, device)\n",
        "    # Fix: Create parameters with detached tensors to ensure they are leaf tensors\n",
        "    # Move to device first, then create parameters\n",
        "    initial_keys = initial_keys.detach().clone().to(device)\n",
        "    initial_values = initial_values.detach().clone().to(device)\n",
        "\n",
        "    # Ensure no gradients are tracked and tensors are contiguous\n",
        "    initial_keys.requires_grad_(False)\n",
        "    initial_values.requires_grad_(False)\n",
        "    initial_keys = initial_keys.float()\n",
        "    initial_values = initial_values.float()\n",
        "    keys = nn.Parameter(initial_keys.contiguous())\n",
        "    values = nn.Parameter(initial_values.contiguous())\n",
        "\n",
        "    optimizer = optim.AdamW([keys, values], lr=learning_rate)\n",
        "    criterion = nn.CrossEntropyLoss()\n",
        "    scaler = GradScaler()\n",
        "\n",
        "    # --- Pre-compute Text Features ---\n",
        "    contig_cat2idx = {cat: idx for idx, cat in enumerate(categories)}\n",
        "\n",
        "    generic_prompts = [f\"a photo of a {CLASS_NAMES[c]}, a type of flower.\" for c in categories]\n",
        "    generic_tokens = clip.tokenize(generic_prompts).to(device)\n",
        "\n",
        "    with torch.no_grad(), autocast(device):\n",
        "        text_features = model.encode_text(generic_tokens).float()\n",
        "        text_features /= text_features.norm(dim=-1, keepdim=True)\n",
        "\n",
        "    # --- Dataloaders ---\n",
        "    train_loader = torch.utils.data.DataLoader(train_dataset, batch_size=16, shuffle=True)\n",
        "    val_loader = torch.utils.data.DataLoader(validation_dataset, batch_size=32, shuffle=False)\n",
        "\n",
        "    # --- Early Stopping Initialization ---\n",
        "    best_val_accuracy = 0.0\n",
        "    epochs_no_improve = 0\n",
        "    best_weights = None\n",
        "\n",
        "    # --- Training & Validation Loop ---\n",
        "    for epoch in range(epochs):\n",
        "        model.eval() # Keep backbone frozen, only adapter params are trained\n",
        "        running_loss = 0.0\n",
        "\n",
        "        # Training phase\n",
        "        pbar = tqdm(train_loader, desc=f\"Epoch {epoch+1}/{epochs} | Training\")\n",
        "        for image, target in pbar:\n",
        "            target_indices = torch.Tensor([contig_cat2idx[t.item()] for t in target]).long().to(device)\n",
        "            image = image.to(device)\n",
        "\n",
        "            optimizer.zero_grad()\n",
        "            with autocast(device):\n",
        "                with torch.no_grad():\n",
        "                    image_features = model.encode_image(image).float()\n",
        "                    image_features /= image_features.norm(dim=-1, keepdim=True)\n",
        "                A = torch.exp(-beta * (1 - image_features @ keys.T))\n",
        "\n",
        "                logits = alpha * (A @ values) + (image_features @ text_features.T)\n",
        "                loss = criterion(logits, target_indices)\n",
        "\n",
        "            scaler.scale(loss).backward()\n",
        "            scaler.step(optimizer)\n",
        "            scaler.update()\n",
        "\n",
        "            running_loss += loss.item()\n",
        "            pbar.set_postfix(loss=loss.item())\n",
        "\n",
        "        avg_loss = running_loss / len(train_loader)\n",
        "\n",
        "        # Validation phase\n",
        "        val_accuracy = validate_epoch(model, val_loader, keys, values, text_features,\n",
        "                                      contig_cat2idx, device, beta, alpha)\n",
        "\n",
        "        print(f\"Epoch {epoch+1}/{epochs} | Avg Loss: {avg_loss:.4f} | Val Accuracy: {val_accuracy:.4f}\")\n",
        "\n",
        "        # Early stopping check\n",
        "        if val_accuracy > best_val_accuracy:\n",
        "            best_val_accuracy = val_accuracy\n",
        "            epochs_no_improve = 0\n",
        "            best_weights = {\n",
        "                'keys': copy.deepcopy(keys.detach()),\n",
        "                'values': copy.deepcopy(values.detach())\n",
        "            }\n",
        "            print(f\"New best validation accuracy: {best_val_accuracy:.4f}\")\n",
        "            # Commented for notebook\n",
        "            #torch.save(best_weights, model_save_path)\n",
        "        else:\n",
        "            epochs_no_improve += 1\n",
        "            print(f\"Validation accuracy did not improve. Patience: {epochs_no_improve}/{patience}\")\n",
        "\n",
        "        if epochs_no_improve >= patience:\n",
        "            print(f\"Early stopping triggered after {patience} epochs with no improvement.\")\n",
        "            break\n",
        "\n",
        "    if best_weights is None:\n",
        "        print(\"Training finished, but no improvement was observed from the initial state.\")\n",
        "        # Return the last state of the weights if no best model was ever saved\n",
        "        return keys.detach(), values.detach()\n",
        "\n",
        "    print(f\"Finished. Best validation accuracy: {best_val_accuracy:.4f}\")\n",
        "    return best_weights['keys'], best_weights['values']"
      ]
    },
    {
      "cell_type": "code",
      "execution_count": 15,
      "id": "664ba836",
      "metadata": {
        "id": "664ba836"
      },
      "outputs": [],
      "source": [
        "# In order to evaluate it we still need to compute the similarity with the prototypes and then use the finetune cache to compute the tip adapter's logits\n",
        "@torch.no_grad()\n",
        "def eval_tip_adapter_F_similarity(model, dataset, categories, batch_size, device, label=\"\",\n",
        "                  keys_prototype=None, beta=15, p=20,keys_finetuned=None,values_finetuned = None):\n",
        "    \"\"\"\n",
        "    Enhanced evaluation with multiple weighting methods\n",
        "    weighting_method: 'hard', 'smooth_sigmoid', 'smooth_learned', 'uncertainty'\n",
        "    \"\"\"\n",
        "    assert keys_prototype is not None, \"Keys must be provided for prototype\"\n",
        "    assert keys_finetuned is not None and values_finetuned is not None, \"Keys and values must be provided for the finetuned tip adapter\"\n",
        "    model.eval()\n",
        "\n",
        "    contig_cat2idx = {cat: idx for idx, cat in enumerate(categories)}\n",
        "\n",
        "    text_prompts = [f\"a photo of a {CLASS_NAMES[c]}, a type of flower.\" for c in categories]\n",
        "    text_tokens = clip.tokenize(text_prompts).to(device)\n",
        "\n",
        "    # Get text embeddings with autocast\n",
        "\n",
        "    text_features = model.encode_text(text_tokens).float()\n",
        "\n",
        "    text_features = text_features / text_features.norm(dim=-1, keepdim=True)\n",
        "\n",
        "    dataloader = torch.utils.data.DataLoader(\n",
        "        dataset,\n",
        "        batch_size=batch_size,\n",
        "        shuffle=False,\n",
        "        num_workers=2,\n",
        "        worker_init_fn=worker_init_fn)\n",
        "\n",
        "    correct_predictions = 0\n",
        "    keys_prototype = keys_prototype.float()\n",
        "    for image, target in tqdm(dataloader, desc=label):\n",
        "        target = torch.Tensor([contig_cat2idx[t.item()] for t in target]).long()\n",
        "        image = image.to(device)\n",
        "        target = target.to(device)\n",
        "\n",
        "        # Get image features with autocast\n",
        "\n",
        "        image_features = model.encode_image(image)\n",
        "\n",
        "        # Convert to float32 and normalize\n",
        "        image_features = image_features.float()\n",
        "        image_features /= image_features.norm(dim=-1, keepdim=True)\n",
        "\n",
        "        S = image_features @ keys_prototype.T\n",
        "        A = torch.exp(-beta * (1 - (image_features @ keys_finetuned.T)))\n",
        "        S_trans = torch.pow(S, p)\n",
        "        alpha = S_trans\n",
        "        with autocast(device):\n",
        "            logits = alpha * (A @ values_finetuned) + (image_features @ text_features.T)\n",
        "\n",
        "\n",
        "        predicted_class = logits.argmax(dim=-1)\n",
        "        correct_predictions += (predicted_class == target).sum().item()\n",
        "\n",
        "    accuracy = correct_predictions / len(dataset)\n",
        "    return accuracy"
      ]
    },
    {
      "cell_type": "markdown",
      "id": "cfc52d89",
      "metadata": {
        "id": "cfc52d89"
      },
      "source": [
        "### Tip adapter F evaluation"
      ]
    },
    {
      "cell_type": "code",
      "execution_count": 16,
      "id": "48a82de0",
      "metadata": {
        "colab": {
          "base_uri": "https://localhost:8080/"
        },
        "id": "48a82de0",
        "outputId": "6888294c-45cf-41f4-c9a6-c8d7cb7dba12"
      },
      "outputs": [
        {
          "output_type": "stream",
          "name": "stdout",
          "text": [
            "No existing weights found. Starting fine-tuning for Tip-Adapter-F.\n"
          ]
        },
        {
          "output_type": "stream",
          "name": "stderr",
          "text": [
            "Encoding few-shot images: 100%|██████████| 4/4 [00:02<00:00,  1.88it/s]\n",
            "/tmp/ipython-input-14-3953076352.py:73: FutureWarning: `torch.cuda.amp.GradScaler(args...)` is deprecated. Please use `torch.amp.GradScaler('cuda', args...)` instead.\n",
            "  scaler = GradScaler()\n",
            "Epoch 1/20 | Training: 100%|██████████| 32/32 [00:04<00:00,  7.33it/s, loss=0.721]\n"
          ]
        },
        {
          "output_type": "stream",
          "name": "stdout",
          "text": [
            "Epoch 1/20 | Avg Loss: 1.2549 | Val Accuracy: 0.9176\n",
            "New best validation accuracy: 0.9176\n"
          ]
        },
        {
          "output_type": "stream",
          "name": "stderr",
          "text": [
            "Epoch 2/20 | Training: 100%|██████████| 32/32 [00:04<00:00,  7.83it/s, loss=0.1]\n"
          ]
        },
        {
          "output_type": "stream",
          "name": "stdout",
          "text": [
            "Epoch 2/20 | Avg Loss: 0.3045 | Val Accuracy: 0.9294\n",
            "New best validation accuracy: 0.9294\n"
          ]
        },
        {
          "output_type": "stream",
          "name": "stderr",
          "text": [
            "Epoch 3/20 | Training: 100%|██████████| 32/32 [00:04<00:00,  7.72it/s, loss=0.0617]\n"
          ]
        },
        {
          "output_type": "stream",
          "name": "stdout",
          "text": [
            "Epoch 3/20 | Avg Loss: 0.0928 | Val Accuracy: 0.9412\n",
            "New best validation accuracy: 0.9412\n"
          ]
        },
        {
          "output_type": "stream",
          "name": "stderr",
          "text": [
            "Epoch 4/20 | Training: 100%|██████████| 32/32 [00:04<00:00,  7.98it/s, loss=0.0234]\n"
          ]
        },
        {
          "output_type": "stream",
          "name": "stdout",
          "text": [
            "Epoch 4/20 | Avg Loss: 0.0396 | Val Accuracy: 0.9431\n",
            "New best validation accuracy: 0.9431\n"
          ]
        },
        {
          "output_type": "stream",
          "name": "stderr",
          "text": [
            "Epoch 5/20 | Training: 100%|██████████| 32/32 [00:04<00:00,  7.91it/s, loss=0.0137]\n"
          ]
        },
        {
          "output_type": "stream",
          "name": "stdout",
          "text": [
            "Epoch 5/20 | Avg Loss: 0.0238 | Val Accuracy: 0.9569\n",
            "New best validation accuracy: 0.9569\n"
          ]
        },
        {
          "output_type": "stream",
          "name": "stderr",
          "text": [
            "Epoch 6/20 | Training: 100%|██████████| 32/32 [00:04<00:00,  7.92it/s, loss=0.00699]\n"
          ]
        },
        {
          "output_type": "stream",
          "name": "stdout",
          "text": [
            "Epoch 6/20 | Avg Loss: 0.0116 | Val Accuracy: 0.9549\n",
            "Validation accuracy did not improve. Patience: 1/3\n"
          ]
        },
        {
          "output_type": "stream",
          "name": "stderr",
          "text": [
            "Epoch 7/20 | Training: 100%|██████████| 32/32 [00:04<00:00,  7.89it/s, loss=0.0164]\n"
          ]
        },
        {
          "output_type": "stream",
          "name": "stdout",
          "text": [
            "Epoch 7/20 | Avg Loss: 0.0078 | Val Accuracy: 0.9569\n",
            "Validation accuracy did not improve. Patience: 2/3\n"
          ]
        },
        {
          "output_type": "stream",
          "name": "stderr",
          "text": [
            "Epoch 8/20 | Training: 100%|██████████| 32/32 [00:04<00:00,  7.84it/s, loss=0.00438]\n"
          ]
        },
        {
          "output_type": "stream",
          "name": "stdout",
          "text": [
            "Epoch 8/20 | Avg Loss: 0.0056 | Val Accuracy: 0.9549\n",
            "Validation accuracy did not improve. Patience: 3/3\n",
            "Early stopping triggered after 3 epochs with no improvement.\n",
            "Finished. Best validation accuracy: 0.9569\n"
          ]
        },
        {
          "output_type": "stream",
          "name": "stderr",
          "text": [
            "🧠 Tip adapter F evaluation on Base Classes: 100%|██████████| 20/20 [00:09<00:00,  2.07it/s]\n",
            "🧠 Tip adapter F evaluation on Novel Classes: 100%|██████████| 29/29 [00:14<00:00,  2.05it/s]"
          ]
        },
        {
          "output_type": "stream",
          "name": "stdout",
          "text": [
            "Evaluating prototype tip adapter\n",
            "🔍 Base classes accuracy: 95.59%\n",
            "🔍 Novel classes accuracy: 35.96%\n",
            "🔍 Harmonic mean: 52.26%\n"
          ]
        },
        {
          "output_type": "stream",
          "name": "stderr",
          "text": [
            "\n"
          ]
        }
      ],
      "source": [
        "keys_finetuned,values_finetuned = finetune_tip_adapter_f(model,train_base,val_base,base_classes,DEVICE)\n",
        "tip_f_base_accuracy = eval_tip_adapter_F_similarity(model=model, dataset=test_base, categories=base_classes, batch_size=128, device=DEVICE, label=\"🧠 Tip adapter F evaluation on Base Classes\",keys_prototype=keys,keys_finetuned=keys_finetuned,values_finetuned=values_finetuned,beta=beta,p=p)\n",
        "tip_f_novel_accuracy = eval_tip_adapter_F_similarity(model=model, dataset=test_novel, categories=novel_classes, batch_size=128, device=DEVICE, label=\"🧠 Tip adapter F evaluation on Novel Classes\",keys_prototype=keys,keys_finetuned=keys_finetuned,values_finetuned=values_finetuned,beta=beta,p=p)\n",
        "print(\"Evaluating prototype tip adapter\")\n",
        "print(f\"🔍 Base classes accuracy: {tip_f_base_accuracy*100:.2f}%\")\n",
        "print(f\"🔍 Novel classes accuracy: {tip_f_novel_accuracy*100:.2f}%\")\n",
        "print(f\"🔍 Harmonic mean: {harmonic_mean(tip_f_base_accuracy,tip_f_novel_accuracy)*100:.2f}%\")"
      ]
    },
    {
      "cell_type": "markdown",
      "id": "XGrIloFyLJ5g",
      "metadata": {
        "id": "XGrIloFyLJ5g"
      },
      "source": [
        "As we can see finetuning the tip adapter cache give a much higher contribution to the base classes therefore a higher shrinking of the contribution is needed and therefore another cross validation round should be run, this means that the optimal hyperparameter are also influenced by the cache. As we can see by making contribution of the cache smaller we get an improvement of the harmonic mean"
      ]
    },
    {
      "cell_type": "code",
      "execution_count": 17,
      "id": "REh0KnZdLvCX",
      "metadata": {
        "colab": {
          "base_uri": "https://localhost:8080/"
        },
        "id": "REh0KnZdLvCX",
        "outputId": "95d096ff-8d3b-4ead-c3fe-ca14dff76f50"
      },
      "outputs": [
        {
          "output_type": "stream",
          "name": "stderr",
          "text": [
            "🧠 Tip adapter F evaluation on Base Classes: 100%|██████████| 20/20 [00:09<00:00,  2.07it/s]\n",
            "🧠 Tip adapter F evaluation on Novel Classes: 100%|██████████| 29/29 [00:14<00:00,  2.05it/s]"
          ]
        },
        {
          "output_type": "stream",
          "name": "stdout",
          "text": [
            "Evaluating prototype tip adapter\n",
            "🔍 Base classes accuracy: 91.67%\n",
            "🔍 Novel classes accuracy: 74.89%\n",
            "🔍 Harmonic mean: 82.44%\n"
          ]
        },
        {
          "output_type": "stream",
          "name": "stderr",
          "text": [
            "\n"
          ]
        }
      ],
      "source": [
        "# Higher p for smaller contribution of the cache\n",
        "scaling_factor = 3\n",
        "tip_f_blend_base_accuracy = eval_tip_adapter_F_similarity(model=model, dataset=test_base, categories=base_classes, batch_size=128, device=DEVICE, label=\"🧠 Tip adapter F evaluation on Base Classes\",keys_prototype=keys,keys_finetuned=keys_finetuned,values_finetuned=values_finetuned,beta=beta,p=p*scaling_factor)\n",
        "tip_f_blend_novel_accuracy = eval_tip_adapter_F_similarity(model=model, dataset=test_novel, categories=novel_classes, batch_size=128, device=DEVICE, label=\"🧠 Tip adapter F evaluation on Novel Classes\",keys_prototype=keys,keys_finetuned=keys_finetuned,values_finetuned=values_finetuned,beta=beta,p=p*scaling_factor)\n",
        "print(\"Evaluating prototype tip adapter\")\n",
        "print(f\"🔍 Base classes accuracy: {tip_f_blend_base_accuracy*100:.2f}%\")\n",
        "print(f\"🔍 Novel classes accuracy: {tip_f_blend_novel_accuracy*100:.2f}%\")\n",
        "print(f\"🔍 Harmonic mean: {harmonic_mean(tip_f_blend_base_accuracy,tip_f_blend_novel_accuracy)*100:.2f}%\")"
      ]
    },
    {
      "cell_type": "markdown",
      "id": "08f37be1",
      "metadata": {
        "id": "08f37be1"
      },
      "source": [
        "# 3. Dynamic CoOp\n",
        "\n",
        "This section presents an advanced implementation of [Context Optimization (CoOp) [2]](https://arxiv.org/pdf/2109.01134) integrated with prototype-cache approaches, that we decided to call Dynamic CoOp for few-shot learning. We demonstrate how learnable prompt vectors can enhance CLIP's text representations while **maintaining strong generalization capabilities**.\n",
        "\n",
        "## Motivation\n",
        "Our work centers on text-based prompt tuning. After examining the paper [Unified Vision and Language Prompt Learning [3]](\"https://arxiv.org/pdf/2210.07225\") and analyzing its key figure (reproduced below), we observed that optimizing prompts in the textual domain yields significantly larger performance improvements.\n",
        "<p align=\"center\">\n",
        "  <img src=\"https://i.ibb.co/kVccbLBj/Screenshot-2025-07-18-201810.png\" />\n",
        "</p>\n",
        "\n",
        "\n",
        "## Key Contributions:\n",
        "- Dynamic similarity-based weighting for text-image feature blending\n",
        "- Comprehensive evaluation on base and novel classes\n",
        "- Comparative analysis with SOTA methods\n",
        "\n",
        "## Key Innovations:\n",
        "We introduce **dynamic alpha blending** that adaptively weights between CoOp's adapted features and CLIP's generalizable features based on similarity to training prototypes.\n",
        "\n",
        "If a test image is *similar* to something seen during few‑shot training, we trust the specialized CoOp prompts. If it is *dissimilar*, we revert toward the original CLIP prompts that generalize better. This yields an automatic, per‑image adaptation mechanism.\n",
        "\n",
        "## Theoretical Foundation\n",
        "### CoOp: Context Optimization\n",
        "Context Optimization (CoOp) revolutionizes few-shot learning by replacing hand-crafted text prompts with learnable continuous vectors.\n",
        "\n",
        "\n",
        "\n",
        "\n",
        "<p style=\"text-align: center;\">\n",
        "  <img src=\"https://i.ibb.co/YTVvcc2v/sunflwoer.png\"\n",
        "        style=\"width: 70%; height: auto;\"\n",
        "       alt=\"Screenshot\" />\n",
        "</p>\n",
        "\n",
        "### Mathematical Framework\n",
        "#### Step 1 - 2: Compute weights\n",
        "$\\alpha$ is computed as in the Tip-Adapter approach and it is a function of the similarity with the prototypes.\n",
        "\n",
        "#### Step 3: Dynamic Feature Blending\n",
        "Blend CoOp and CLIP text features based on confidence:\n",
        "\n",
        "$$f_{text}^{final} = \\alpha \\cdot f_{CoOp} + (1 - \\alpha) \\cdot f_{CLIP}$$\n",
        "\n",
        "where $\\cdot$ denotes element-wise multiplication.\n",
        "\n",
        "#### Step 4: Final Classification\n",
        "Compute similarity-based logits:\n",
        "\n",
        "$$\\text{logits} = \\text{sim}(f_I(x), f_{text}^{final})$$\n",
        "\n",
        "where $f_I(x)$ is the CLIP's image encoder.\n",
        "\n",
        "### Key Insight: Adaptive Behavior\n",
        "- **High similarity** ($\\alpha \\approx 1$) → Use CoOp features (adapted representations)\n",
        "- **Low similarity** ($\\alpha \\approx 0$) → Use CLIP features (generalizable representations)\n",
        "\n",
        "This creates an **automatic confidence mechanism** that adapts based on input characteristics."
      ]
    },
    {
      "cell_type": "markdown",
      "id": "a5562ea6",
      "metadata": {
        "id": "a5562ea6"
      },
      "source": [
        "## Model Architecture Implementation"
      ]
    },
    {
      "cell_type": "markdown",
      "id": "fca73099",
      "metadata": {
        "id": "fca73099"
      },
      "source": [
        "### Custom Text Encoder Implementation\n",
        "The TextEncoder is a crucial component that processes our learnable prompts. Unlike standard CLIP text encoding, this version handles our custom learnable context vectors alongside the class names.\n",
        "\n"
      ]
    },
    {
      "cell_type": "markdown",
      "id": "d7b6cee4",
      "metadata": {
        "id": "d7b6cee4"
      },
      "source": [
        "We fix a random seed (`set_seed(42)`) to make training and evaluation reproducible.  "
      ]
    },
    {
      "cell_type": "code",
      "execution_count": 18,
      "id": "38134ca6",
      "metadata": {
        "id": "38134ca6"
      },
      "outputs": [],
      "source": [
        "# Set the seed for reproducibility\n",
        "set_seed(SEED)"
      ]
    },
    {
      "cell_type": "code",
      "execution_count": 19,
      "id": "61e2f610",
      "metadata": {
        "id": "61e2f610"
      },
      "outputs": [],
      "source": [
        "_tokenizer = _Tokenizer()\n",
        "# Context length for CoOp\n",
        "context = 8\n",
        "# Just to make sure we are using the right device\n",
        "DEVICE = \"cuda\" if torch.cuda.is_available() else \"cpu\"\n",
        "\n",
        "class TextEncoder(nn.Module):\n",
        "    #  Extract CLIP's text processing pipeline\n",
        "    def __init__(self, clip_model):\n",
        "        super().__init__()\n",
        "        self.transformer = clip_model.transformer # The transformer layers\n",
        "        self.positional_embedding = clip_model.positional_embedding # Position info\n",
        "        self.ln_final = clip_model.ln_final # Final layer norm\n",
        "        self.text_projection = clip_model.text_projection # Project to joint space\n",
        "        self.dtype = clip_model.dtype\n",
        "\n",
        "    # The forward method processes the prompts and tokenized prompts\n",
        "    def forward(self, prompts, tokenized_prompts):\n",
        "        x = prompts + self.positional_embedding.type(self.dtype)\n",
        "        x = x.permute(1, 0, 2)  # NLD -> LND\n",
        "        x = self.transformer(x)\n",
        "        x = x.permute(1, 0, 2)  # LND -> NLD\n",
        "        x = self.ln_final(x).type(self.dtype)\n",
        "\n",
        "        # x.shape = [batch_size, n_ctx, transformer.width]\n",
        "        # Take features from the eot embedding (eot_token is the highest number in each sequence)\n",
        "        x = x[torch.arange(x.shape[0]), tokenized_prompts.argmax(dim=-1)].float() @ self.text_projection\n",
        "\n",
        "        return x\n"
      ]
    },
    {
      "cell_type": "markdown",
      "id": "82109945",
      "metadata": {
        "id": "82109945"
      },
      "source": [
        "### Prompt Learner Implementation\n",
        "The *PromptLearner* is where the magic of learnable contexts happens. Instead of using fixed prompts like \"a photo of a [CLASS]\", we learn optimal context vectors that can better represent each class."
      ]
    },
    {
      "cell_type": "code",
      "execution_count": 20,
      "id": "94b1ab7f",
      "metadata": {
        "id": "94b1ab7f"
      },
      "outputs": [],
      "source": [
        "\n",
        "class PromptLearner(nn.Module):\n",
        "    def __init__(self, categories, clip_model: clip.model.CLIP, n_ctx = 8):\n",
        "        # Initialize learnable context vectors for each class\n",
        "        super().__init__()\n",
        "        n_cls = len(categories)\n",
        "        dtype = clip_model.dtype\n",
        "        ctx_dim = clip_model.ln_final.weight.shape[0]\n",
        "\n",
        "        # Create trainable parameters: [n_classes, n_context_tokens, embedding_dim]\n",
        "        ctx_vectors = torch.empty(n_cls, n_ctx, ctx_dim, dtype=dtype)\n",
        "        nn.init.normal_(ctx_vectors, std=0.02)\n",
        "\n",
        "        # Create the template: [X] [X] [X] [X] [CLASS_NAME]\n",
        "        prompt_prefix = \" \".join([\"X\"] * n_ctx)\n",
        "\n",
        "        print(f\"Number of context words (tokens): {n_ctx}\")\n",
        "        self.ctx = nn.Parameter(ctx_vectors)\n",
        "\n",
        "        class_names = [CLASS_NAMES[c].replace(\"_\",\"\") for c in categories]\n",
        "        name_lens = [len(_tokenizer.encode(name)) for name in class_names]\n",
        "        prompts = [prompt_prefix + \" \" + name + \" .\" for name in class_names]\n",
        "\n",
        "        # Tokenize the complete prompts\n",
        "        tokenized_prompts = torch.cat([clip.tokenize(p) for p in prompts]).to(DEVICE)\n",
        "\n",
        "        # Get the embedding for the complete tokenized prompts\n",
        "        with torch.no_grad():\n",
        "            embedding = clip_model.token_embedding(tokenized_prompts).type(dtype).to(DEVICE)\n",
        "\n",
        "        # Split the embeddings into prefix (SOS), context (learnable), suffix (class + EOS)\n",
        "        self.register_buffer(\"token_prefix\", embedding[:, :1, :])  # SOS\n",
        "        self.register_buffer(\"token_suffix\", embedding[:, 1 + n_ctx :, :])  # CLS, EOS\n",
        "\n",
        "        self.n_cls = n_cls\n",
        "        self.n_ctx = n_ctx\n",
        "        self.tokenized_prompts = tokenized_prompts  # torch.Tensor\n",
        "        self.name_lens = name_lens\n",
        "\n",
        "    def forward(self):\n",
        "        ctx = self.ctx\n",
        "        if ctx.dim == 2:\n",
        "            ctx = ctx.unsqueeze(0).expand(self.n_cls, -1, -1)\n",
        "\n",
        "        prefix = self.token_prefix\n",
        "        suffix = self.token_suffix\n",
        "\n",
        "        prompts = torch.cat([\n",
        "            prefix,\n",
        "            ctx,\n",
        "            suffix\n",
        "        ], dim = 1)\n",
        "\n",
        "        return prompts"
      ]
    },
    {
      "cell_type": "markdown",
      "id": "4f955dd6",
      "metadata": {
        "id": "4f955dd6"
      },
      "source": [
        "### Main CustomClip Model\n",
        "This is our main model that integrates all components. The key innovation here is that we train on base classes but maintain representations for all classes to enable evaluation on novel classes."
      ]
    },
    {
      "cell_type": "code",
      "execution_count": 21,
      "id": "55c096fc",
      "metadata": {
        "id": "55c096fc"
      },
      "outputs": [],
      "source": [
        "\n",
        "class CustomClip(nn.Module):\n",
        "    def __init__(self, base_categories, clip_model: clip.model.CLIP, context=8, all_classes_indices=None):\n",
        "        super().__init__()\n",
        "\n",
        "        # Store which classes are base vs novel\n",
        "        self.base_categories = base_categories\n",
        "        self.all_classes_indices = all_classes_indices if all_classes_indices is not None else list(range(102))\n",
        "\n",
        "        # Initialize PromptLearner with ALL classes, not just base classes\n",
        "        self.prompt_learner = PromptLearner(\n",
        "            categories=self.all_classes_indices,  # Use all 102 classes\n",
        "            clip_model=clip_model,\n",
        "            n_ctx=context\n",
        "        )\n",
        "\n",
        "        self.tokenize_prompts = self.prompt_learner.tokenized_prompts\n",
        "        self.image_encoder = clip_model.visual\n",
        "        self.text_encoder = TextEncoder(clip_model)\n",
        "        self.logit_scale = clip_model.logit_scale\n",
        "        self.dtype = clip_model.dtype\n",
        "\n",
        "        # Create mapping from base class indices to positions in full output\n",
        "        self.base_class_positions = {cls_idx: pos for pos, cls_idx in enumerate(base_categories)}\n",
        "\n",
        "    def forward(self, image):\n",
        "        if self.training:\n",
        "            image = image.type(self.dtype)\n",
        "        else:\n",
        "            image = image.float()\n",
        "\n",
        "        image_features = self.image_encoder(image)\n",
        "        prompts = self.prompt_learner()  # Now returns prompts for ALL 102 classes\n",
        "        tokenized_prompts = self.tokenize_prompts\n",
        "        text_features = self.text_encoder(prompts, tokenized_prompts)\n",
        "\n",
        "        image_features = image_features / image_features.norm(dim=-1, keepdim=True)\n",
        "        text_features = text_features / text_features.norm(dim=-1, keepdim=True)\n",
        "\n",
        "        logit_scale = self.logit_scale.exp()\n",
        "        logits = logit_scale * image_features @ text_features.t()\n",
        "\n",
        "        return logits  # Shape: [batch_size, 102]\n",
        "\n",
        "    def get_base_logits(self, image):\n",
        "        \"\"\"Get logits only for base classes during training\"\"\"\n",
        "        full_logits = self.forward(image)  # [batch_size, 102]\n",
        "        base_logits = full_logits[:, self.base_categories]  # [batch_size, 51]\n",
        "        return base_logits"
      ]
    },
    {
      "cell_type": "markdown",
      "id": "f8c19231",
      "metadata": {
        "id": "f8c19231"
      },
      "source": [
        "### Evaluation"
      ]
    },
    {
      "cell_type": "markdown",
      "id": "bf5c0f82",
      "metadata": {
        "id": "bf5c0f82"
      },
      "source": [
        "The **eval_custom_clip** function provides a flexible evaluation framework that works with any subset of the 102 flower classes and that's essential for cross-validation, where each fold evaluates on different category combination.\n",
        "\n",
        "Just to clarify, the cross-validation has been done only on base classes, splitting them into base and novel (both subsets are still from the original base classes, of course), and this led us to code this fuction as follow:"
      ]
    },
    {
      "cell_type": "code",
      "execution_count": 22,
      "id": "51589c06",
      "metadata": {
        "id": "51589c06"
      },
      "outputs": [],
      "source": [
        "@torch.no_grad()\n",
        "def eval_custom_clip(model, dataset, categories, batch_size, device, label=\"\"):\n",
        "\n",
        "    # Ensure model is in evaluation mode and on the correct device\n",
        "    model.eval()\n",
        "    model.float()\n",
        "\n",
        "\n",
        "    # Create a mapping from original labels to contiguous indices\n",
        "    label_map = {original_label: new_label for new_label, original_label in enumerate(categories)}\n",
        "    dataloader = torch.utils.data.DataLoader(\n",
        "        dataset,\n",
        "        batch_size=batch_size,\n",
        "        shuffle=False,\n",
        "        num_workers=2,\n",
        "        worker_init_fn=worker_init_fn)\n",
        "\n",
        "    correct_predictions = 0\n",
        "    for image, target in tqdm(dataloader, desc=label):\n",
        "        # Map targets to contiguous indices for this evaluation\n",
        "        mapped_target = torch.tensor([label_map[t.item()] for t in target], dtype=torch.long, device=device)\n",
        "        image = image.to(device)\n",
        "\n",
        "        # Get full logits for all 102 classes\n",
        "        full_output = model(image)  # Shape: [batch_size, 102]\n",
        "\n",
        "        # Extract logits only for the classes being evaluated\n",
        "        relevant_logits = full_output[:, categories]  # Shape: [batchsize, len(categories)]\n",
        "\n",
        "        # Get the predicted class indices\n",
        "        _, predicted = torch.max(relevant_logits, 1)\n",
        "        # Compare predictions with the mapped target\n",
        "        correct_predictions += (predicted == mapped_target).sum().item()\n",
        "\n",
        "    accuracy = correct_predictions / len(dataset)\n",
        "    return accuracy\n"
      ]
    },
    {
      "cell_type": "markdown",
      "id": "04c3ce81",
      "metadata": {
        "id": "04c3ce81"
      },
      "source": [
        "### Training Function Implementation\n",
        "Our training function implements several best practices for few-shot learning, including:\n",
        "#### 1) gradient clipping\n",
        "Prevent exploding gradients by capping the global L2 norm of the prompt‑learner’s gradients before each optimizer step:\n",
        "```python\n",
        "if grad_clip_norm is not None:\n",
        "    scaler.unscale_(optimizer)  # Undo AMP scaling before clipping\n",
        "    torch.nn.utils.clip_grad_norm_(\n",
        "        model.prompt_learner.parameters(),\n",
        "        max_norm=grad_clip_norm\n",
        "    )\n",
        "```\n",
        "\n",
        "#### 2) mixed precision training\n",
        "Leverage FP16 for most tensor operations to reduce memory footprint and speed up computation, while retaining FP32 where needed for numerical stability:\n",
        "```python\n",
        "from torch.cuda.amp import autocast, GradScaler\n",
        "scaler = GradScaler()\n",
        "with autocast(device_type='cuda'):\n",
        "    logits = model.get_base_logits(images)\n",
        "    loss = F.cross_entropy(logits, targets)\n",
        "scaler.scale(loss).backward()\n",
        "scaler.step(optimizer)\n",
        "scaler.update()\n",
        "\n",
        "```\n",
        "\n",
        "#### 3) early stopping to prevent overfitting\n",
        "Monitor validation accuracy and halt training if no improvement is seen for a fixed number of consecutive epochs (`patience`), saving only the best model checkpoint:\n",
        "```python\n",
        "best_acc = -float('infinity')\n",
        "patience = 3\n",
        "best_model = None\n",
        "\n",
        "for epoch in range(num_epochs):\n",
        "    # ... training loop ...\n",
        "    \n",
        "    dev_acc = eval_custom_clip(model, dev_set, base_classes, 128, device, \"dev acc\")\n",
        "    \n",
        "    if dev_acc < best_acc:\n",
        "        patience -= 1\n",
        "        if patience == 0:\n",
        "            break  # Stop training\n",
        "    else:\n",
        "        patience = 3  # Reset patience\n",
        "        best_acc = dev_acc\n",
        "        best_model = copy.deepcopy(model)  # Save best model\n",
        "        torch.save(model.state_dict(), model_path)\n",
        "\n",
        "```"
      ]
    },
    {
      "cell_type": "code",
      "execution_count": 23,
      "id": "d8072091",
      "metadata": {
        "id": "d8072091"
      },
      "outputs": [],
      "source": [
        "def custom_clip_training(model: CustomClip, train_set, dev_set, device, base_classes, learning_rate=0.001, num_epochs=10, grad_clip_norm=1.0, model_path=None):\n",
        "\n",
        "    assert model_path is not None\n",
        "    model.to(device)\n",
        "\n",
        "    train_loader = torch.utils.data.DataLoader(\n",
        "        train_set,\n",
        "        batch_size=32,\n",
        "        shuffle=True,\n",
        "        num_workers=1,\n",
        "        worker_init_fn=worker_init_fn)\n",
        "\n",
        "    for name, param in model.prompt_learner.named_parameters():\n",
        "        if param.dtype != torch.float32:\n",
        "            print(f\"Warning: Prompt learner parameter '{name}' has dtype {param.dtype}. Converting to float32 for AMP compatibility.\")\n",
        "            param.data = param.data.float()\n",
        "            if param.grad is not None:\n",
        "                param.grad.data = param.grad.data.float()\n",
        "    optimizer = torch.optim.AdamW(params=model.prompt_learner.parameters(), lr=learning_rate)\n",
        "    # Create a mapping from original labels to contiguous indices cuz the model expects contiguous indices\n",
        "    label_map = {original_label: new_label for new_label, original_label in enumerate(base_classes)}\n",
        "\n",
        "    scaler = GradScaler()\n",
        "\n",
        "    best_acc = -float('infinity')\n",
        "    patience = 3\n",
        "    best_model = None\n",
        "\n",
        "    for epoch in range(num_epochs):\n",
        "        model.train()\n",
        "\n",
        "        running_loss = 0.0\n",
        "        running_corrects = 0\n",
        "        running_total = 0\n",
        "\n",
        "        progress_bar = tqdm(train_loader, desc=f\"Epoch {epoch+1}/{num_epochs}\", leave=False)\n",
        "\n",
        "        for i, (image, target) in enumerate(progress_bar):\n",
        "            image = image.to(device)\n",
        "            target = target.to(device)\n",
        "\n",
        "            # Map targets to contiguous indices for this training step\n",
        "            mapped_target = torch.tensor([label_map[t.item()] for t in target], dtype=torch.long, device=device)\n",
        "\n",
        "            optimizer.zero_grad()\n",
        "\n",
        "            with autocast(device_type=device):\n",
        "                output = model(image)\n",
        "                loss = F.cross_entropy(output, mapped_target)\n",
        "\n",
        "            scaler.scale(loss).backward()\n",
        "\n",
        "            if grad_clip_norm is not None:\n",
        "                scaler.unscale_(optimizer)\n",
        "                torch.nn.utils.clip_grad_norm_(model.prompt_learner.parameters(), max_norm=grad_clip_norm)\n",
        "            scaler.step(optimizer)\n",
        "            scaler.update()\n",
        "            running_loss += loss.item() * image.size(0)\n",
        "            _, predicted = torch.max(output, 1)\n",
        "            running_corrects += (predicted == mapped_target).sum().item()\n",
        "            running_total += mapped_target.size(0)\n",
        "            progress_bar.set_postfix(loss=loss.item(), acc=(running_corrects/running_total if running_total > 0 else 0.0))\n",
        "        epoch_loss = running_loss / len(train_loader)\n",
        "        epoch_acc = running_corrects / running_total\n",
        "        dev_acc = eval_custom_clip(model, dev_set, base_classes, 128, device, \"dev acc\")\n",
        "        if dev_acc < best_acc:\n",
        "            patience -= 1\n",
        "            if patience == 0:\n",
        "                break\n",
        "        else:\n",
        "            patience = 3\n",
        "            best_acc = dev_acc\n",
        "            # Save the best model\n",
        "            best_model = copy.deepcopy(model)\n",
        "            torch.save(model.state_dict(), model_path)\n",
        "        print(\"dev acc:\", dev_acc)\n",
        "        print(f'Epoch {epoch+1}/{num_epochs} - Loss: {epoch_loss:.4f} - Acc: {epoch_acc:.4f}')\n",
        "    print(\"Training finished!\")\n",
        "    return best_model"
      ]
    },
    {
      "cell_type": "markdown",
      "id": "9ea34bc0",
      "metadata": {
        "id": "9ea34bc0"
      },
      "source": [
        "## Dynamic Alpha Blending Evaluation\n",
        "This is the core of our Dynamic CoOp innovation: the evaluation function that implements dynamic blending between CoOp and CLIP features based on similarity to training prototypes."
      ]
    },
    {
      "cell_type": "code",
      "execution_count": 24,
      "id": "5bb28438",
      "metadata": {
        "id": "5bb28438"
      },
      "outputs": [],
      "source": [
        "@torch.no_grad()\n",
        "def eval_coop_blending_dynamic_alpha(cp_model, clip_model, dataset, categories, batch_size, device, label=\"\", keys=None, p=20):\n",
        "    cp_model.eval()\n",
        "    clip_model.eval()\n",
        "\n",
        "    # Create mapping from category indices to their names\n",
        "    cat2idx = {cat: i for i, cat in enumerate(categories)}\n",
        "\n",
        "    # Create generic CLIP prompts for the evaluation categories\n",
        "    generic_prompts = [f\"a photo of a {CLASS_NAMES[c]}, a type of flower.\" for c in categories]\n",
        "    generic_tokens = clip.tokenize(generic_prompts).to(device)\n",
        "    clip_text_features = clip_model.encode_text(generic_tokens)\n",
        "    clip_text_features = clip_text_features / clip_text_features.norm(dim=-1, keepdim=True)\n",
        "\n",
        "    # Get CoOp text features for ALL classes that the model was trained on\n",
        "    coop_text_features = cp_model.prompt_learner()\n",
        "    coop_tokenized_prompts = cp_model.prompt_learner.tokenized_prompts\n",
        "    coop_text_features = cp_model.text_encoder(coop_text_features, coop_tokenized_prompts)\n",
        "    coop_text_features = coop_text_features / coop_text_features.norm(dim=-1, keepdim=True)\n",
        "\n",
        "    # Ensure that the CoOp model has all_classes_indices defined\n",
        "    coop_category_positions = []\n",
        "    for cat in categories:\n",
        "        try:\n",
        "            # Find the position of this category in the CoOp model's all_classes_indices\n",
        "            position = cp_model.all_classes_indices.index(cat)\n",
        "            coop_category_positions.append(position)\n",
        "        # If the category is not found, raise an error\n",
        "        except ValueError:\n",
        "            raise ValueError(f\"Category {cat} not found in cp_model.all_classes_indices {cp_model.all_classes_indices}\")\n",
        "\n",
        "    # Extract only the relevant CoOp features for evaluation categories\n",
        "    coop_text_features = coop_text_features[coop_category_positions, :]\n",
        "\n",
        "    dataloader = torch.utils.data.DataLoader(\n",
        "        dataset,\n",
        "        batch_size=batch_size,\n",
        "        shuffle=False,\n",
        "        num_workers=2,\n",
        "        worker_init_fn=worker_init_fn)\n",
        "    correct = 0\n",
        "    total = 0\n",
        "\n",
        "    for images, targets in tqdm(dataloader, desc=label):\n",
        "        images = images.to(device)\n",
        "        # Map targets to evaluation category indices (0, 1, 2, ..., len(categories)-1)\n",
        "        targets = torch.Tensor([cat2idx[t.item()] for t in targets]).long().to(device)\n",
        "\n",
        "        # Get image features from CLIP\n",
        "        image_features = clip_model.encode_image(images)\n",
        "        image_features = image_features / image_features.norm(dim=-1, keepdim=True)\n",
        "\n",
        "        if keys is None:\n",
        "            raise ValueError(\"The 'keys' argument must not be None.\")\n",
        "\n",
        "        # Compute similarity and blending weights\n",
        "        with autocast(device):\n",
        "            # Compute similarity scores\n",
        "            S = image_features @ keys.T\n",
        "            # Apply power transformation to the similarity scores\n",
        "            S_trans = torch.pow(S, p)\n",
        "            # Compute blending weights\n",
        "            alpha = S_trans\n",
        "\n",
        "        # Blend features: alpha * coop + (1-alpha) * clip\n",
        "        blend_feat = alpha.unsqueeze(2) * coop_text_features.unsqueeze(0) + (1 - alpha.unsqueeze(2)) * clip_text_features.unsqueeze(0)\n",
        "        blend_feat = blend_feat / blend_feat.norm(dim=-1, keepdim=True)\n",
        "\n",
        "        # Compute logits and predictions\n",
        "        logits = torch.einsum(\"bd,bkd->bk\", image_features, blend_feat)\n",
        "        pred = logits.argmax(dim=1)\n",
        "\n",
        "        correct += (pred == targets).sum().item()\n",
        "        total += targets.size(0)\n",
        "\n",
        "    return correct / total"
      ]
    },
    {
      "cell_type": "markdown",
      "id": "71a9429d",
      "metadata": {
        "id": "71a9429d"
      },
      "source": [
        "## Model Training\n",
        "Now we'll initialize and train our CustomClip model. We use a context length of 8, which provides a good balance between expressiveness and overfitting prevention."
      ]
    },
    {
      "cell_type": "code",
      "execution_count": 25,
      "id": "e682a7f7",
      "metadata": {
        "colab": {
          "base_uri": "https://localhost:8080/"
        },
        "id": "e682a7f7",
        "outputId": "f51049f0-b8cc-464f-e51a-4023fbbd02a1"
      },
      "outputs": [
        {
          "output_type": "stream",
          "name": "stdout",
          "text": [
            "Number of context words (tokens): 8\n"
          ]
        },
        {
          "output_type": "stream",
          "name": "stderr",
          "text": [
            "/tmp/ipython-input-23-1975236314.py:23: FutureWarning: `torch.cuda.amp.GradScaler(args...)` is deprecated. Please use `torch.amp.GradScaler('cuda', args...)` instead.\n",
            "  scaler = GradScaler()\n"
          ]
        },
        {
          "output_type": "stream",
          "name": "stdout",
          "text": [
            "Warning: Prompt learner parameter 'ctx' has dtype torch.float16. Converting to float32 for AMP compatibility.\n"
          ]
        },
        {
          "output_type": "stream",
          "name": "stderr",
          "text": [
            "dev acc: 100%|██████████| 4/4 [00:02<00:00,  1.46it/s]\n"
          ]
        },
        {
          "output_type": "stream",
          "name": "stdout",
          "text": [
            "dev acc: 0.7058823529411765\n",
            "Epoch 1/10 - Loss: 101.6616 - Acc: 0.4314\n"
          ]
        },
        {
          "output_type": "stream",
          "name": "stderr",
          "text": [
            "dev acc: 100%|██████████| 4/4 [00:02<00:00,  1.47it/s]\n"
          ]
        },
        {
          "output_type": "stream",
          "name": "stdout",
          "text": [
            "dev acc: 0.8254901960784313\n",
            "Epoch 2/10 - Loss: 23.1739 - Acc: 0.8059\n"
          ]
        },
        {
          "output_type": "stream",
          "name": "stderr",
          "text": [
            "dev acc: 100%|██████████| 4/4 [00:02<00:00,  1.44it/s]\n"
          ]
        },
        {
          "output_type": "stream",
          "name": "stdout",
          "text": [
            "dev acc: 0.8725490196078431\n",
            "Epoch 3/10 - Loss: 9.2327 - Acc: 0.9118\n"
          ]
        },
        {
          "output_type": "stream",
          "name": "stderr",
          "text": [
            "dev acc: 100%|██████████| 4/4 [00:02<00:00,  1.46it/s]\n"
          ]
        },
        {
          "output_type": "stream",
          "name": "stdout",
          "text": [
            "dev acc: 0.9176470588235294\n",
            "Epoch 4/10 - Loss: 4.0845 - Acc: 0.9608\n"
          ]
        },
        {
          "output_type": "stream",
          "name": "stderr",
          "text": [
            "dev acc: 100%|██████████| 4/4 [00:02<00:00,  1.45it/s]\n"
          ]
        },
        {
          "output_type": "stream",
          "name": "stdout",
          "text": [
            "dev acc: 0.9568627450980393\n",
            "Epoch 5/10 - Loss: 2.3017 - Acc: 0.9784\n"
          ]
        },
        {
          "output_type": "stream",
          "name": "stderr",
          "text": [
            "dev acc: 100%|██████████| 4/4 [00:02<00:00,  1.46it/s]\n"
          ]
        },
        {
          "output_type": "stream",
          "name": "stdout",
          "text": [
            "dev acc: 0.9431372549019608\n",
            "Epoch 6/10 - Loss: 1.2647 - Acc: 0.9863\n"
          ]
        },
        {
          "output_type": "stream",
          "name": "stderr",
          "text": [
            "dev acc: 100%|██████████| 4/4 [00:02<00:00,  1.48it/s]\n"
          ]
        },
        {
          "output_type": "stream",
          "name": "stdout",
          "text": [
            "dev acc: 0.9490196078431372\n",
            "Epoch 7/10 - Loss: 0.7538 - Acc: 0.9941\n"
          ]
        },
        {
          "output_type": "stream",
          "name": "stderr",
          "text": [
            "dev acc: 100%|██████████| 4/4 [00:02<00:00,  1.46it/s]"
          ]
        },
        {
          "output_type": "stream",
          "name": "stdout",
          "text": [
            "Training finished!\n"
          ]
        },
        {
          "output_type": "stream",
          "name": "stderr",
          "text": [
            "\n"
          ]
        }
      ],
      "source": [
        "# Context length for CoOp\n",
        "context = 8\n",
        "model_path = 'models/coop_model.pth'\n",
        "\n",
        "cp = CustomClip(base_categories=base_classes, clip_model=model, context=context,all_classes_indices=base_classes+novel_classes)\n",
        "\n",
        "# Train the model\n",
        "cp = custom_clip_training(model=cp, train_set=train_base, dev_set=val_base, device=DEVICE, base_classes=base_classes, model_path=model_path)"
      ]
    },
    {
      "cell_type": "markdown",
      "id": "f025fcae",
      "metadata": {
        "id": "f025fcae"
      },
      "source": [
        "### Baseline CoOp Evaluation\n",
        "Let's evaluate our baseline CoOp performance on both base and novel classes. This will serve as our comparison point for the dynamic blending approach.\n",
        "We expect a good score on base classes and not very much on novel classes obviously, and indeed:"
      ]
    },
    {
      "cell_type": "code",
      "execution_count": 26,
      "id": "27984cfd",
      "metadata": {
        "colab": {
          "base_uri": "https://localhost:8080/"
        },
        "id": "27984cfd",
        "outputId": "cc5d3de8-0f2a-44c2-eb9e-f463c284fd3f"
      },
      "outputs": [
        {
          "output_type": "stream",
          "name": "stderr",
          "text": [
            "CoOp evaluation on Base Classes: 100%|██████████| 20/20 [00:10<00:00,  1.97it/s]\n",
            "CoOp evaluation on Novel Classes: 100%|██████████| 29/29 [00:14<00:00,  1.98it/s]"
          ]
        },
        {
          "output_type": "stream",
          "name": "stdout",
          "text": [
            "\n",
            "=== BASELINE COOP RESULTS ===\n",
            "Base classes accuracy: 92.68%\n",
            "Novel classes accuracy: 14.53%\n",
            "Harmonic mean: 25.12%\n"
          ]
        },
        {
          "output_type": "stream",
          "name": "stderr",
          "text": [
            "\n"
          ]
        }
      ],
      "source": [
        "coop_base_accuracy = eval_custom_clip(\n",
        "    model=cp,\n",
        "    dataset=test_base,\n",
        "    categories=base_classes,\n",
        "    batch_size=128,\n",
        "    device=DEVICE,\n",
        "    label=\"CoOp evaluation on Base Classes\"\n",
        "    )\n",
        "coop_novel_accuracy = eval_custom_clip(\n",
        "    model=cp,\n",
        "    dataset=test_novel,\n",
        "    categories=novel_classes,\n",
        "    batch_size=128,\n",
        "    device=DEVICE,\n",
        "    label=\"CoOp evaluation on Novel Classes\"\n",
        "    )\n",
        "\n",
        "print(\"\\n=== BASELINE COOP RESULTS ===\")\n",
        "print(f\"Base classes accuracy: {coop_base_accuracy*100:.2f}%\")\n",
        "print(f\"Novel classes accuracy: {coop_novel_accuracy*100:.2f}%\")\n",
        "print(f\"Harmonic mean: {harmonic_mean(coop_base_accuracy, coop_novel_accuracy)*100:.2f}%\")"
      ]
    },
    {
      "cell_type": "markdown",
      "id": "09e149ca",
      "metadata": {
        "id": "09e149ca"
      },
      "source": [
        "### Hyperparameter Tuning with cross-validation\n",
        "We implement a robust cross-validation framework to find the optimal power **p** transformation parameter p that maximizes performance across both base and novel classes."
      ]
    },
    {
      "cell_type": "code",
      "execution_count": 27,
      "id": "a35c9314",
      "metadata": {
        "id": "a35c9314"
      },
      "outputs": [],
      "source": [
        "@torch.no_grad()\n",
        "def create_prototype_cache_cc_mapped(\n",
        "    model: torch.nn.Module,\n",
        "    base_dataset: torch.utils.data.Subset,\n",
        "    base_categories: List[int],\n",
        "    all_categories: List[int],\n",
        "    device: str,\n",
        "    cache_path: str = 'models/prototype_cache.pt',\n",
        "    new: bool = False) -> Tuple[Tensor, Tensor, dict]:\n",
        "\n",
        "    # just to make sure we are using the right device\n",
        "    device = \"cuda\" if torch.cuda.is_available() else \"cpu\"\n",
        "\n",
        "    if os.path.exists(cache_path) and not new:\n",
        "        print(\"Loading cache\")\n",
        "        cache = torch.load(cache_path, map_location=torch.device(device))\n",
        "        keys = cache['keys']\n",
        "        vals = cache['vals'].half()\n",
        "        mapping = cache.get('mapping', {})\n",
        "        return keys, vals, mapping\n",
        "\n",
        "    model.eval()\n",
        "    keys = []\n",
        "    vals = []\n",
        "\n",
        "    dataloader = torch.utils.data.DataLoader(\n",
        "        base_dataset,\n",
        "        batch_size=128,\n",
        "        shuffle=False,\n",
        "        num_workers=2,\n",
        "        worker_init_fn=worker_init_fn)\n",
        "\n",
        "    for img, target in tqdm(dataloader, desc=\"Encoding few-shot images\"):\n",
        "        img = img.to(device)\n",
        "        target = target.to(device)\n",
        "        features: Tensor = model.encode_image(img)\n",
        "        keys.append(features)\n",
        "        vals.append(target)\n",
        "\n",
        "    keys = torch.cat(keys, dim=0)\n",
        "    keys /= keys.norm(dim=-1, keepdim=True)\n",
        "    vals = torch.cat(vals, dim=0)\n",
        "\n",
        "    unique_labels = torch.unique(vals)\n",
        "    prototypes = []\n",
        "    prototype_labels = []\n",
        "\n",
        "    # Create mapping from base category to prototype index\n",
        "    label_to_prototype_idx = {}\n",
        "\n",
        "    # Iterate over unique labels and compute prototypes\n",
        "    for idx, label in enumerate(tqdm(unique_labels, desc='Computing prototypes')):\n",
        "        class_features = keys[vals == label]\n",
        "        proto = torch.mean(class_features, dim=0)\n",
        "        proto /= proto.norm(dim=-1, keepdim=True)\n",
        "        prototypes.append(proto)\n",
        "        prototype_labels.append(label)\n",
        "        label_to_prototype_idx[label.item()] = idx\n",
        "\n",
        "    prototypes_tensor = torch.stack(prototypes, dim=0)\n",
        "\n",
        "    prototype_labels_one_hot = torch.eye(len(base_categories), device=device).float()\n",
        "    torch.save({\n",
        "        'keys': prototypes_tensor,\n",
        "        'vals': prototype_labels_one_hot,\n",
        "        'mapping': label_to_prototype_idx,\n",
        "        'base_categories': base_categories,\n",
        "        'all_categories': all_categories\n",
        "    }, cache_path)\n",
        "\n",
        "    return prototypes_tensor, prototype_labels_one_hot, label_to_prototype_idx"
      ]
    },
    {
      "cell_type": "markdown",
      "id": "cfe12edc",
      "metadata": {
        "id": "cfe12edc"
      },
      "source": [
        "This function implements a robust hyperparameter search to find the optimal power parameter p for our dynamic blending mechanism using cross-validation.\n",
        "\n",
        "Of course everything will be done on the bases classes only."
      ]
    },
    {
      "cell_type": "code",
      "execution_count": 28,
      "id": "c99aad62",
      "metadata": {
        "id": "c99aad62"
      },
      "outputs": [],
      "source": [
        "def find_best_p_cv_coop_blending(clip_model, train_set, validation_set, categories, batch_size, device, k=5, random_state=SEED):\n",
        "\n",
        "    # Hyperparameter candidates\n",
        "    candidates_p = [10, 15, 20, 25, 30]\n",
        "\n",
        "    # Initialize results structure: {p_value: [fold_results]}\n",
        "    param_results = {p: [] for p in candidates_p}\n",
        "\n",
        "    print(f\"Starting {k}-fold cross validation for CoOp blending...\")\n",
        "\n",
        "    # Outer loop: iterate through folds first\n",
        "    for fold_idx in range(k):\n",
        "        print(f\"  Fold {fold_idx + 1}/{k}\")\n",
        "\n",
        "        # Use different random shuffle for each fold\n",
        "        random.seed(random_state + fold_idx)\n",
        "        all_categories_shuffled = categories.copy()\n",
        "        random.shuffle(all_categories_shuffled)\n",
        "\n",
        "        # Split into 25 base, 25 novel, exclude 1\n",
        "        base_categories = all_categories_shuffled[:25]\n",
        "        novel_categories = all_categories_shuffled[25:51]\n",
        "\n",
        "        cp_model= CustomClip(base_categories=base_categories, clip_model=clip_model, context=context,all_classes_indices=base_categories+novel_categories)\n",
        "\n",
        "        # Split datasets based on these categories\n",
        "        base_set, _ = split_data(validation_set, base_categories)\n",
        "        novel_set, _ = split_data(validation_set, novel_categories)\n",
        "        base_setCache, _ = split_data(train_set, base_categories) #splitting the training set\n",
        "\n",
        "        cp_model = custom_clip_training(model=cp_model, train_set=base_setCache, dev_set=base_set, device=device, base_classes=base_categories, model_path='models/test.pth')\n",
        "\n",
        "        # Create prototype cache for this fold\n",
        "        keys, _, _ = create_prototype_cache_cc_mapped(\n",
        "            model=clip_model,\n",
        "            base_dataset=base_setCache,\n",
        "            base_categories=base_categories,\n",
        "            all_categories=categories,\n",
        "            device=device,\n",
        "            cache_path=f'models/prototype_coop_fold_{fold_idx}.pt',\n",
        "            new=True\n",
        "        )\n",
        "\n",
        "        # Inner loop: test all p values on this fold\n",
        "        for p in candidates_p:\n",
        "            print(f\"Testing p={p} on fold {fold_idx + 1}\")\n",
        "\n",
        "            # Evaluate on base categories (25 categories)\n",
        "            acc_base = eval_coop_blending_dynamic_alpha(\n",
        "                cp_model=cp_model,\n",
        "                clip_model=clip_model,\n",
        "                dataset=base_set,\n",
        "                categories=base_categories,\n",
        "                batch_size=batch_size,\n",
        "                device=device,\n",
        "                label=f\"Fold {fold_idx+1} base - p={p}\",\n",
        "                keys=keys,\n",
        "                p=p\n",
        "            )\n",
        "\n",
        "            # Evaluate on novel categories (25 categories)\n",
        "            acc_novel = eval_coop_blending_dynamic_alpha(\n",
        "                cp_model=cp_model,\n",
        "                clip_model=clip_model,\n",
        "                dataset=novel_set,\n",
        "                categories=novel_categories,\n",
        "                batch_size=batch_size,\n",
        "                device=device,\n",
        "                label=f\"Fold {fold_idx+1} novel - p={p}\",\n",
        "                keys=keys,\n",
        "                p=p\n",
        "            )\n",
        "\n",
        "            # Calculate harmonic mean\n",
        "            hm_acc = harmonic_mean(acc_base, acc_novel)\n",
        "\n",
        "            param_results[p].append({\n",
        "                'fold': fold_idx + 1,\n",
        "                'acc_base': acc_base,\n",
        "                'acc_novel': acc_novel,\n",
        "                'harmonic': hm_acc\n",
        "            })\n",
        "\n",
        "    # Convert results to the original format and calculate statistics\n",
        "    final_param_results = []\n",
        "\n",
        "    for p in candidates_p:\n",
        "        fold_results = param_results[p]\n",
        "\n",
        "        # Calculate mean and std across folds\n",
        "        mean_acc_base = np.mean([r['acc_base'] for r in fold_results])\n",
        "        mean_acc_novel = np.mean([r['acc_novel'] for r in fold_results])\n",
        "        mean_harmonic = np.mean([r['harmonic'] for r in fold_results])\n",
        "\n",
        "        std_acc_base = np.std([r['acc_base'] for r in fold_results])\n",
        "        std_acc_novel = np.std([r['acc_novel'] for r in fold_results])\n",
        "        std_harmonic = np.std([r['harmonic'] for r in fold_results])\n",
        "\n",
        "        final_param_results.append({\n",
        "            'p': p,\n",
        "            'mean_acc_base': mean_acc_base,\n",
        "            'mean_acc_novel': mean_acc_novel,\n",
        "            'mean_harmonic': mean_harmonic,\n",
        "            'std_acc_base': std_acc_base,\n",
        "            'std_acc_novel': std_acc_novel,\n",
        "            'std_harmonic': std_harmonic,\n",
        "            'fold_results': fold_results\n",
        "        })\n",
        "\n",
        "        print(f\"p={p}: Mean harmonic accuracy: {mean_harmonic:.4f} ± {std_harmonic:.4f}\")\n",
        "\n",
        "    # Find best parameters based on mean harmonic accuracy\n",
        "    best_result = max(final_param_results, key=lambda x: x['mean_harmonic'])\n",
        "    best_p = best_result['p']\n",
        "\n",
        "    print(\"\\n=== OPTIMAL RESULT ===\")\n",
        "    #print(f\"Best p parameter: {best_p}\")\n",
        "    print(f\"\\nBest parameter: p={best_p}\")\n",
        "    print(f\"Best mean harmonic accuracy: {best_result['mean_harmonic']:.4f} ± {best_result['std_harmonic']:.4f}\")\n",
        "    #breakpoint()\n",
        "    return best_p, final_param_results"
      ]
    },
    {
      "cell_type": "markdown",
      "id": "2c17660e",
      "metadata": {
        "id": "2c17660e"
      },
      "source": [
        "### Dynamic Alpha Blending Evaluation\n",
        "Let's find the perfect **p**!\n"
      ]
    },
    {
      "cell_type": "code",
      "execution_count": 29,
      "id": "edae2210",
      "metadata": {
        "colab": {
          "base_uri": "https://localhost:8080/"
        },
        "id": "edae2210",
        "outputId": "bfecef51-fcb0-489b-8923-9e169ce9f69c"
      },
      "outputs": [
        {
          "output_type": "stream",
          "name": "stdout",
          "text": [
            "Original base classes: 51 classes (0-50)\n",
            "CV base classes: 50 classes (0-49)\n",
            "Training set for CV: 500 samples\n",
            "Validation set for CV: 500 samples\n"
          ]
        }
      ],
      "source": [
        "base_classes_cv = base_classes[:-1]  # Rimuovi l'ultima classe (classe 50)\n",
        "print(f\"Original base classes: {len(base_classes)} classes (0-{max(base_classes)})\")\n",
        "print(f\"CV base classes: {len(base_classes_cv)} classes (0-{max(base_classes_cv)})\")\n",
        "\n",
        "# Crea i dataset con solo 50 classi per il cross-validation\n",
        "train_base_cv, _ = split_data(train_set, base_classes_cv)\n",
        "val_base_cv, _ = split_data(val_set, base_classes_cv)\n",
        "\n",
        "print(f\"Training set for CV: {len(train_base_cv)} samples\")\n",
        "print(f\"Validation set for CV: {len(val_base_cv)} samples\")"
      ]
    },
    {
      "cell_type": "markdown",
      "id": "6c6f0b93",
      "metadata": {
        "id": "6c6f0b93"
      },
      "source": [
        "You can now relax for a bit... this cell is going to take a lot...\n",
        "\n",
        "\n",
        "<p style=\"text-align: center;\">\n",
        "  <img src=\"https://media.tenor.com/zlv68Bdge4wAAAAM/frog-chill.gif\"\n",
        "        style=\"width: 30%; width: 15%;\"\n",
        "       alt=\"Screenshot\" />\n",
        "</p>\n"
      ]
    },
    {
      "cell_type": "code",
      "execution_count": 30,
      "id": "f6a88cdf",
      "metadata": {
        "colab": {
          "base_uri": "https://localhost:8080/"
        },
        "id": "f6a88cdf",
        "outputId": "abf01fab-c0ba-40f9-f972-a973a666d10c"
      },
      "outputs": [
        {
          "output_type": "stream",
          "name": "stdout",
          "text": [
            "Starting 5-fold cross validation for CoOp blending...\n",
            "  Fold 1/5\n",
            "Number of context words (tokens): 8\n"
          ]
        },
        {
          "output_type": "stream",
          "name": "stderr",
          "text": [
            "/tmp/ipython-input-23-1975236314.py:23: FutureWarning: `torch.cuda.amp.GradScaler(args...)` is deprecated. Please use `torch.amp.GradScaler('cuda', args...)` instead.\n",
            "  scaler = GradScaler()\n",
            "dev acc: 100%|██████████| 2/2 [00:01<00:00,  1.15it/s]\n"
          ]
        },
        {
          "output_type": "stream",
          "name": "stdout",
          "text": [
            "dev acc: 0.092\n",
            "Epoch 1/10 - Loss: 84.0742 - Acc: 0.5320\n"
          ]
        },
        {
          "output_type": "stream",
          "name": "stderr",
          "text": [
            "dev acc: 100%|██████████| 2/2 [00:01<00:00,  1.15it/s]\n"
          ]
        },
        {
          "output_type": "stream",
          "name": "stdout",
          "text": [
            "dev acc: 0.096\n",
            "Epoch 2/10 - Loss: 19.1261 - Acc: 0.8480\n"
          ]
        },
        {
          "output_type": "stream",
          "name": "stderr",
          "text": [
            "dev acc: 100%|██████████| 2/2 [00:01<00:00,  1.13it/s]\n"
          ]
        },
        {
          "output_type": "stream",
          "name": "stdout",
          "text": [
            "dev acc: 0.08\n",
            "Epoch 3/10 - Loss: 3.7159 - Acc: 0.9600\n"
          ]
        },
        {
          "output_type": "stream",
          "name": "stderr",
          "text": [
            "dev acc: 100%|██████████| 2/2 [00:01<00:00,  1.14it/s]\n"
          ]
        },
        {
          "output_type": "stream",
          "name": "stdout",
          "text": [
            "dev acc: 0.092\n",
            "Epoch 4/10 - Loss: 0.9341 - Acc: 0.9960\n"
          ]
        },
        {
          "output_type": "stream",
          "name": "stderr",
          "text": [
            "dev acc: 100%|██████████| 2/2 [00:01<00:00,  1.17it/s]\n"
          ]
        },
        {
          "output_type": "stream",
          "name": "stdout",
          "text": [
            "Training finished!\n"
          ]
        },
        {
          "output_type": "stream",
          "name": "stderr",
          "text": [
            "Encoding few-shot images: 100%|██████████| 2/2 [00:01<00:00,  1.41it/s]\n",
            "Computing prototypes: 100%|██████████| 25/25 [00:00<00:00, 4567.57it/s]\n"
          ]
        },
        {
          "output_type": "stream",
          "name": "stdout",
          "text": [
            "Testing p=10 on fold 1\n"
          ]
        },
        {
          "output_type": "stream",
          "name": "stderr",
          "text": [
            "Fold 1 base - p=10: 100%|██████████| 2/2 [00:01<00:00,  1.20it/s]\n",
            "Fold 1 novel - p=10: 100%|██████████| 2/2 [00:01<00:00,  1.19it/s]\n"
          ]
        },
        {
          "output_type": "stream",
          "name": "stdout",
          "text": [
            "Testing p=15 on fold 1\n"
          ]
        },
        {
          "output_type": "stream",
          "name": "stderr",
          "text": [
            "Fold 1 base - p=15: 100%|██████████| 2/2 [00:01<00:00,  1.20it/s]\n",
            "Fold 1 novel - p=15: 100%|██████████| 2/2 [00:01<00:00,  1.20it/s]\n"
          ]
        },
        {
          "output_type": "stream",
          "name": "stdout",
          "text": [
            "Testing p=20 on fold 1\n"
          ]
        },
        {
          "output_type": "stream",
          "name": "stderr",
          "text": [
            "Fold 1 base - p=20: 100%|██████████| 2/2 [00:01<00:00,  1.19it/s]\n",
            "Fold 1 novel - p=20: 100%|██████████| 2/2 [00:01<00:00,  1.19it/s]\n"
          ]
        },
        {
          "output_type": "stream",
          "name": "stdout",
          "text": [
            "Testing p=25 on fold 1\n"
          ]
        },
        {
          "output_type": "stream",
          "name": "stderr",
          "text": [
            "Fold 1 base - p=25: 100%|██████████| 2/2 [00:01<00:00,  1.20it/s]\n",
            "Fold 1 novel - p=25: 100%|██████████| 2/2 [00:01<00:00,  1.20it/s]\n"
          ]
        },
        {
          "output_type": "stream",
          "name": "stdout",
          "text": [
            "Testing p=30 on fold 1\n"
          ]
        },
        {
          "output_type": "stream",
          "name": "stderr",
          "text": [
            "Fold 1 base - p=30: 100%|██████████| 2/2 [00:01<00:00,  1.20it/s]\n",
            "Fold 1 novel - p=30: 100%|██████████| 2/2 [00:01<00:00,  1.20it/s]\n"
          ]
        },
        {
          "output_type": "stream",
          "name": "stdout",
          "text": [
            "  Fold 2/5\n",
            "Number of context words (tokens): 8\n"
          ]
        },
        {
          "output_type": "stream",
          "name": "stderr",
          "text": [
            "dev acc: 100%|██████████| 2/2 [00:01<00:00,  1.16it/s]\n"
          ]
        },
        {
          "output_type": "stream",
          "name": "stdout",
          "text": [
            "dev acc: 0.0\n",
            "Epoch 1/10 - Loss: 50.5350 - Acc: 0.5840\n"
          ]
        },
        {
          "output_type": "stream",
          "name": "stderr",
          "text": [
            "dev acc: 100%|██████████| 2/2 [00:01<00:00,  1.14it/s]\n"
          ]
        },
        {
          "output_type": "stream",
          "name": "stdout",
          "text": [
            "dev acc: 0.008\n",
            "Epoch 2/10 - Loss: 5.6757 - Acc: 0.9440\n"
          ]
        },
        {
          "output_type": "stream",
          "name": "stderr",
          "text": [
            "dev acc: 100%|██████████| 2/2 [00:03<00:00,  1.63s/it]\n"
          ]
        },
        {
          "output_type": "stream",
          "name": "stdout",
          "text": [
            "dev acc: 0.004\n",
            "Epoch 3/10 - Loss: 0.9808 - Acc: 0.9920\n"
          ]
        },
        {
          "output_type": "stream",
          "name": "stderr",
          "text": [
            "dev acc: 100%|██████████| 2/2 [00:01<00:00,  1.13it/s]\n"
          ]
        },
        {
          "output_type": "stream",
          "name": "stdout",
          "text": [
            "dev acc: 0.004\n",
            "Epoch 4/10 - Loss: 0.1620 - Acc: 1.0000\n"
          ]
        },
        {
          "output_type": "stream",
          "name": "stderr",
          "text": [
            "dev acc: 100%|██████████| 2/2 [00:01<00:00,  1.16it/s]\n"
          ]
        },
        {
          "output_type": "stream",
          "name": "stdout",
          "text": [
            "Training finished!\n"
          ]
        },
        {
          "output_type": "stream",
          "name": "stderr",
          "text": [
            "Encoding few-shot images: 100%|██████████| 2/2 [00:01<00:00,  1.42it/s]\n",
            "Computing prototypes: 100%|██████████| 25/25 [00:00<00:00, 5050.21it/s]\n"
          ]
        },
        {
          "output_type": "stream",
          "name": "stdout",
          "text": [
            "Testing p=10 on fold 2\n"
          ]
        },
        {
          "output_type": "stream",
          "name": "stderr",
          "text": [
            "Fold 2 base - p=10: 100%|██████████| 2/2 [00:01<00:00,  1.19it/s]\n",
            "Fold 2 novel - p=10: 100%|██████████| 2/2 [00:01<00:00,  1.19it/s]\n"
          ]
        },
        {
          "output_type": "stream",
          "name": "stdout",
          "text": [
            "Testing p=15 on fold 2\n"
          ]
        },
        {
          "output_type": "stream",
          "name": "stderr",
          "text": [
            "Fold 2 base - p=15: 100%|██████████| 2/2 [00:01<00:00,  1.19it/s]\n",
            "Fold 2 novel - p=15: 100%|██████████| 2/2 [00:01<00:00,  1.19it/s]\n"
          ]
        },
        {
          "output_type": "stream",
          "name": "stdout",
          "text": [
            "Testing p=20 on fold 2\n"
          ]
        },
        {
          "output_type": "stream",
          "name": "stderr",
          "text": [
            "Fold 2 base - p=20: 100%|██████████| 2/2 [00:01<00:00,  1.21it/s]\n",
            "Fold 2 novel - p=20: 100%|██████████| 2/2 [00:01<00:00,  1.19it/s]\n"
          ]
        },
        {
          "output_type": "stream",
          "name": "stdout",
          "text": [
            "Testing p=25 on fold 2\n"
          ]
        },
        {
          "output_type": "stream",
          "name": "stderr",
          "text": [
            "Fold 2 base - p=25: 100%|██████████| 2/2 [00:01<00:00,  1.20it/s]\n",
            "Fold 2 novel - p=25: 100%|██████████| 2/2 [00:01<00:00,  1.18it/s]\n"
          ]
        },
        {
          "output_type": "stream",
          "name": "stdout",
          "text": [
            "Testing p=30 on fold 2\n"
          ]
        },
        {
          "output_type": "stream",
          "name": "stderr",
          "text": [
            "Fold 2 base - p=30: 100%|██████████| 2/2 [00:01<00:00,  1.20it/s]\n",
            "Fold 2 novel - p=30: 100%|██████████| 2/2 [00:01<00:00,  1.19it/s]\n"
          ]
        },
        {
          "output_type": "stream",
          "name": "stdout",
          "text": [
            "  Fold 3/5\n",
            "Number of context words (tokens): 8\n"
          ]
        },
        {
          "output_type": "stream",
          "name": "stderr",
          "text": [
            "dev acc: 100%|██████████| 2/2 [00:01<00:00,  1.17it/s]\n"
          ]
        },
        {
          "output_type": "stream",
          "name": "stdout",
          "text": [
            "dev acc: 0.016\n",
            "Epoch 1/10 - Loss: 97.5071 - Acc: 0.4000\n"
          ]
        },
        {
          "output_type": "stream",
          "name": "stderr",
          "text": [
            "dev acc: 100%|██████████| 2/2 [00:01<00:00,  1.13it/s]\n"
          ]
        },
        {
          "output_type": "stream",
          "name": "stdout",
          "text": [
            "dev acc: 0.02\n",
            "Epoch 2/10 - Loss: 15.3234 - Acc: 0.8560\n"
          ]
        },
        {
          "output_type": "stream",
          "name": "stderr",
          "text": [
            "dev acc: 100%|██████████| 2/2 [00:03<00:00,  1.52s/it]\n"
          ]
        },
        {
          "output_type": "stream",
          "name": "stdout",
          "text": [
            "dev acc: 0.012\n",
            "Epoch 3/10 - Loss: 4.1378 - Acc: 0.9480\n"
          ]
        },
        {
          "output_type": "stream",
          "name": "stderr",
          "text": [
            "dev acc: 100%|██████████| 2/2 [00:01<00:00,  1.13it/s]\n"
          ]
        },
        {
          "output_type": "stream",
          "name": "stdout",
          "text": [
            "dev acc: 0.008\n",
            "Epoch 4/10 - Loss: 1.6482 - Acc: 0.9920\n"
          ]
        },
        {
          "output_type": "stream",
          "name": "stderr",
          "text": [
            "dev acc: 100%|██████████| 2/2 [00:01<00:00,  1.14it/s]\n"
          ]
        },
        {
          "output_type": "stream",
          "name": "stdout",
          "text": [
            "Training finished!\n"
          ]
        },
        {
          "output_type": "stream",
          "name": "stderr",
          "text": [
            "Encoding few-shot images: 100%|██████████| 2/2 [00:01<00:00,  1.44it/s]\n",
            "Computing prototypes: 100%|██████████| 25/25 [00:00<00:00, 4807.78it/s]\n"
          ]
        },
        {
          "output_type": "stream",
          "name": "stdout",
          "text": [
            "Testing p=10 on fold 3\n"
          ]
        },
        {
          "output_type": "stream",
          "name": "stderr",
          "text": [
            "Fold 3 base - p=10: 100%|██████████| 2/2 [00:01<00:00,  1.20it/s]\n",
            "Fold 3 novel - p=10: 100%|██████████| 2/2 [00:01<00:00,  1.20it/s]\n"
          ]
        },
        {
          "output_type": "stream",
          "name": "stdout",
          "text": [
            "Testing p=15 on fold 3\n"
          ]
        },
        {
          "output_type": "stream",
          "name": "stderr",
          "text": [
            "Fold 3 base - p=15: 100%|██████████| 2/2 [00:01<00:00,  1.18it/s]\n",
            "Fold 3 novel - p=15: 100%|██████████| 2/2 [00:01<00:00,  1.20it/s]\n"
          ]
        },
        {
          "output_type": "stream",
          "name": "stdout",
          "text": [
            "Testing p=20 on fold 3\n"
          ]
        },
        {
          "output_type": "stream",
          "name": "stderr",
          "text": [
            "Fold 3 base - p=20: 100%|██████████| 2/2 [00:01<00:00,  1.19it/s]\n",
            "Fold 3 novel - p=20: 100%|██████████| 2/2 [00:01<00:00,  1.20it/s]\n"
          ]
        },
        {
          "output_type": "stream",
          "name": "stdout",
          "text": [
            "Testing p=25 on fold 3\n"
          ]
        },
        {
          "output_type": "stream",
          "name": "stderr",
          "text": [
            "Fold 3 base - p=25: 100%|██████████| 2/2 [00:01<00:00,  1.20it/s]\n",
            "Fold 3 novel - p=25: 100%|██████████| 2/2 [00:01<00:00,  1.21it/s]\n"
          ]
        },
        {
          "output_type": "stream",
          "name": "stdout",
          "text": [
            "Testing p=30 on fold 3\n"
          ]
        },
        {
          "output_type": "stream",
          "name": "stderr",
          "text": [
            "Fold 3 base - p=30: 100%|██████████| 2/2 [00:01<00:00,  1.20it/s]\n",
            "Fold 3 novel - p=30: 100%|██████████| 2/2 [00:01<00:00,  1.20it/s]\n"
          ]
        },
        {
          "output_type": "stream",
          "name": "stdout",
          "text": [
            "  Fold 4/5\n",
            "Number of context words (tokens): 8\n"
          ]
        },
        {
          "output_type": "stream",
          "name": "stderr",
          "text": [
            "dev acc: 100%|██████████| 2/2 [00:01<00:00,  1.16it/s]\n"
          ]
        },
        {
          "output_type": "stream",
          "name": "stdout",
          "text": [
            "dev acc: 0.112\n",
            "Epoch 1/10 - Loss: 114.2597 - Acc: 0.4160\n"
          ]
        },
        {
          "output_type": "stream",
          "name": "stderr",
          "text": [
            "dev acc: 100%|██████████| 2/2 [00:01<00:00,  1.16it/s]\n"
          ]
        },
        {
          "output_type": "stream",
          "name": "stdout",
          "text": [
            "dev acc: 0.096\n",
            "Epoch 2/10 - Loss: 24.0984 - Acc: 0.7880\n"
          ]
        },
        {
          "output_type": "stream",
          "name": "stderr",
          "text": [
            "dev acc: 100%|██████████| 2/2 [00:01<00:00,  1.15it/s]\n"
          ]
        },
        {
          "output_type": "stream",
          "name": "stdout",
          "text": [
            "dev acc: 0.116\n",
            "Epoch 3/10 - Loss: 4.7497 - Acc: 0.9560\n"
          ]
        },
        {
          "output_type": "stream",
          "name": "stderr",
          "text": [
            "dev acc: 100%|██████████| 2/2 [00:01<00:00,  1.16it/s]\n"
          ]
        },
        {
          "output_type": "stream",
          "name": "stdout",
          "text": [
            "dev acc: 0.12\n",
            "Epoch 4/10 - Loss: 1.8170 - Acc: 0.9840\n"
          ]
        },
        {
          "output_type": "stream",
          "name": "stderr",
          "text": [
            "dev acc: 100%|██████████| 2/2 [00:01<00:00,  1.17it/s]\n"
          ]
        },
        {
          "output_type": "stream",
          "name": "stdout",
          "text": [
            "dev acc: 0.124\n",
            "Epoch 5/10 - Loss: 0.9591 - Acc: 0.9920\n"
          ]
        },
        {
          "output_type": "stream",
          "name": "stderr",
          "text": [
            "dev acc: 100%|██████████| 2/2 [00:01<00:00,  1.17it/s]\n"
          ]
        },
        {
          "output_type": "stream",
          "name": "stdout",
          "text": [
            "dev acc: 0.124\n",
            "Epoch 6/10 - Loss: 0.2878 - Acc: 1.0000\n"
          ]
        },
        {
          "output_type": "stream",
          "name": "stderr",
          "text": [
            "dev acc: 100%|██████████| 2/2 [00:01<00:00,  1.16it/s]\n"
          ]
        },
        {
          "output_type": "stream",
          "name": "stdout",
          "text": [
            "dev acc: 0.116\n",
            "Epoch 7/10 - Loss: 0.1091 - Acc: 1.0000\n"
          ]
        },
        {
          "output_type": "stream",
          "name": "stderr",
          "text": [
            "dev acc: 100%|██████████| 2/2 [00:01<00:00,  1.14it/s]\n"
          ]
        },
        {
          "output_type": "stream",
          "name": "stdout",
          "text": [
            "dev acc: 0.12\n",
            "Epoch 8/10 - Loss: 0.0695 - Acc: 1.0000\n"
          ]
        },
        {
          "output_type": "stream",
          "name": "stderr",
          "text": [
            "dev acc: 100%|██████████| 2/2 [00:01<00:00,  1.15it/s]\n"
          ]
        },
        {
          "output_type": "stream",
          "name": "stdout",
          "text": [
            "Training finished!\n"
          ]
        },
        {
          "output_type": "stream",
          "name": "stderr",
          "text": [
            "Encoding few-shot images: 100%|██████████| 2/2 [00:01<00:00,  1.42it/s]\n",
            "Computing prototypes: 100%|██████████| 25/25 [00:00<00:00, 4861.72it/s]\n"
          ]
        },
        {
          "output_type": "stream",
          "name": "stdout",
          "text": [
            "Testing p=10 on fold 4\n"
          ]
        },
        {
          "output_type": "stream",
          "name": "stderr",
          "text": [
            "Fold 4 base - p=10: 100%|██████████| 2/2 [00:01<00:00,  1.19it/s]\n",
            "Fold 4 novel - p=10: 100%|██████████| 2/2 [00:01<00:00,  1.20it/s]\n"
          ]
        },
        {
          "output_type": "stream",
          "name": "stdout",
          "text": [
            "Testing p=15 on fold 4\n"
          ]
        },
        {
          "output_type": "stream",
          "name": "stderr",
          "text": [
            "Fold 4 base - p=15: 100%|██████████| 2/2 [00:01<00:00,  1.19it/s]\n",
            "Fold 4 novel - p=15: 100%|██████████| 2/2 [00:01<00:00,  1.20it/s]\n"
          ]
        },
        {
          "output_type": "stream",
          "name": "stdout",
          "text": [
            "Testing p=20 on fold 4\n"
          ]
        },
        {
          "output_type": "stream",
          "name": "stderr",
          "text": [
            "Fold 4 base - p=20: 100%|██████████| 2/2 [00:01<00:00,  1.20it/s]\n",
            "Fold 4 novel - p=20: 100%|██████████| 2/2 [00:01<00:00,  1.20it/s]\n"
          ]
        },
        {
          "output_type": "stream",
          "name": "stdout",
          "text": [
            "Testing p=25 on fold 4\n"
          ]
        },
        {
          "output_type": "stream",
          "name": "stderr",
          "text": [
            "Fold 4 base - p=25: 100%|██████████| 2/2 [00:01<00:00,  1.20it/s]\n",
            "Fold 4 novel - p=25: 100%|██████████| 2/2 [00:01<00:00,  1.19it/s]\n"
          ]
        },
        {
          "output_type": "stream",
          "name": "stdout",
          "text": [
            "Testing p=30 on fold 4\n"
          ]
        },
        {
          "output_type": "stream",
          "name": "stderr",
          "text": [
            "Fold 4 base - p=30: 100%|██████████| 2/2 [00:01<00:00,  1.19it/s]\n",
            "Fold 4 novel - p=30: 100%|██████████| 2/2 [00:01<00:00,  1.19it/s]\n"
          ]
        },
        {
          "output_type": "stream",
          "name": "stdout",
          "text": [
            "  Fold 5/5\n",
            "Number of context words (tokens): 8\n"
          ]
        },
        {
          "output_type": "stream",
          "name": "stderr",
          "text": [
            "dev acc: 100%|██████████| 2/2 [00:01<00:00,  1.16it/s]\n"
          ]
        },
        {
          "output_type": "stream",
          "name": "stdout",
          "text": [
            "dev acc: 0.028\n",
            "Epoch 1/10 - Loss: 100.8239 - Acc: 0.4080\n"
          ]
        },
        {
          "output_type": "stream",
          "name": "stderr",
          "text": [
            "dev acc: 100%|██████████| 2/2 [00:01<00:00,  1.15it/s]\n"
          ]
        },
        {
          "output_type": "stream",
          "name": "stdout",
          "text": [
            "dev acc: 0.004\n",
            "Epoch 2/10 - Loss: 13.7273 - Acc: 0.8840\n"
          ]
        },
        {
          "output_type": "stream",
          "name": "stderr",
          "text": [
            "dev acc: 100%|██████████| 2/2 [00:01<00:00,  1.13it/s]\n"
          ]
        },
        {
          "output_type": "stream",
          "name": "stdout",
          "text": [
            "dev acc: 0.008\n",
            "Epoch 3/10 - Loss: 2.1570 - Acc: 0.9840\n"
          ]
        },
        {
          "output_type": "stream",
          "name": "stderr",
          "text": [
            "dev acc: 100%|██████████| 2/2 [00:01<00:00,  1.13it/s]\n"
          ]
        },
        {
          "output_type": "stream",
          "name": "stdout",
          "text": [
            "Training finished!\n"
          ]
        },
        {
          "output_type": "stream",
          "name": "stderr",
          "text": [
            "Encoding few-shot images: 100%|██████████| 2/2 [00:01<00:00,  1.44it/s]\n",
            "Computing prototypes: 100%|██████████| 25/25 [00:00<00:00, 4878.91it/s]\n"
          ]
        },
        {
          "output_type": "stream",
          "name": "stdout",
          "text": [
            "Testing p=10 on fold 5\n"
          ]
        },
        {
          "output_type": "stream",
          "name": "stderr",
          "text": [
            "Fold 5 base - p=10: 100%|██████████| 2/2 [00:01<00:00,  1.19it/s]\n",
            "Fold 5 novel - p=10: 100%|██████████| 2/2 [00:01<00:00,  1.18it/s]\n"
          ]
        },
        {
          "output_type": "stream",
          "name": "stdout",
          "text": [
            "Testing p=15 on fold 5\n"
          ]
        },
        {
          "output_type": "stream",
          "name": "stderr",
          "text": [
            "Fold 5 base - p=15: 100%|██████████| 2/2 [00:01<00:00,  1.19it/s]\n",
            "Fold 5 novel - p=15: 100%|██████████| 2/2 [00:01<00:00,  1.20it/s]\n"
          ]
        },
        {
          "output_type": "stream",
          "name": "stdout",
          "text": [
            "Testing p=20 on fold 5\n"
          ]
        },
        {
          "output_type": "stream",
          "name": "stderr",
          "text": [
            "Fold 5 base - p=20: 100%|██████████| 2/2 [00:01<00:00,  1.19it/s]\n",
            "Fold 5 novel - p=20: 100%|██████████| 2/2 [00:01<00:00,  1.19it/s]\n"
          ]
        },
        {
          "output_type": "stream",
          "name": "stdout",
          "text": [
            "Testing p=25 on fold 5\n"
          ]
        },
        {
          "output_type": "stream",
          "name": "stderr",
          "text": [
            "Fold 5 base - p=25: 100%|██████████| 2/2 [00:01<00:00,  1.18it/s]\n",
            "Fold 5 novel - p=25: 100%|██████████| 2/2 [00:01<00:00,  1.19it/s]\n"
          ]
        },
        {
          "output_type": "stream",
          "name": "stdout",
          "text": [
            "Testing p=30 on fold 5\n"
          ]
        },
        {
          "output_type": "stream",
          "name": "stderr",
          "text": [
            "Fold 5 base - p=30: 100%|██████████| 2/2 [00:01<00:00,  1.19it/s]\n",
            "Fold 5 novel - p=30: 100%|██████████| 2/2 [00:01<00:00,  1.20it/s]\n"
          ]
        },
        {
          "output_type": "stream",
          "name": "stdout",
          "text": [
            "p=10: Mean harmonic accuracy: 0.7618 ± 0.0151\n",
            "p=15: Mean harmonic accuracy: 0.7695 ± 0.0091\n",
            "p=20: Mean harmonic accuracy: 0.7688 ± 0.0090\n",
            "p=25: Mean harmonic accuracy: 0.7654 ± 0.0104\n",
            "p=30: Mean harmonic accuracy: 0.7636 ± 0.0091\n",
            "\n",
            "=== OPTIMAL RESULT ===\n",
            "\n",
            "Best parameter: p=15\n",
            "Best mean harmonic accuracy: 0.7695 ± 0.0091\n"
          ]
        },
        {
          "output_type": "stream",
          "name": "stderr",
          "text": [
            "Dynamic CoOp - Base Classes: 100%|██████████| 20/20 [00:10<00:00,  2.00it/s]\n",
            "Dynamic CoOp - Novel Classes: 100%|██████████| 29/29 [00:14<00:00,  2.00it/s]"
          ]
        },
        {
          "output_type": "stream",
          "name": "stdout",
          "text": [
            "\n",
            "=== DYNAMIC COOP RESULTS ===\n",
            "Base accuracy: 87.30%\n",
            "Novel accuracy: 77.72%\n",
            "Harmonic mean: 82.23%\n"
          ]
        },
        {
          "output_type": "stream",
          "name": "stderr",
          "text": [
            "\n"
          ]
        }
      ],
      "source": [
        "# Find the best p value using  cross-validation\n",
        "best_p,final_param_results = find_best_p_cv_coop_blending(\n",
        "        clip_model=model,\n",
        "        train_set=train_base_cv,\n",
        "        validation_set=val_base_cv,\n",
        "        categories=base_classes_cv,\n",
        "        batch_size=128,\n",
        "        device=DEVICE,\n",
        "        k=5\n",
        "    )\n",
        "\n",
        "# Evaluate the CoOp model with the best p value on the test sets for base classes\n",
        "coop_blend_base = eval_coop_blending_dynamic_alpha(\n",
        "        cp_model=cp,\n",
        "        clip_model=model,\n",
        "        dataset=test_base,\n",
        "        categories=base_classes,\n",
        "        batch_size=128,\n",
        "        device=DEVICE,\n",
        "        label=\"Dynamic CoOp - Base Classes\",\n",
        "        keys=keys,\n",
        "        p=best_p\n",
        "    )\n",
        "# Evaluate the CoOp model with the best p value on the test sets for novel classes\n",
        "coop_blend_novel = eval_coop_blending_dynamic_alpha(\n",
        "        cp_model=cp,\n",
        "        clip_model=model,\n",
        "        dataset=test_novel,\n",
        "        categories=novel_classes,\n",
        "        batch_size=128,\n",
        "        device=DEVICE,\n",
        "        label=\"Dynamic CoOp - Novel Classes\",\n",
        "        keys=keys,\n",
        "        p=best_p\n",
        "    )\n",
        "\n",
        "print(\"\\n=== DYNAMIC COOP RESULTS ===\")\n",
        "print(f\"Base accuracy: {coop_blend_base*100:.2f}%\")\n",
        "print(f\"Novel accuracy: {coop_blend_novel*100:.2f}%\")\n",
        "print(f\"Harmonic mean: {harmonic_mean(coop_blend_base, coop_blend_novel)*100:.2f}%\")"
      ]
    },
    {
      "cell_type": "markdown",
      "id": "772d71ff",
      "metadata": {
        "id": "772d71ff"
      },
      "source": [
        "## Graphical Visualization"
      ]
    },
    {
      "cell_type": "code",
      "execution_count": 31,
      "id": "85e78449",
      "metadata": {
        "colab": {
          "base_uri": "https://localhost:8080/",
          "height": 607
        },
        "id": "85e78449",
        "outputId": "e5c62e31-e330-4d82-d19a-ec39946d3059"
      },
      "outputs": [
        {
          "output_type": "display_data",
          "data": {
            "text/plain": [
              "<Figure size 1000x600 with 1 Axes>"
            ],
            "image/png": "[encoded data removed]"
          },
          "metadata": {}
        }
      ],
      "source": [
        "def plot_coop_blending_results(final_param_results, title=\"CoOp Blending Hyperparameter Search Results\", figsize=(10, 6)):\n",
        "    \"\"\"\n",
        "    Plot the mean accuracy results from CoOp blending hyperparameter search.\n",
        "\n",
        "    Args:\n",
        "        final_param_results (list): List of dictionaries containing results for each p value\n",
        "        title (str): Plot title\n",
        "        save_path (str, optional): Path to save the plot\n",
        "        figsize (tuple): Figure size (width, height)\n",
        "    \"\"\"\n",
        "\n",
        "    # Extract data from results\n",
        "    p_values = [result['p'] for result in final_param_results]\n",
        "\n",
        "    mean_acc_base = [result['mean_acc_base'] for result in final_param_results]\n",
        "    mean_acc_novel = [result['mean_acc_novel'] for result in final_param_results]\n",
        "    mean_harmonic = [result['mean_harmonic'] for result in final_param_results]\n",
        "\n",
        "    std_acc_base = [result['std_acc_base'] for result in final_param_results]\n",
        "    std_acc_novel = [result['std_acc_novel'] for result in final_param_results]\n",
        "    std_harmonic = [result['std_harmonic'] for result in final_param_results]\n",
        "\n",
        "    # Create the plot\n",
        "    plt.figure(figsize=figsize)\n",
        "\n",
        "    # Plot the three curves with error bars\n",
        "    plt.errorbar(p_values, mean_acc_base, yerr=std_acc_base,\n",
        "                marker='o', linestyle='-', linewidth=2, markersize=6,\n",
        "                label='Base Categories', capsize=5, capthick=2)\n",
        "\n",
        "    plt.errorbar(p_values, mean_acc_novel, yerr=std_acc_novel,\n",
        "                marker='s', linestyle='-', linewidth=2, markersize=6,\n",
        "                label='Novel Categories', capsize=5, capthick=2)\n",
        "\n",
        "    plt.errorbar(p_values, mean_harmonic, yerr=std_harmonic,\n",
        "                marker='^', linestyle='-', linewidth=2, markersize=6,\n",
        "                label='Harmonic Mean', capsize=5, capthick=2)\n",
        "\n",
        "    # Customize the plot\n",
        "    plt.xlabel('p Parameter', fontsize=12)\n",
        "    plt.ylabel('Accuracy', fontsize=12)\n",
        "    plt.title(title, fontsize=14, fontweight='bold')\n",
        "    plt.legend(fontsize=11, loc='best')\n",
        "    plt.grid(True, alpha=0.3)\n",
        "\n",
        "    # Set x-axis ticks to show all p values\n",
        "    plt.xticks(p_values)\n",
        "\n",
        "    # Format y-axis to show percentages if values are between 0 and 1\n",
        "    if all(0 <= acc <= 1 for acc in mean_acc_base + mean_acc_novel + mean_harmonic):\n",
        "        plt.gca().yaxis.set_major_formatter(plt.FuncFormatter(lambda y, _: f'{y:.1%}'))\n",
        "\n",
        "    # Adjust layout to prevent label cutoff\n",
        "    plt.tight_layout()\n",
        "\n",
        "    # Find and highlight the best p value\n",
        "    best_result = max(final_param_results, key=lambda x: x['mean_harmonic'])\n",
        "    best_p = best_result['p']\n",
        "    best_harmonic = best_result['mean_harmonic']\n",
        "\n",
        "    # Add vertical line at best p value\n",
        "    plt.axvline(x=best_p, color='red', linestyle='--', alpha=0.7,\n",
        "                label=f'Best p={best_p}')\n",
        "    plt.legend(fontsize=11, loc='best')\n",
        "\n",
        "    # Add text annotation for best result\n",
        "    plt.annotate(f'Best: p={best_p}\\nHM={best_harmonic:.3f}',\n",
        "                xy=(best_p, best_harmonic),\n",
        "                xytext=(10, 10), textcoords='offset points',\n",
        "                bbox=dict(boxstyle='round,pad=0.5', fc='yellow', alpha=0.7),\n",
        "                arrowprops=dict(arrowstyle='->', connectionstyle='arc3,rad=0'))\n",
        "\n",
        "    plt.show()\n",
        "\n",
        "# Run it\n",
        "plot_coop_blending_results(final_param_results)"
      ]
    },
    {
      "cell_type": "markdown",
      "id": "069c620f",
      "metadata": {
        "id": "069c620f"
      },
      "source": [
        "## Results Collection"
      ]
    },
    {
      "cell_type": "code",
      "execution_count": 32,
      "id": "8bf2b2ce",
      "metadata": {
        "colab": {
          "base_uri": "https://localhost:8080/"
        },
        "id": "8bf2b2ce",
        "outputId": "f9b4128c-dc33-4207-b6e0-a89471305176"
      },
      "outputs": [
        {
          "output_type": "stream",
          "name": "stdout",
          "text": [
            "=== COMPLETE RESULTS SUMMARY ===\n",
            "CLIP Zero-shot:\n",
            "\tBase: 71.33%\n",
            "\tNovel: 78.26%\n",
            "\tHarmonic: 74.64%\n",
            "\n",
            "CoOp (Baseline):\n",
            "\tBase: 92.68%\n",
            "\tNovel: 14.53%\n",
            "\tHarmonic: 25.12%\n",
            "\n",
            "Dynamic CoOp (Ours):\n",
            "\tBase: 87.30%\n",
            "\tNovel: 77.72%\n",
            "\tHarmonic: 82.23%\n",
            "\n"
          ]
        }
      ],
      "source": [
        "# Set style for better looking plots\n",
        "plt.style.use('seaborn-v0_8')\n",
        "sns.set_palette(\"husl\")\n",
        "\n",
        "# Collect all results from our experiments\n",
        "results_data = {\n",
        "    'CLIP Zero-shot': {\n",
        "        'base': zero_shot_base_accuracy * 100,\n",
        "        'novel': zero_shot_novel_accuracy * 100,\n",
        "        'harmonic': harmonic_mean(zero_shot_base_accuracy, zero_shot_novel_accuracy) * 100\n",
        "    },\n",
        "    'CoOp (Baseline)': {\n",
        "        'base': coop_base_accuracy * 100,\n",
        "        'novel': coop_novel_accuracy * 100,\n",
        "        'harmonic': harmonic_mean(coop_base_accuracy, coop_novel_accuracy) * 100\n",
        "    },\n",
        "    'Dynamic CoOp (Ours)': {\n",
        "        'base': coop_blend_base * 100,\n",
        "        'novel': coop_blend_novel * 100,\n",
        "        'harmonic': harmonic_mean(coop_blend_base, coop_blend_novel) * 100\n",
        "    }\n",
        "}\n",
        "\n",
        "print(\"=== COMPLETE RESULTS SUMMARY ===\")\n",
        "for method, scores in results_data.items():\n",
        "    print(f\"{method}:\")\n",
        "    print(f\"\\tBase: {scores['base']:.2f}%\")\n",
        "    print(f\"\\tNovel: {scores['novel']:.2f}%\")\n",
        "    print(f\"\\tHarmonic: {scores['harmonic']:.2f}%\")\n",
        "    print()"
      ]
    },
    {
      "cell_type": "markdown",
      "id": "ea4106a5",
      "metadata": {
        "id": "ea4106a5"
      },
      "source": [
        "---\n",
        "\n",
        "# 4. Dynamic CoCoOp\n",
        "\n",
        "## CoCoOp Foundation: Input‑Conditional Prompt Vectors\n",
        "\n",
        "CoCoOp builds upon CoOp by replacing static prompt contexts with **instance‑conditional prompt vectors**. Instead of learning fixed context tokens, it introduces a lightweight neural network (**Meta‑Net**) to generate context dynamically:\n",
        "```\n",
        "CoOp: [V1][V2][V3][V4] + [CLASS]\n",
        "CoCoOp: [V1(x)][V2(x)][V3(x)][V4(x)] + [CLASS]\n",
        "```\n",
        "\n",
        "This enables per‑image adaptation of textual prompts, improving generalization to unseen classes.\n",
        "\n",
        "## Integration Strategy: Similarity-Proportional *Conditional* Combination\n",
        "\n",
        "The integration strategy is identical to the CoOp version, except it uses CoCoOp instead of CoOp\n",
        "\n",
        "## Expected Benefits\n",
        "\n",
        "This integrated approach should grant some advantages and trade-offs compared to the CoOp version:\n",
        "\n",
        "1. **Better Novel Class Generalization**: as CoCoOp has a higher capability of generalization than standard CoOp, even if the cache *fails* to recognize an image belonging to a base class, CoCoOp can still generate effective prompts that preserve discriminative power. This helps maintain high accuracy on novel classes by dynamically adapting the text representation based on the input image, rather than relying solely on learned base-class context.\n",
        "2. **Base Class Accuracy**: CoCoOp has a lower base class accuracy than CoOp, so the *blended* version might have a lower base class accuracy, possibly lowering also the harmonic mean.\n",
        "\n",
        "## Model\n"
      ]
    },
    {
      "cell_type": "code",
      "execution_count": 33,
      "id": "82bf8a47",
      "metadata": {
        "id": "82bf8a47"
      },
      "outputs": [],
      "source": [
        "# Set seed for reproducibility\n",
        "set_seed(SEED)\n",
        "\n",
        "class TextEncoder(nn.Module):\n",
        "    def __init__(self, clip_model):\n",
        "        super().__init__()\n",
        "        self.transformer = clip_model.transformer\n",
        "        self.positional_embedding = clip_model.positional_embedding\n",
        "        self.ln_final = clip_model.ln_final\n",
        "        self.text_projection = clip_model.text_projection\n",
        "        self.dtype = clip_model.dtype\n",
        "\n",
        "    def forward(self, prompts, tokenized_prompts):\n",
        "        x = prompts + self.positional_embedding.type(self.dtype)\n",
        "        x = x.permute(1, 0, 2)  # NLD -> LND\n",
        "        with autocast(DEVICE):\n",
        "            x = self.transformer(x)\n",
        "        x = x.permute(1, 0, 2)  # LND -> NLD\n",
        "        x = self.ln_final(x).type(self.dtype)\n",
        "\n",
        "        # x.shape = [batch_size, n_ctx, transformer.width]\n",
        "        # take features from the eot embedding (eot_token is the highest number in each sequence)\n",
        "        x = x[torch.arange(x.shape[0]), tokenized_prompts.argmax(dim=-1)] @ self.text_projection\n",
        "\n",
        "        return x\n",
        "\n",
        "\n",
        "class MetaNet(nn.Module):\n",
        "    \"\"\"\n",
        "    Meta-Net for CoCoOp: generates instance-conditional tokens\n",
        "    Following the paper's design: Linear with 16x reduction -> ReLU -> Linear\n",
        "    \"\"\"\n",
        "    def __init__(self, vis_dim, ctx_dim):\n",
        "        super().__init__()\n",
        "        # Two-layer bottleneck structure with 16x reduction as in the paper\n",
        "        hid_dim = np.min([vis_dim // 16, 1])\n",
        "\n",
        "        self.linear1 = nn.Linear(vis_dim, hid_dim)\n",
        "        self.relu = nn.ReLU(inplace=True)\n",
        "        self.linear2 = nn.Linear(hid_dim, ctx_dim)\n",
        "\n",
        "    def forward(self, x):\n",
        "        with autocast(DEVICE):\n",
        "            x = self.linear1(x)\n",
        "            x = self.relu(x)\n",
        "            x = self.linear2(x)\n",
        "        return x\n",
        "\n",
        "\n",
        "class PromptLearner(nn.Module):\n",
        "    def __init__(self, categories, clip_model: clip.model.CLIP, n_ctx=4):\n",
        "        super().__init__()\n",
        "        dtype = clip_model.dtype\n",
        "        ctx_dim = clip_model.ln_final.weight.shape[0]\n",
        "        vis_dim = clip_model.visual.output_dim\n",
        "\n",
        "        # Initialize context vectors\n",
        "        print(f\"Initializing {n_ctx} context vectors\")\n",
        "        ctx_vectors = torch.empty(n_ctx, ctx_dim, dtype=dtype)\n",
        "        nn.init.normal_(ctx_vectors, std=0.02)\n",
        "        self.ctx = nn.Parameter(ctx_vectors.to(torch.float32))\n",
        "\n",
        "        # Initialize Meta-Net\n",
        "        self.meta_net = MetaNet(vis_dim, ctx_dim)\n",
        "\n",
        "        # Generate ALL class prompts (not just base classes)\n",
        "        # This is crucial - we prepare prompts for ALL 102 flower classes\n",
        "        all_classnames = [CLASS_NAMES[i].replace(\"_\", \" \") for i in range(len(CLASS_NAMES))]\n",
        "        name_lens = [len(_tokenizer.encode(name)) for name in all_classnames]\n",
        "        prompt_prefix = \" \".join([\"X\"] * n_ctx)\n",
        "        prompts = [prompt_prefix + \" \" + name + \".\" for name in all_classnames]\n",
        "\n",
        "        tokenized_prompts = torch.cat([clip.tokenize(p) for p in prompts]).to(DEVICE)\n",
        "\n",
        "        # Get embeddings for ALL classes\n",
        "        with torch.no_grad():\n",
        "            embedding = clip_model.token_embedding(tokenized_prompts).type(dtype).to(DEVICE)\n",
        "\n",
        "        # These are for ALL classes, not just training classes\n",
        "        self.register_buffer(\"token_prefix\", embedding[:, :1, :])  # SOS\n",
        "        self.register_buffer(\"token_suffix\", embedding[:, 1 + n_ctx:, :])  # CLS, EOS\n",
        "\n",
        "        self.n_cls = len(CLASS_NAMES)  # Total number of classes\n",
        "        self.n_ctx = n_ctx\n",
        "        self.tokenized_prompts = tokenized_prompts\n",
        "        self.name_lens = name_lens\n",
        "        self.ctx_dim = ctx_dim\n",
        "\n",
        "    def construct_prompts(self, ctx, prefix, suffix, label=None):\n",
        "        # dim0 is either batch_size (during training) or n_cls (during testing)\n",
        "        # ctx: context tokens, with shape of (dim0, n_ctx, ctx_dim)\n",
        "        # prefix: the sos token, with shape of (n_cls, 1, ctx_dim)\n",
        "        # suffix: remaining tokens, with shape of (n_cls, *, ctx_dim)\n",
        "\n",
        "        if label is not None:\n",
        "            prefix = prefix[label]\n",
        "            suffix = suffix[label]\n",
        "\n",
        "        prompts = torch.cat(\n",
        "            [\n",
        "                prefix,  # (dim0, 1, dim)\n",
        "                ctx,     # (dim0, n_ctx, dim)\n",
        "                suffix,  # (dim0, *, dim)\n",
        "            ],\n",
        "            dim=1,\n",
        "        )\n",
        "\n",
        "        return prompts\n",
        "\n",
        "    def forward(self, im_features):\n",
        "        prefix = self.token_prefix\n",
        "        suffix = self.token_suffix\n",
        "        ctx = self.ctx                     # (n_ctx, ctx_dim)\n",
        "        bias = self.meta_net(im_features)  # (batch, ctx_dim)\n",
        "        bias = bias.unsqueeze(1)           # (batch, 1, ctx_dim)\n",
        "        ctx = ctx.unsqueeze(0)             # (1, n_ctx, ctx_dim)\n",
        "        ctx_shifted = ctx + bias           # (batch, n_ctx, ctx_dim)\n",
        "\n",
        "        # Use instance-conditioned context tokens for all classes\n",
        "        prompts = []\n",
        "        for ctx_shifted_i in ctx_shifted:\n",
        "            ctx_i = ctx_shifted_i.unsqueeze(0).expand(self.n_cls, -1, -1)\n",
        "            pts_i = self.construct_prompts(ctx_i, prefix, suffix)  # (n_cls, n_tkn, ctx_dim)\n",
        "            prompts.append(pts_i)\n",
        "        prompts = torch.stack(prompts)\n",
        "\n",
        "        return prompts\n",
        "\n",
        "\n",
        "class CustomClip(nn.Module):\n",
        "    \"\"\"\n",
        "    CoCoOp implementation\n",
        "    \"\"\"\n",
        "    def __init__(self, categories, clip_model: clip.model.CLIP, context=8):\n",
        "        super().__init__()\n",
        "        self.prompt_learner = PromptLearner(categories, clip_model, n_ctx=context)\n",
        "        self.tokenized_prompts = self.prompt_learner.tokenized_prompts\n",
        "        self.image_encoder = clip_model.visual\n",
        "        self.text_encoder = TextEncoder(clip_model)\n",
        "        self.logit_scale = clip_model.logit_scale\n",
        "        self.dtype = clip_model.dtype\n",
        "\n",
        "        # Store categories that were used for training\n",
        "        self.training_categories = categories\n",
        "\n",
        "    def forward(self, image, label=None):\n",
        "        tokenized_prompts = self.tokenized_prompts\n",
        "        logit_scale = self.logit_scale.exp()\n",
        "\n",
        "        image_features = self.image_encoder(image.type(self.dtype))\n",
        "        image_features = image_features / image_features.norm(dim=-1, keepdim=True)\n",
        "\n",
        "        prompts = self.prompt_learner(image_features)\n",
        "\n",
        "        logits = []\n",
        "        for pts_i, imf_i in zip(prompts, image_features):\n",
        "            text_features = self.text_encoder(pts_i, tokenized_prompts)\n",
        "            text_features = text_features / text_features.norm(dim=-1, keepdim=True)\n",
        "            l_i = logit_scale * imf_i @ text_features.t()\n",
        "            logits.append(l_i)\n",
        "        logits = torch.stack(logits)\n",
        "\n",
        "        if self.prompt_learner.training and label is not None:\n",
        "            # During training, compute loss only on the training categories\n",
        "            return F.cross_entropy(logits[:, self.training_categories], label)\n",
        "\n",
        "        return logits"
      ]
    },
    {
      "cell_type": "markdown",
      "id": "7d23b472",
      "metadata": {
        "id": "7d23b472"
      },
      "source": [
        "## CoCoOp Training"
      ]
    },
    {
      "cell_type": "code",
      "execution_count": 34,
      "id": "11aa280c",
      "metadata": {
        "id": "11aa280c"
      },
      "outputs": [],
      "source": [
        "def cocoop_training(model: CustomClip, train_set, dev_set, device, base_classes,\n",
        "                    learning_rate=0.002, num_epochs=10, batch_size=1, grad_clip_norm=1.0,\n",
        "                    model_path=None, clip_model=None):\n",
        "    \"\"\"\n",
        "    CoCoOp training function optimized for instance-conditional prompts\n",
        "\n",
        "    Args:\n",
        "        model: CoCoOp model\n",
        "        train_set: Training dataset\n",
        "        dev_set: Development dataset\n",
        "        device: Device to run on\n",
        "        base_classes: List of base class indices\n",
        "        learning_rate: Learning rate\n",
        "        num_epochs: Number of training epochs\n",
        "        batch_size: Batch size (paper uses 1 for CoCoOp)\n",
        "        grad_clip_norm: Gradient clipping norm\n",
        "        model_path: Path to save the best model\n",
        "    \"\"\"\n",
        "    assert model_path is not None, \"Model path must be provided\"\n",
        "\n",
        "    model.to(device)\n",
        "    model.train()\n",
        "\n",
        "    # Use smaller batch size for CoCoOp due to memory constraints\n",
        "    train_loader = torch.utils.data.DataLoader(\n",
        "        train_set,\n",
        "        batch_size=batch_size,\n",
        "        shuffle=True,\n",
        "        num_workers=1,\n",
        "        worker_init_fn=worker_init_fn)\n",
        "\n",
        "    # Only optimize prompt learner parameters (context vectors and Meta-Net)\n",
        "    optimizer = optim.AdamW(model.prompt_learner.parameters(), lr=learning_rate, weight_decay=0.01)\n",
        "\n",
        "    # Label mapping for training classes only\n",
        "    label_map = {original_label: new_label for new_label, original_label in enumerate(base_classes)}\n",
        "\n",
        "    # Mixed precision training\n",
        "    scaler = GradScaler() if str(device) == \"cuda\" else None\n",
        "    use_amp = device == \"cuda\"\n",
        "\n",
        "    # Early stopping\n",
        "    best_acc = -float('inf')\n",
        "    patience = 3\n",
        "    patience_counter = 0\n",
        "    best_model_state = None\n",
        "\n",
        "    print(f\"Starting CoCoOp training with batch size {batch_size}, AMP: {use_amp}\")\n",
        "\n",
        "    for epoch in range(num_epochs):\n",
        "        model.train()\n",
        "        running_loss = 0.0\n",
        "        running_corrects = 0\n",
        "        running_total = 0\n",
        "\n",
        "        progress_bar = tqdm(train_loader, desc=f\"Epoch {epoch+1}/{num_epochs}\")\n",
        "\n",
        "        for images, targets in progress_bar:\n",
        "            images = images.to(device)\n",
        "            targets = targets.to(device)\n",
        "\n",
        "            # Map targets to contiguous indices\n",
        "            mapped_targets = torch.tensor([label_map[t.item()] for t in targets],\n",
        "                                        dtype=torch.long, device=device)\n",
        "\n",
        "            optimizer.zero_grad()\n",
        "\n",
        "            # Forward pass with optional mixed precision\n",
        "            if use_amp:\n",
        "                with autocast(device):\n",
        "                    # Get all logits (for all 102 classes)\n",
        "                    logits = model(images)\n",
        "                    # But compute loss only on training classes\n",
        "                    logits_train = logits[:, base_classes]\n",
        "                    loss = F.cross_entropy(logits_train, mapped_targets)\n",
        "\n",
        "                # Backward pass with gradient scaling\n",
        "                scaler.scale(loss).backward()\n",
        "\n",
        "                # Gradient clipping with proper unscaling\n",
        "                if grad_clip_norm is not None:\n",
        "                    scaler.unscale_(optimizer)\n",
        "                    torch.nn.utils.clip_grad_norm_(model.prompt_learner.parameters(), max_norm=grad_clip_norm)\n",
        "\n",
        "                # Update with scaler\n",
        "                scaler.step(optimizer)\n",
        "                scaler.update()\n",
        "            else:\n",
        "                # Standard training without mixed precision\n",
        "                logits = model(images)\n",
        "                # Compute loss only on training classes\n",
        "                logits_train = logits[:, base_classes]\n",
        "                loss = F.cross_entropy(logits_train, mapped_targets)\n",
        "\n",
        "                # Backward pass\n",
        "                loss.backward()\n",
        "\n",
        "                # Gradient clipping\n",
        "                if grad_clip_norm is not None:\n",
        "                    torch.nn.utils.clip_grad_norm_(model.prompt_learner.parameters(), max_norm=grad_clip_norm)\n",
        "\n",
        "                # Update\n",
        "                optimizer.step()\n",
        "\n",
        "            # Statistics\n",
        "            running_loss += loss.item() * images.size(0)\n",
        "            _, predicted = torch.max(logits_train.detach(), 1)\n",
        "            running_corrects += (predicted == mapped_targets).sum().item()\n",
        "            running_total += mapped_targets.size(0)\n",
        "\n",
        "            # Update progress bar\n",
        "            current_acc = running_corrects / running_total if running_total > 0 else 0.0\n",
        "            progress_bar.set_postfix(loss=loss.item(), acc=current_acc)\n",
        "\n",
        "        # Epoch statistics\n",
        "        epoch_loss = running_loss / len(train_loader.dataset)\n",
        "        epoch_acc = running_corrects / running_total\n",
        "\n",
        "        # Validation\n",
        "        dev_acc = eval_cocoop(model, dev_set, base_classes, batch_size=32, device=device, label=\"Dev\")\n",
        "\n",
        "        print(f'Epoch {epoch+1}/{num_epochs} - Loss: {epoch_loss:.4f} - Train Acc: {epoch_acc:.4f} - Dev Acc: {dev_acc:.4f}')\n",
        "\n",
        "        # Early stopping\n",
        "        if dev_acc > best_acc:\n",
        "            best_acc = dev_acc\n",
        "            patience_counter = 0\n",
        "            best_model_state = copy.deepcopy(model.state_dict())\n",
        "            torch.save(model.state_dict(), model_path)\n",
        "            print(f\"New best model saved with dev accuracy: {best_acc:.4f}\")\n",
        "        else:\n",
        "            patience_counter += 1\n",
        "            if patience_counter >= patience:\n",
        "                print(f\"Early stopping after {epoch+1} epochs\")\n",
        "                break\n",
        "\n",
        "    # Load best model\n",
        "    if best_model_state is not None:\n",
        "        model.load_state_dict(best_model_state)\n",
        "\n",
        "    print(f\"Training completed! Best dev accuracy: {best_acc:.4f}\")\n",
        "    return model\n",
        "\n",
        "\n",
        "@torch.no_grad()\n",
        "def eval_cocoop(model, dataset, categories, batch_size, device, label=\"\"):\n",
        "    \"\"\"\n",
        "    Unified evaluation function for CoCoOp that works on ANY set of categories\n",
        "    The key insight: CoCoOp generates prompts for ALL 102 classes, then we just\n",
        "    select the relevant logits based on which categories we're evaluating on.\n",
        "\n",
        "    Args:\n",
        "        model: Trained CoCoOp model\n",
        "        dataset: Dataset to evaluate on\n",
        "        categories: List of category indices to evaluate on (subset of all 102 classes)\n",
        "        batch_size: Batch size for evaluation\n",
        "        device: Device to run on\n",
        "        label: Label for progress bar\n",
        "\n",
        "    Returns:\n",
        "        accuracy: Accuracy on the dataset\n",
        "    \"\"\"\n",
        "    model.eval()\n",
        "\n",
        "    # Map from full class indices to evaluation indices\n",
        "    # e.g., if categories = [50, 51, ..., 101], then 50 -> 0, 51 -> 1, etc.\n",
        "    eval_class_to_idx = {cls: idx for idx, cls in enumerate(categories)}\n",
        "\n",
        "    # Create dataloader\n",
        "    dataloader = torch.utils.data.DataLoader(\n",
        "        dataset,\n",
        "        batch_size=batch_size,\n",
        "        shuffle=False,\n",
        "        num_workers=2,\n",
        "        worker_init_fn=worker_init_fn)\n",
        "\n",
        "    correct_predictions = 0\n",
        "    total_predictions = 0\n",
        "\n",
        "    for images, targets in tqdm(dataloader, desc=label):\n",
        "        images = images.to(device)\n",
        "        targets = targets.to(device)\n",
        "\n",
        "        # Get logits for ALL 102 classes\n",
        "        logits = model(images)  # Shape: [batch_size, 102]\n",
        "\n",
        "        # Select only the logits for the categories we're evaluating on\n",
        "        selected_logits = logits[:, categories]  # Shape: [batch_size, len(categories)]\n",
        "\n",
        "        # Map targets to the evaluation index space\n",
        "        mapped_targets = torch.tensor([eval_class_to_idx[t.item()] for t in targets],\n",
        "                                    dtype=torch.long, device=device)\n",
        "\n",
        "        # Get predictions\n",
        "        _, predicted = torch.max(selected_logits, 1)\n",
        "\n",
        "        # Update statistics\n",
        "        correct_predictions += (predicted == mapped_targets).sum().item()\n",
        "        total_predictions += mapped_targets.size(0)\n",
        "\n",
        "    accuracy = correct_predictions / total_predictions\n",
        "    return accuracy"
      ]
    },
    {
      "cell_type": "code",
      "execution_count": 35,
      "id": "ceb33332",
      "metadata": {
        "colab": {
          "base_uri": "https://localhost:8080/"
        },
        "id": "ceb33332",
        "outputId": "50c03437-c8b4-439d-c62c-bb1a9a38cdc7"
      },
      "outputs": [
        {
          "output_type": "stream",
          "name": "stderr",
          "text": [
            "/tmp/ipython-input-34-147989977.py:39: FutureWarning: `torch.cuda.amp.GradScaler(args...)` is deprecated. Please use `torch.amp.GradScaler('cuda', args...)` instead.\n",
            "  scaler = GradScaler() if str(device) == \"cuda\" else None\n"
          ]
        },
        {
          "output_type": "stream",
          "name": "stdout",
          "text": [
            "Initializing CoCoOp model...\n",
            "Initializing 8 context vectors\n",
            "\n",
            "Training CoCoOp model...\n",
            "Model will be saved to: models/cocoop_ctx8_unified.pth\n",
            "Starting CoCoOp training with batch size 1, AMP: True\n"
          ]
        },
        {
          "output_type": "stream",
          "name": "stderr",
          "text": [
            "Epoch 1/10: 100%|██████████| 510/510 [00:37<00:00, 13.55it/s, acc=0.565, loss=0.0183]\n",
            "Dev: 100%|██████████| 16/16 [00:07<00:00,  2.16it/s]\n"
          ]
        },
        {
          "output_type": "stream",
          "name": "stdout",
          "text": [
            "Epoch 1/10 - Loss: 1.7791 - Train Acc: 0.5647 - Dev Acc: 0.7098\n",
            "New best model saved with dev accuracy: 0.7098\n"
          ]
        },
        {
          "output_type": "stream",
          "name": "stderr",
          "text": [
            "Epoch 2/10: 100%|██████████| 510/510 [00:37<00:00, 13.66it/s, acc=0.735, loss=0.0596]\n",
            "Dev: 100%|██████████| 16/16 [00:07<00:00,  2.14it/s]\n"
          ]
        },
        {
          "output_type": "stream",
          "name": "stdout",
          "text": [
            "Epoch 2/10 - Loss: 1.0351 - Train Acc: 0.7353 - Dev Acc: 0.7608\n",
            "New best model saved with dev accuracy: 0.7608\n"
          ]
        },
        {
          "output_type": "stream",
          "name": "stderr",
          "text": [
            "Epoch 3/10: 100%|██████████| 510/510 [00:37<00:00, 13.65it/s, acc=0.769, loss=0.167]\n",
            "Dev: 100%|██████████| 16/16 [00:07<00:00,  2.17it/s]\n"
          ]
        },
        {
          "output_type": "stream",
          "name": "stdout",
          "text": [
            "Epoch 3/10 - Loss: 0.8309 - Train Acc: 0.7686 - Dev Acc: 0.8039\n",
            "New best model saved with dev accuracy: 0.8039\n"
          ]
        },
        {
          "output_type": "stream",
          "name": "stderr",
          "text": [
            "Epoch 4/10: 100%|██████████| 510/510 [00:37<00:00, 13.68it/s, acc=0.818, loss=0.23]\n",
            "Dev: 100%|██████████| 16/16 [00:07<00:00,  2.16it/s]\n"
          ]
        },
        {
          "output_type": "stream",
          "name": "stdout",
          "text": [
            "Epoch 4/10 - Loss: 0.6653 - Train Acc: 0.8176 - Dev Acc: 0.8412\n",
            "New best model saved with dev accuracy: 0.8412\n"
          ]
        },
        {
          "output_type": "stream",
          "name": "stderr",
          "text": [
            "Epoch 5/10: 100%|██████████| 510/510 [00:37<00:00, 13.58it/s, acc=0.857, loss=1.39]\n",
            "Dev: 100%|██████████| 16/16 [00:07<00:00,  2.15it/s]\n"
          ]
        },
        {
          "output_type": "stream",
          "name": "stdout",
          "text": [
            "Epoch 5/10 - Loss: 0.5419 - Train Acc: 0.8569 - Dev Acc: 0.8725\n",
            "New best model saved with dev accuracy: 0.8725\n"
          ]
        },
        {
          "output_type": "stream",
          "name": "stderr",
          "text": [
            "Epoch 6/10: 100%|██████████| 510/510 [00:37<00:00, 13.56it/s, acc=0.896, loss=0.66]\n",
            "Dev: 100%|██████████| 16/16 [00:07<00:00,  2.12it/s]\n"
          ]
        },
        {
          "output_type": "stream",
          "name": "stdout",
          "text": [
            "Epoch 6/10 - Loss: 0.4417 - Train Acc: 0.8961 - Dev Acc: 0.8902\n",
            "New best model saved with dev accuracy: 0.8902\n"
          ]
        },
        {
          "output_type": "stream",
          "name": "stderr",
          "text": [
            "Epoch 7/10: 100%|██████████| 510/510 [00:37<00:00, 13.68it/s, acc=0.91, loss=0.0225]\n",
            "Dev: 100%|██████████| 16/16 [00:07<00:00,  2.14it/s]\n"
          ]
        },
        {
          "output_type": "stream",
          "name": "stdout",
          "text": [
            "Epoch 7/10 - Loss: 0.3680 - Train Acc: 0.9098 - Dev Acc: 0.8980\n",
            "New best model saved with dev accuracy: 0.8980\n"
          ]
        },
        {
          "output_type": "stream",
          "name": "stderr",
          "text": [
            "Epoch 8/10: 100%|██████████| 510/510 [00:37<00:00, 13.60it/s, acc=0.927, loss=0.0605]\n",
            "Dev: 100%|██████████| 16/16 [00:07<00:00,  2.14it/s]\n"
          ]
        },
        {
          "output_type": "stream",
          "name": "stdout",
          "text": [
            "Epoch 8/10 - Loss: 0.3014 - Train Acc: 0.9275 - Dev Acc: 0.9255\n",
            "New best model saved with dev accuracy: 0.9255\n"
          ]
        },
        {
          "output_type": "stream",
          "name": "stderr",
          "text": [
            "Epoch 9/10: 100%|██████████| 510/510 [00:37<00:00, 13.57it/s, acc=0.933, loss=0.066]\n",
            "Dev: 100%|██████████| 16/16 [00:07<00:00,  2.15it/s]\n"
          ]
        },
        {
          "output_type": "stream",
          "name": "stdout",
          "text": [
            "Epoch 9/10 - Loss: 0.2517 - Train Acc: 0.9333 - Dev Acc: 0.9176\n"
          ]
        },
        {
          "output_type": "stream",
          "name": "stderr",
          "text": [
            "Epoch 10/10: 100%|██████████| 510/510 [00:37<00:00, 13.60it/s, acc=0.941, loss=0.00799]\n",
            "Dev: 100%|██████████| 16/16 [00:07<00:00,  2.15it/s]"
          ]
        },
        {
          "output_type": "stream",
          "name": "stdout",
          "text": [
            "Epoch 10/10 - Loss: 0.2128 - Train Acc: 0.9412 - Dev Acc: 0.9235\n",
            "Training completed! Best dev accuracy: 0.9255\n"
          ]
        },
        {
          "output_type": "stream",
          "name": "stderr",
          "text": [
            "\n"
          ]
        }
      ],
      "source": [
        "context = 8     # As suggested in the paper\n",
        "model_path = f\"models/cocoop_ctx{context}_unified.pth\"\n",
        "\n",
        "# Initialize CoCoOp model\n",
        "print(\"Initializing CoCoOp model...\")\n",
        "cocoop_model = CustomClip(\n",
        "    categories=base_classes,  # Training categories only\n",
        "    clip_model=model,\n",
        "    context=context\n",
        ")\n",
        "\n",
        "if not os.path.exists(model_path):\n",
        "    print(f\"\\nTraining CoCoOp model...\")\n",
        "    print(f\"Model will be saved to: {model_path}\")\n",
        "\n",
        "    cocoop_model = cocoop_training(\n",
        "        model=cocoop_model,\n",
        "        train_set=train_base,  # Use few-shot dataset\n",
        "        dev_set=val_base,\n",
        "        device=DEVICE,\n",
        "        base_classes=base_classes,\n",
        "        learning_rate=0.002,\n",
        "        num_epochs=10,  # More epochs for few-shot learning\n",
        "        batch_size=1,   # Batch size 1 as recommended in paper\n",
        "        grad_clip_norm=1.0,\n",
        "        model_path=model_path,\n",
        "        clip_model=model\n",
        "    )\n",
        "else:\n",
        "    print(f\"\\nLoading pre-trained CoCoOp model from: {model_path}\")\n",
        "    cocoop_model.load_state_dict(torch.load(model_path, map_location=DEVICE))\n",
        "    cocoop_model.to(DEVICE)"
      ]
    },
    {
      "cell_type": "markdown",
      "id": "6803b89b",
      "metadata": {
        "id": "6803b89b"
      },
      "source": [
        "## CoCoOp Evaluation"
      ]
    },
    {
      "cell_type": "code",
      "execution_count": 36,
      "id": "99827551",
      "metadata": {
        "colab": {
          "base_uri": "https://localhost:8080/"
        },
        "id": "99827551",
        "outputId": "8a6b172c-00b4-4971-b6f2-8a4056632a91"
      },
      "outputs": [
        {
          "output_type": "stream",
          "name": "stdout",
          "text": [
            "\n",
            "🧠 Evaluating CoCoOp...\n"
          ]
        },
        {
          "output_type": "stream",
          "name": "stderr",
          "text": [
            "CoCoOp (Base): 100%|██████████| 78/78 [00:34<00:00,  2.26it/s]\n"
          ]
        },
        {
          "output_type": "stream",
          "name": "stdout",
          "text": [
            "🧠 Evaluating CoOp on Novel Classes...\n"
          ]
        },
        {
          "output_type": "stream",
          "name": "stderr",
          "text": [
            "CoCoOp (Novel): 100%|██████████| 115/115 [00:51<00:00,  2.25it/s]"
          ]
        },
        {
          "output_type": "stream",
          "name": "stdout",
          "text": [
            "\n",
            "🔍 CoCoOp Base classes accuracy: 90.30%\n",
            "🔍 CoCoOp Novel classes accuracy: 76.39%\n",
            "🔍 CoCoOp Harmonic mean: 82.76%\n"
          ]
        },
        {
          "output_type": "stream",
          "name": "stderr",
          "text": [
            "\n"
          ]
        }
      ],
      "source": [
        " # --- EVAL CoCoOp STANDARD (BASE/NOVEL) ---\n",
        "print(\"\\n🧠 Evaluating CoCoOp...\")\n",
        "cocoop_base_acc = eval_cocoop(\n",
        "    model=cocoop_model,\n",
        "    dataset=test_base,\n",
        "    categories=base_classes,\n",
        "    batch_size=32,\n",
        "    device=DEVICE,\n",
        "    label=\"CoCoOp (Base)\"\n",
        ")\n",
        "print(\"🧠 Evaluating CoOp on Novel Classes...\")\n",
        "cocoop_novel_acc = eval_cocoop(\n",
        "    model=cocoop_model,\n",
        "    dataset=test_novel,\n",
        "    categories=novel_classes,\n",
        "    batch_size=32,\n",
        "    device=DEVICE,\n",
        "    label=\"CoCoOp (Novel)\"\n",
        ")\n",
        "\n",
        "print(f\"\\n🔍 CoCoOp Base classes accuracy: {cocoop_base_acc*100:.2f}%\")\n",
        "print(f\"🔍 CoCoOp Novel classes accuracy: {cocoop_novel_acc*100:.2f}%\")\n",
        "print(f\"🔍 CoCoOp Harmonic mean: {harmonic_mean(cocoop_base_acc, cocoop_novel_acc)*100:.2f}%\")"
      ]
    },
    {
      "cell_type": "markdown",
      "id": "fb43c31b",
      "metadata": {
        "id": "fb43c31b"
      },
      "source": [
        "## Dynamic CoCoOp evaluation"
      ]
    },
    {
      "cell_type": "code",
      "execution_count": 37,
      "id": "fc4002ab",
      "metadata": {
        "id": "fc4002ab"
      },
      "outputs": [],
      "source": [
        "@torch.no_grad()\n",
        "def eval_cocoop_blending_dynamic_alpha(cp_model, clip_model, dataset, categories, batch_size, device, label=\"\", keys=None, p=20):\n",
        "    cp_model.eval()\n",
        "    clip_model.eval()\n",
        "    cat2idx = {cat: i for i, cat in enumerate(categories)}\n",
        "\n",
        "    # Pre-compute generic CLIP text features (these don't change)\n",
        "    generic_prompts = [f\"a photo of a {CLASS_NAMES[c]}, a type of flower.\" for c in categories]\n",
        "    generic_tokens = clip.tokenize(generic_prompts).to(device)\n",
        "    clip_text_features = clip_model.encode_text(generic_tokens)\n",
        "    clip_text_features = clip_text_features / clip_text_features.norm(dim=-1, keepdim=True)\n",
        "\n",
        "    dataloader = torch.utils.data.DataLoader(\n",
        "        dataset,\n",
        "        batch_size=batch_size,\n",
        "        shuffle=False,\n",
        "        num_workers=2,\n",
        "        worker_init_fn=worker_init_fn)\n",
        "\n",
        "    correct = 0\n",
        "    total = 0\n",
        "\n",
        "    for images, targets in tqdm(dataloader, desc=label):\n",
        "        images = images.to(device)\n",
        "        targets = torch.Tensor([cat2idx[t.item()] for t in targets]).long().to(device)\n",
        "\n",
        "        # Encode images\n",
        "        image_features = clip_model.encode_image(images)\n",
        "        image_features = image_features / image_features.norm(dim=-1, keepdim=True)\n",
        "\n",
        "        if keys is None:\n",
        "            raise ValueError(\"The 'keys' argument must not be None.\")\n",
        "\n",
        "        # Calculate dynamic alpha\n",
        "        with autocast(device):\n",
        "          S = image_features @ keys.T\n",
        "          S_trans = torch.pow(S, p)\n",
        "          alpha = S_trans\n",
        "\n",
        "        # Generate CoOp text features using image features\n",
        "        cocoop_prompts = cp_model.prompt_learner(image_features)  # Pass image_features here\n",
        "        cocoop_tokenized_prompts = cp_model.prompt_learner.tokenized_prompts\n",
        "\n",
        "        # Process each batch item separately since coop_prompts has shape (batch, n_cls, n_tkn, ctx_dim)\n",
        "        batch_logits = []\n",
        "        for i in range(images.size(0)):\n",
        "            # Get prompts for this specific image\n",
        "            cocoop_text_features_i = cp_model.text_encoder(cocoop_prompts[i], cocoop_tokenized_prompts)\n",
        "            cocoop_text_features_i = cocoop_text_features_i / cocoop_text_features_i.norm(dim=-1, keepdim=True)\n",
        "\n",
        "            # Map categories to the full class space if needed\n",
        "            # Assuming categories contains indices into the full CLASS_NAMES\n",
        "            category_indices = torch.tensor([cat for cat in categories], device=device)\n",
        "\n",
        "            # Extract relevant features for the current categories\n",
        "            cocoop_text_features_subset = cocoop_text_features_i[category_indices]  # (n_categories, dim)\n",
        "\n",
        "            # Blend features for this image\n",
        "            alpha_i = alpha[i].unsqueeze(1)  # (n_categories, 1) - should match categories length\n",
        "            blend_feat_i = alpha_i * cocoop_text_features_subset + (1 - alpha_i) * clip_text_features\n",
        "            blend_feat_i = blend_feat_i / blend_feat_i.norm(dim=-1, keepdim=True)\n",
        "\n",
        "            # Calculate logits for this image\n",
        "            logits_i = image_features[i] @ blend_feat_i.T  # (n_categories,)\n",
        "            batch_logits.append(logits_i)\n",
        "\n",
        "        logits = torch.stack(batch_logits)  # (batch, n_classes)\n",
        "        pred = logits.argmax(dim=1)\n",
        "        correct += (pred == targets).sum().item()\n",
        "        total += targets.size(0)\n",
        "\n",
        "    return correct / total"
      ]
    },
    {
      "cell_type": "code",
      "execution_count": 38,
      "id": "ddc63033",
      "metadata": {
        "colab": {
          "base_uri": "https://localhost:8080/"
        },
        "id": "ddc63033",
        "outputId": "e23606bc-267e-47a3-def2-59c097c2e4af"
      },
      "outputs": [
        {
          "output_type": "stream",
          "name": "stdout",
          "text": [
            "\n",
            "🧠 Evaluating Dynamic CoCoOp...\n"
          ]
        },
        {
          "output_type": "stream",
          "name": "stderr",
          "text": [
            "Dynamic CoCoOp (Base): 100%|██████████| 20/20 [00:35<00:00,  1.79s/it]\n"
          ]
        },
        {
          "output_type": "stream",
          "name": "stdout",
          "text": [
            "🧠 Evaluating Dynamic CoOp on Novel Classes...\n"
          ]
        },
        {
          "output_type": "stream",
          "name": "stderr",
          "text": [
            "Dynamic CoCoOp (Novel): 100%|██████████| 29/29 [00:51<00:00,  1.79s/it]"
          ]
        },
        {
          "output_type": "stream",
          "name": "stdout",
          "text": [
            "\n",
            "🔍 Dynamic CoCoOp Base classes accuracy: 84.35%\n",
            "🔍 Dynamic CoCoOp Novel classes accuracy: 76.88%\n",
            "🔍 Dynamic CoCoOp Harmonic mean: 80.44%\n"
          ]
        },
        {
          "output_type": "stream",
          "name": "stderr",
          "text": [
            "\n"
          ]
        }
      ],
      "source": [
        " # --- EVAL CoCoOp Blending (BASE/NOVEL) ---\n",
        "print(\"\\n🧠 Evaluating Dynamic CoCoOp...\")\n",
        "cocoop_blend_base = eval_cocoop_blending_dynamic_alpha(\n",
        "    cp_model=cocoop_model,\n",
        "    clip_model=model,\n",
        "    dataset=test_base,\n",
        "    categories=base_classes,\n",
        "    batch_size=128,\n",
        "    device=DEVICE,\n",
        "    label=\"Dynamic CoCoOp (Base)\",\n",
        "    keys=keys,\n",
        "    p=best_p\n",
        ")\n",
        "print(\"🧠 Evaluating Dynamic CoOp on Novel Classes...\")\n",
        "cocoop_blend_novel = eval_cocoop_blending_dynamic_alpha(\n",
        "    cp_model=cocoop_model,\n",
        "    clip_model=model,\n",
        "    dataset=test_novel,\n",
        "    categories=novel_classes,\n",
        "    batch_size=128,\n",
        "    device=DEVICE,\n",
        "    label=\"Dynamic CoCoOp (Novel)\",\n",
        "    keys=keys,\n",
        "    p=best_p\n",
        ")\n",
        "\n",
        "print(f\"\\n🔍 Dynamic CoCoOp Base classes accuracy: {cocoop_blend_base*100:.2f}%\")\n",
        "print(f\"🔍 Dynamic CoCoOp Novel classes accuracy: {cocoop_blend_novel*100:.2f}%\")\n",
        "print(f\"🔍 Dynamic CoCoOp Harmonic mean: {harmonic_mean(cocoop_blend_base, cocoop_blend_novel)*100:.2f}%\")"
      ]
    },
    {
      "cell_type": "code",
      "execution_count": 39,
      "id": "2a4f7b77",
      "metadata": {
        "colab": {
          "base_uri": "https://localhost:8080/"
        },
        "id": "2a4f7b77",
        "outputId": "03a01f1a-d1a4-452f-e9ce-d9ec661e933b"
      },
      "outputs": [
        {
          "output_type": "stream",
          "name": "stdout",
          "text": [
            "=== COMPLETE RESULTS SUMMARY ===\n",
            "CLIP Zero-shot:\n",
            "\tBase: 71.33%\n",
            "\tNovel: 78.26%\n",
            "\tHarmonic: 74.64%\n",
            "\n",
            "CoOp (Baseline):\n",
            "\tBase: 92.68%\n",
            "\tNovel: 14.53%\n",
            "\tHarmonic: 25.12%\n",
            "\n",
            "Dynamic CoOp (Ours):\n",
            "\tBase: 87.30%\n",
            "\tNovel: 77.72%\n",
            "\tHarmonic: 82.23%\n",
            "\n",
            "CoCoOp (Baseline):\n",
            "\tBase: 90.30%\n",
            "\tNovel: 76.39%\n",
            "\tHarmonic: 82.76%\n",
            "\n",
            "Dynamic CoCoOp (Ours):\n",
            "\tBase: 84.35%\n",
            "\tNovel: 76.88%\n",
            "\tHarmonic: 80.44%\n",
            "\n"
          ]
        }
      ],
      "source": [
        "results_data['CoCoOp (Baseline)'] = {\n",
        "    'base': cocoop_base_acc * 100,\n",
        "    'novel': cocoop_novel_acc * 100,\n",
        "    'harmonic': harmonic_mean(cocoop_base_acc, cocoop_novel_acc) * 100\n",
        "}\n",
        "\n",
        "results_data['Dynamic CoCoOp (Ours)'] = {\n",
        "    'base': cocoop_blend_base * 100,\n",
        "    'novel': cocoop_blend_novel * 100,\n",
        "    'harmonic': harmonic_mean(cocoop_blend_base, cocoop_blend_novel) * 100\n",
        "}\n",
        "\n",
        "print(\"=== COMPLETE RESULTS SUMMARY ===\")\n",
        "for method, scores in results_data.items():\n",
        "    print(f\"{method}:\")\n",
        "    print(f\"\\tBase: {scores['base']:.2f}%\")\n",
        "    print(f\"\\tNovel: {scores['novel']:.2f}%\")\n",
        "    print(f\"\\tHarmonic: {scores['harmonic']:.2f}%\")\n",
        "    print()"
      ]
    },
    {
      "cell_type": "markdown",
      "id": "cfa4945d",
      "metadata": {
        "id": "cfa4945d"
      },
      "source": [
        "## Results"
      ]
    },
    {
      "cell_type": "code",
      "execution_count": 40,
      "id": "c295bb3f",
      "metadata": {
        "colab": {
          "base_uri": "https://localhost:8080/",
          "height": 300
        },
        "id": "c295bb3f",
        "outputId": "393eeaba-8376-4eae-91a3-154eea660279"
      },
      "outputs": [
        {
          "output_type": "display_data",
          "data": {
            "text/plain": [
              "<IPython.core.display.Markdown object>"
            ],
            "text/markdown": "| ****Method****        | ****Base (%)****   | ****Novel (%)****   | ****H-mean (%)****   |\n|:----------------------|:-------------------|:--------------------|:---------------------|\n| Zero-shot CLIP        | 71.33              | **78.26**           | 74.64                |\n| Tip-adapter           | 90.86              | 2.18                | 4.25                 |\n| Tip-adapter (ours)    | 83.74              | 78.24               | 80.90                |\n| Tip-adapter-F (ours)  | 91.67              | 74.89               | 82.44                |\n| CoOp                  | **92.68**          | 14.53               | 25.12                |\n| CoCoOp                | 90.30              | 76.39               | **82.76**            |\n| Dynamic CoOp (ours)   | 87.30              | 77.72               | 82.23                |\n| Dynamic CoCoOp (ours) | 84.35              | 76.88               | 80.44                |"
          },
          "metadata": {}
        }
      ],
      "source": [
        "########## <--- TABLE OUTPUT ---> ##########\n",
        "\n",
        "base_acc_table = [zero_shot_base_accuracy, tip_final_base_acc, tip_blend_base_accuracy, tip_f_blend_base_accuracy, coop_base_accuracy, cocoop_base_acc, coop_blend_base, cocoop_blend_base]\n",
        "novel_acc_table = [zero_shot_novel_accuracy, tip_final_novel_acc, tip_blend_novel_accuracy, tip_f_blend_novel_accuracy, coop_novel_accuracy, cocoop_novel_acc, coop_blend_novel, cocoop_blend_novel]\n",
        "h_mean_table = [harmonic_mean(b, n) for b, n in zip(base_acc_table, novel_acc_table)]\n",
        "\n",
        "method_names = ['Zero-shot CLIP', 'Tip-adapter', 'Tip-adapter (ours)', 'Tip-adapter-F (ours)', 'CoOp', 'CoCoOp', 'Dynamic CoOp (ours)', 'Dynamic CoCoOp (ours)']\n",
        "\n",
        "data = {\n",
        "    \"Method\": method_names,\n",
        "    \"Base (%)\": base_acc_table,\n",
        "    \"Novel (%)\": novel_acc_table,\n",
        "    \"H-mean (%)\": h_mean_table\n",
        "}\n",
        "\n",
        "# Create DataFrame\n",
        "df = pd.DataFrame(data)\n",
        "\n",
        "# Helper function to convert to formatted string with bold max\n",
        "def format_column(col):\n",
        "    col_pct = [v * 100 for v in col]\n",
        "    max_val = max(col_pct)\n",
        "    return [f\"**{v:.2f}**\" if v == max_val else f\"{v:.2f}\" for v in col_pct]\n",
        "\n",
        "# Format each column\n",
        "formatted_base = format_column(base_acc_table)\n",
        "formatted_novel = format_column(novel_acc_table)\n",
        "formatted_hmean = format_column(h_mean_table)\n",
        "\n",
        "# Create the final DataFrame\n",
        "df = pd.DataFrame({\n",
        "    \"**Method**\": method_names,\n",
        "    \"**Base (%)**\": formatted_base,\n",
        "    \"**Novel (%)**\": formatted_novel,\n",
        "    \"**H-mean (%)**\": formatted_hmean,\n",
        "})\n",
        "\n",
        "# Bold headers manually (Markdown doesn't do this automatically)\n",
        "df.columns = [f\"**{col}**\" for col in df.columns]\n",
        "\n",
        "# Convert into Markdown e view on notebook\n",
        "markdown_table = df.to_markdown(index=False)\n",
        "display(Markdown(markdown_table))\n"
      ]
    },
    {
      "cell_type": "markdown",
      "id": "d07c4d0a",
      "metadata": {
        "id": "d07c4d0a"
      },
      "source": [
        "The Dynamic CoCoOp version presents, as discussed before, a lower base accuracy and harmonic mean, and in contrast to what we thought, the Dynamic CoCoOp doesn't closes the gap of the novel accuracy with the Zero-shot CLIP. It is similar to the Dynamic CoOp in novel accuracy, losing only about 0.46 percentage points, suggesting that the cache mechanism plays a key role in achieving consistent recognition.\n",
        "\n",
        "As shown by the table, The **Dynamic CoOp** method is the best for the harmonic mean, while only losing about 0.16 percentage points on novel classes.\n",
        "\n",
        "## Context length\n",
        "The Dynamic CoCoOp approach was tested on different context length. The [CoCoOp paper](https://arxiv.org/pdf/2203.05557) suggested that context length equal to 8 yielded the best results. We wanted to verify that this is also the case for out approach. The following table summarizes the results. The best context size is the same as the paper.\n",
        "\n",
        "| Context length       | Base (%) | Novel (%) | H‑mean (%) |\n",
        "|----------------------|---------:|----------:|-----------:|\n",
        "| 4                    |    82.77 | **77.88** |      80.33 |\n",
        "| 8                    |**85.77** |     77.64 |   **81.50**|\n",
        "| 16                   |    81.44 |     77.64 |      79.54 |"
      ]
    },
    {
      "cell_type": "markdown",
      "id": "1bdffb2d",
      "metadata": {
        "id": "1bdffb2d"
      },
      "source": [
        "## Multi-Panel Visualization Suite\n",
        "The following visualization creates a comprehensive analysis that examines our method from multiple perspectives:\n",
        "\n",
        "- Bar Chart: Direct performance comparison across all metrics\n",
        "- Scatter Plot: Base vs Novel trade-off visualization\n",
        "- Improvement Analysis: Gains relative to CLIP zero-shot baseline\n",
        "- Harmonic Mean Focus: Overall performance ranking"
      ]
    },
    {
      "cell_type": "code",
      "execution_count": 41,
      "id": "9a9afbb2",
      "metadata": {
        "colab": {
          "base_uri": "https://localhost:8080/",
          "height": 607
        },
        "id": "9a9afbb2",
        "outputId": "53af4b3a-c64f-4626-e694-a274ddbfe8e5"
      },
      "outputs": [
        {
          "output_type": "display_data",
          "data": {
            "text/plain": [
              "<Figure size 800x600 with 1 Axes>"
            ],
            "image/png": "[encoded data removed]"
          },
          "metadata": {}
        }
      ],
      "source": [
        "# Create comprehensive visualization suite\n",
        "fig, ax1 = plt.subplots(figsize=(8, 6))\n",
        "\n",
        "# 1. Bar Chart Comparison\n",
        "methods = list(results_data.keys())\n",
        "\n",
        "base_scores = [results_data[m]['base'] for m in methods]\n",
        "novel_scores = [results_data[m]['novel'] for m in methods]\n",
        "harmonic_scores = [results_data[m]['harmonic'] for m in methods]\n",
        "\n",
        "x = np.arange(len(methods))\n",
        "width = 0.26\n",
        "\n",
        "bars1 = ax1.bar(x - width, base_scores, width, label='Base Classes', alpha=0.8, color='#2E86AB')\n",
        "bars2 = ax1.bar(x, novel_scores, width, label='Novel Classes', alpha=0.8, color='#A23B72')\n",
        "bars3 = ax1.bar(x + width, harmonic_scores, width, label='Harmonic Mean', alpha=0.8, color='#F18F01')\n",
        "\n",
        "ax1.set_xlabel('Methods', fontsize=12, fontweight='bold')\n",
        "ax1.set_ylabel('Accuracy (%)', fontsize=12, fontweight='bold')\n",
        "ax1.set_title('Performance Comparison Across Methods', fontsize=14, fontweight='bold')\n",
        "ax1.set_xticks(x)\n",
        "ax1.set_xticklabels(methods, rotation=15, ha='right')\n",
        "ax1.legend()\n",
        "ax1.grid(True, alpha=0.3)\n",
        "\n",
        "# Add value labels on bars\n",
        "def add_value_labels(bars):\n",
        "    for bar in bars:\n",
        "        height = bar.get_height()\n",
        "        ax1.annotate(f'{height:.2f}%',\n",
        "                    xy=(bar.get_x() + bar.get_width() / 2, height),\n",
        "                    xytext=(0, 3),  # 3 points vertical offset\n",
        "                    textcoords=\"offset points\",\n",
        "                    ha='center', va='bottom', fontsize=9)\n",
        "\n",
        "add_value_labels(bars1)\n",
        "add_value_labels(bars2)\n",
        "add_value_labels(bars3)\n",
        "\n",
        "plt.tight_layout()\n",
        "plt.show()"
      ]
    },
    {
      "cell_type": "markdown",
      "id": "f4ea141f",
      "metadata": {
        "id": "f4ea141f"
      },
      "source": [
        "### Scatter Plot\n",
        "The scatter plot reveals the critical base vs novel trade-off that is central to few-shot learning:"
      ]
    },
    {
      "cell_type": "code",
      "execution_count": 42,
      "id": "ec90936c",
      "metadata": {
        "colab": {
          "base_uri": "https://localhost:8080/",
          "height": 607
        },
        "id": "ec90936c",
        "outputId": "b359f219-e9a0-45c7-b9bd-f1a8ce3a7b9d"
      },
      "outputs": [
        {
          "output_type": "display_data",
          "data": {
            "text/plain": [
              "<Figure size 800x600 with 1 Axes>"
            ],
            "image/png": "[encoded data removed]"
          },
          "metadata": {}
        }
      ],
      "source": [
        "colors = ['tab:blue', 'tab:orange', 'tab:green', 'tab:red', 'tab:purple']\n",
        "\n",
        "# 2. Base vs Novel Scatter Plot - Trade-off Analysis\n",
        "fig, ax3 = plt.subplots(figsize=(8, 6))  # Increase figure size\n",
        "\n",
        "for i, method in enumerate(methods):\n",
        "    x = results_data[method]['base']\n",
        "    y = results_data[method]['novel']\n",
        "    ax3.scatter(x, y, s=200, alpha=0.8, color=colors[i], edgecolors='black', linewidth=1, label=method)\n",
        "\n",
        "# Equal performance diagonal\n",
        "min_val = min(min(base_scores), min(novel_scores)) - 5\n",
        "max_val = max(max(base_scores), max(novel_scores)) + 5\n",
        "ax3.plot([min_val, max_val], [min_val, max_val], 'k--', alpha=0.5, label='Equal Performance')\n",
        "\n",
        "# Set labels and title\n",
        "ax3.set_xlabel('Base Classes Accuracy (%)', fontsize=12, fontweight='bold')\n",
        "ax3.set_ylabel('Novel Classes Accuracy (%)', fontsize=12, fontweight='bold')\n",
        "ax3.set_title('Base vs Novel Performance Trade-off', fontsize=14, fontweight='bold')\n",
        "\n",
        "# Adjust legend\n",
        "ax3.legend(loc='upper left', fontsize=9, frameon=True)\n",
        "\n",
        "# Grid and limits\n",
        "ax3.grid(True, alpha=0.3)\n",
        "ax3.set_xlim(min_val, max_val)\n",
        "ax3.set_ylim(min_val, max_val)\n",
        "\n",
        "plt.tight_layout()\n",
        "plt.show()"
      ]
    },
    {
      "cell_type": "markdown",
      "id": "87ea6e59",
      "metadata": {
        "id": "87ea6e59"
      },
      "source": [
        "This improvement analysis shows how much each method gains over the CLIP zero-shot baseline:"
      ]
    },
    {
      "cell_type": "code",
      "execution_count": 43,
      "id": "87080f0c",
      "metadata": {
        "colab": {
          "base_uri": "https://localhost:8080/",
          "height": 607
        },
        "id": "87080f0c",
        "outputId": "a55994a5-5d7f-488b-9561-882265254d41"
      },
      "outputs": [
        {
          "output_type": "display_data",
          "data": {
            "text/plain": [
              "<Figure size 1000x600 with 1 Axes>"
            ],
            "image/png": "[encoded data removed]"
          },
          "metadata": {}
        }
      ],
      "source": [
        "# 3. Improvement Analysis - Gains over Baseline\n",
        "fig, ax4 = plt.subplots(figsize=(10, 6))\n",
        "\n",
        "# Calculate improvements relative to CLIP zero-shot\n",
        "clip_base = results_data['CLIP Zero-shot']['base']\n",
        "clip_novel = results_data['CLIP Zero-shot']['novel']\n",
        "clip_harmonic = results_data['CLIP Zero-shot']['harmonic']\n",
        "\n",
        "improvements = {}\n",
        "for method in methods[1:]:  # Skip CLIP zero-shot\n",
        "    improvements[method] = {\n",
        "        'base': results_data[method]['base'] - clip_base,\n",
        "        'novel': results_data[method]['novel'] - clip_novel,\n",
        "        'harmonic': results_data[method]['harmonic'] - clip_harmonic\n",
        "    }\n",
        "\n",
        "methods_subset = list(improvements.keys())\n",
        "base_imp = [improvements[m]['base'] for m in methods_subset]\n",
        "novel_imp = [improvements[m]['novel'] for m in methods_subset]\n",
        "\n",
        "x = np.arange(len(methods_subset))\n",
        "ax4.bar(x - width/2, base_imp, width, label='Base Δ', alpha=0.8, color='#2E86AB')\n",
        "ax4.bar(x + width/2, novel_imp, width, label='Novel Δ', alpha=0.8, color='#A23B72')\n",
        "\n",
        "ax4.axhline(y=0, color='black', linestyle='-', alpha=0.5)\n",
        "ax4.set_xlabel('Methods', fontsize=12, fontweight='bold')\n",
        "ax4.set_ylabel('Improvement over CLIP Zero-shot (%)', fontsize=12, fontweight='bold')\n",
        "ax4.set_title('Performance Gains Relative to CLIP Zero-shot', fontsize=14, fontweight='bold')\n",
        "ax4.set_xticks(x)\n",
        "ax4.set_xticklabels(methods_subset, rotation=20, ha='right')\n",
        "ax4.legend()\n",
        "ax4.grid(True, alpha=0.3)\n",
        "\n",
        "plt.tight_layout()\n",
        "plt.show()"
      ]
    },
    {
      "cell_type": "markdown",
      "id": "06abe006",
      "metadata": {
        "id": "06abe006"
      },
      "source": [
        "The harmonic mean is the most important single metric as it balances both base and novel performance:"
      ]
    },
    {
      "cell_type": "code",
      "execution_count": 44,
      "id": "78f947e7",
      "metadata": {
        "colab": {
          "base_uri": "https://localhost:8080/",
          "height": 642
        },
        "id": "78f947e7",
        "outputId": "f26f7bb1-c163-4581-a8b8-9654f3926ec1"
      },
      "outputs": [
        {
          "output_type": "stream",
          "name": "stderr",
          "text": [
            "/tmp/ipython-input-44-2503646926.py:10: UserWarning: set_ticklabels() should only be used with a fixed number of ticks, i.e. after set_ticks() or using a FixedLocator.\n",
            "  ax5.set_xticklabels(methods, rotation=15, ha='right')\n"
          ]
        },
        {
          "output_type": "display_data",
          "data": {
            "text/plain": [
              "<Figure size 1000x600 with 1 Axes>"
            ],
            "image/png": "[encoded data removed]"
          },
          "metadata": {}
        }
      ],
      "source": [
        "# 4. Harmonic Mean Focus - Overall Performance Ranking\n",
        "fig, ax5 = plt.subplots(figsize=(10, 6))\n",
        "\n",
        "harmonic_values = [results_data[m]['harmonic'] for m in methods]\n",
        "\n",
        "bars = ax5.bar(methods, harmonic_values, color=colors, alpha=0.8, edgecolor='black', linewidth=1)\n",
        "ax5.set_xlabel('Methods', fontsize=12, fontweight='bold')\n",
        "ax5.set_ylabel('Harmonic Mean Accuracy (%)', fontsize=12, fontweight='bold')\n",
        "ax5.set_title('Harmonic Mean Comparison\\n(Overall Performance)', fontsize=14, fontweight='bold')\n",
        "ax5.set_xticklabels(methods, rotation=15, ha='right')\n",
        "\n",
        "# Highlight the best performance\n",
        "best_idx = np.argmax(harmonic_values)\n",
        "bars[best_idx].set_edgecolor('gold')\n",
        "bars[best_idx].set_linewidth(3)\n",
        "\n",
        "for bar in bars:\n",
        "    height = bar.get_height()\n",
        "    ax5.annotate(f'{height:.2f}%',\n",
        "                xy=(bar.get_x() + bar.get_width() / 2, height),\n",
        "                xytext=(0, 3),\n",
        "                textcoords=\"offset points\",\n",
        "                ha='center', va='bottom', fontsize=11, fontweight='bold')\n",
        "\n",
        "ax5.grid(True, alpha=0.3)\n",
        "\n",
        "plt.tight_layout()\n",
        "plt.show()"
      ]
    },
    {
      "cell_type": "markdown",
      "id": "2b1ea68e",
      "metadata": {
        "id": "2b1ea68e"
      },
      "source": [
        "### Detailed Numerical Analysis\n",
        "Let's create a comprehensive table and calculate specific improvements to better understand the quantitative differences between methods."
      ]
    },
    {
      "cell_type": "code",
      "execution_count": 45,
      "id": "01cff1c6",
      "metadata": {
        "colab": {
          "base_uri": "https://localhost:8080/"
        },
        "id": "01cff1c6",
        "outputId": "db30a3c2-3b89-45ac-af79-819548748b4e"
      },
      "outputs": [
        {
          "output_type": "stream",
          "name": "stdout",
          "text": [
            "=== DETAILED RESULTS TABLE ===\n",
            "                        base  novel  harmonic\n",
            "CLIP Zero-shot         71.33  78.26     74.64\n",
            "CoOp (Baseline)        92.68  14.53     25.12\n",
            "Dynamic CoOp (Ours)    87.30  77.72     82.23\n",
            "CoCoOp (Baseline)      90.30  76.39     82.76\n",
            "Dynamic CoCoOp (Ours)  84.35  76.88     80.44\n",
            "\n",
            "=== IMPROVEMENTS OVER CLIP ZERO-SHOT ===\n",
            "\n",
            "CoOp (Baseline):\n",
            "\tBase improvement: +21.35%\n",
            "\tNovel improvement: -63.73%\n",
            "\tHarmonic improvement: -49.52%\n",
            "\n",
            "Dynamic CoOp (Ours):\n",
            "\tBase improvement: +15.97%\n",
            "\tNovel improvement: -0.54%\n",
            "\tHarmonic improvement: +7.59%\n",
            "\n",
            "CoCoOp (Baseline):\n",
            "\tBase improvement: +18.97%\n",
            "\tNovel improvement: -1.87%\n",
            "\tHarmonic improvement: +8.12%\n",
            "\n",
            "Dynamic CoCoOp (Ours):\n",
            "\tBase improvement: +13.02%\n",
            "\tNovel improvement: -1.38%\n",
            "\tHarmonic improvement: +5.80%\n"
          ]
        }
      ],
      "source": [
        "# Create detailed comparison table\n",
        "df_results = pd.DataFrame(results_data).T\n",
        "df_results = df_results.round(2)\n",
        "\n",
        "print(\"=== DETAILED RESULTS TABLE ===\")\n",
        "print(df_results.to_string())\n",
        "\n",
        "# Calculate improvements\n",
        "print(\"\\n=== IMPROVEMENTS OVER CLIP ZERO-SHOT ===\")\n",
        "for method in methods[1:]:\n",
        "    print(f\"\\n{method}:\")\n",
        "    base_imp = df_results.loc[method, 'base'] - df_results.loc['CLIP Zero-shot', 'base']\n",
        "    novel_imp = df_results.loc[method, 'novel'] - df_results.loc['CLIP Zero-shot', 'novel']\n",
        "    harmonic_imp = df_results.loc[method, 'harmonic'] - df_results.loc['CLIP Zero-shot', 'harmonic']\n",
        "\n",
        "    print(f\"\\tBase improvement: {base_imp:+.2f}%\")\n",
        "    print(f\"\\tNovel improvement: {novel_imp:+.2f}%\")\n",
        "    print(f\"\\tHarmonic improvement: {harmonic_imp:+.2f}%\")"
      ]
    },
    {
      "cell_type": "markdown",
      "id": "435f7444",
      "metadata": {
        "id": "435f7444"
      },
      "source": [
        "\n",
        "---\n",
        "\n",
        "# 5. Conclusions\n",
        "\n",
        "These improved *few-shot adaptation techniques* address a fundamental challenge in transfer learning: balancing adaptation to specific tasks while preserving generalization capabilities. Through the innovative prototype-cache approach with similarity-based weighting, we achieve significant improvements in harmonic mean performance (74.61% → 82.68%) while maintaining CLIP's performance on novel classes.\n",
        "\n",
        "The proposed approach can be integrated with various *few-shot* learning methods thanks to its **blending** with CLIP, making it more likely that if a sample has not been seen in the training seen, it back-offs to standard CLIP's output for classification.\n",
        "\n",
        "The cache's robust behaviour suggests that it could be integrated well with methods that overfit a lot on base classes, potentially bringing up the harmonic mean while retaining strong performance on novel classes."
      ]
    },
    {
      "cell_type": "markdown",
      "id": "48088411",
      "metadata": {
        "id": "48088411"
      },
      "source": [
        "---\n",
        "\n",
        "# 6. Other work - APoLLo\n",
        "We also tried to implement [this paper](https://arxiv.org/pdf/2312.01564) because the authors states that it shows a high accuracy both on base and novel classes.\n",
        "\n",
        "We tried firstly to implement the core of this model, a transformer-like architecture, with self-attention and cross-attention layers.\n",
        "\n",
        "The adapter was added on top of a frozen CLIP and trained with CLIP's contrastive loss.\n",
        "\n",
        "In the following cell you will find the adapter architecture:"
      ]
    },
    {
      "cell_type": "code",
      "execution_count": 46,
      "id": "7b6a7a7f",
      "metadata": {
        "id": "7b6a7a7f"
      },
      "outputs": [],
      "source": [
        "class ApolloAdapter(nn.Module):\n",
        "    def __init__(self, hid_size: int, num_heads: int = 8, attn_dropout: float = 0.1, dropout: float = 0.1):\n",
        "        super().__init__()\n",
        "\n",
        "        # -- Image components --\n",
        "        # Self attention\n",
        "        self.img_self_attn = nn.MultiheadAttention(embed_dim=hid_size, num_heads=num_heads, batch_first=True, dropout=attn_dropout)\n",
        "\n",
        "        # Cross attention (image queries attend to text)\n",
        "        self.img_cross_attn = nn.MultiheadAttention(embed_dim=hid_size, num_heads=num_heads, batch_first=True, dropout=attn_dropout)\n",
        "\n",
        "        # Dropout layer\n",
        "        self.img_dropout = nn.Dropout(dropout)\n",
        "        self.img_dropout2 = nn.Dropout(dropout)\n",
        "\n",
        "        # Feed Forward\n",
        "        self.img_ff = nn.Sequential(\n",
        "            nn.Linear(hid_size, hid_size * 2),\n",
        "            nn.SiLU(),\n",
        "            nn.Dropout(dropout),\n",
        "            nn.Linear(hid_size * 2, hid_size)\n",
        "        )\n",
        "\n",
        "        # -- Text components -- (symmetric to image)\n",
        "        self.text_self_attn = nn.MultiheadAttention(embed_dim=hid_size, num_heads=num_heads, batch_first=True, dropout=attn_dropout)\n",
        "\n",
        "        # Cross attention (text queries attend to image)\n",
        "        self.text_cross_attn = nn.MultiheadAttention(embed_dim=hid_size, num_heads=num_heads, batch_first=True, dropout=attn_dropout)\n",
        "\n",
        "        self.text_dropout = nn.Dropout(dropout)\n",
        "        self.text_dropout2 = nn.Dropout(dropout)\n",
        "\n",
        "        self.text_ff = nn.Sequential(\n",
        "            nn.Linear(hid_size, hid_size * 2),\n",
        "            nn.SiLU(),\n",
        "            nn.Dropout(dropout),\n",
        "            nn.Linear(hid_size * 2, hid_size)\n",
        "        )\n",
        "\n",
        "    def forward(self, img: torch.Tensor, text: torch.Tensor) -> tuple[torch.Tensor, torch.Tensor]:\n",
        "        \"\"\"\n",
        "        Args:\n",
        "            img: Image embeddings of shape (batch_size, seq_len, hid_size) or (batch_size, hid_size)\n",
        "            text: Text embeddings of shape (batch_size, seq_len, hid_size) or (batch_size, hid_size)\n",
        "\n",
        "        Returns:\n",
        "            Tuple of (adapted_img, adapted_text)\n",
        "        \"\"\"\n",
        "        # Ensure inputs are 3D\n",
        "        if img.dim() == 2:\n",
        "            img = img.unsqueeze(1)  # (batch_size, 1, hid_size)\n",
        "        if text.dim() == 2:\n",
        "            text = text.unsqueeze(1)  # (batch_size, 1, hid_size)\n",
        "\n",
        "        # Ensure inputs are float32 for stability\n",
        "        original_dtype = img.dtype\n",
        "        img = img.float()\n",
        "        text = text.float()\n",
        "\n",
        "        # Self attention for image\n",
        "        img_attn, _ = self.img_self_attn(img, img, img)\n",
        "        img_attn = self.img_dropout(img_attn)\n",
        "        img = img + img_attn  # Residual connection\n",
        "\n",
        "        # Self attention for text\n",
        "        text_attn, _ = self.text_self_attn(text, text, text)\n",
        "        text_attn = self.text_dropout(text_attn)\n",
        "        text = text + text_attn  # Residual connection\n",
        "\n",
        "        # Cross attention\n",
        "\n",
        "        # Image attends to text\n",
        "        img_cross_attn, _ = self.img_cross_attn(img, text, text)\n",
        "        img_cross_attn = self.img_dropout2(img_cross_attn)\n",
        "        img = img + img_cross_attn  # Residual connection\n",
        "\n",
        "        # Text attends to image\n",
        "        text_cross_attn, _ = self.text_cross_attn(text, img, img)\n",
        "        text_cross_attn = self.text_dropout2(text_cross_attn)\n",
        "        text = text + text_cross_attn  # Residual connection\n",
        "\n",
        "        # Feed Forward\n",
        "        img_ff = self.img_ff(img)\n",
        "        img = img + img_ff  # Residual connection\n",
        "\n",
        "        text_ff = self.text_ff(text)\n",
        "        text = text + text_ff  # Residual connection\n",
        "\n",
        "        # Convert back to original dtype if needed\n",
        "        img = img.to(original_dtype)\n",
        "        text = text.to(original_dtype)\n",
        "\n",
        "        # If input was 2D, squeeze back\n",
        "        if img.size(1) == 1:\n",
        "            img = img.squeeze(1)\n",
        "        if text.size(1) == 1:\n",
        "            text = text.squeeze(1)\n",
        "\n",
        "        return img, text\n"
      ]
    },
    {
      "cell_type": "markdown",
      "id": "a2936c85",
      "metadata": {
        "id": "a2936c85"
      },
      "source": [
        "This adapter brought some improvement for the harmonic mean but overfitted the base classes, so it was discarded as CoCoOp performs better.\n",
        "The following table sums up the various tentatives and regularization techniques tried to overcome this overfitting (methods in bold are the one that are kept for following experiments, non-bold ones are discarded).\n",
        "\n",
        "| Method                                   | Base (%) | Novel (%) | H‑mean (%) |\n",
        "| ---------------------------------------- | -------: | --------: | ---------: |\n",
        "| **Dropout after xattn + residual**       |    82.33 |     71.33 |      76.44 |\n",
        "| Dropout = 0.1 with FF                    |    82.05 |     72.17 |      76.79 |\n",
        "| Dropout = 0.1 with projection layer      |    79.66 | **74.44** |      76.96 |\n",
        "| **FF with Swish instead of ReLU**        |    82.85 |     72.58 |      77.38 |\n",
        "| Layer normalization                      |**87.10** |     24.16 |      37.83 |\n",
        "| Temperature clamping                     |    80.43 |     72.17 |      76.08 |\n",
        "| Noise injection                          |    85.97 |     69.67 |      76.97 |\n",
        "| Random prompts (between 5 possibilities) |    80.95 |     69.64 |      74.87 |\n",
        "| Added distillation loss (23% contribute) |    85.85 |     70.24 |      77.26 |\n",
        "| **Added distillation loss (41% contribute)** |    86.94 |     70.73 |      78.00 |\n",
        "| Added distillation loss (50% contribute) |    85.28 |     69.86 |      76.80 |\n",
        "| Added focal loss                         |    80.55 |     72.82 |      76.49 |\n",
        "| Focal loss only                          |    78.45 |     70.21 |      74.10 |\n",
        "| Stochastic dropout                       |    84.55 |     68.82 |      75.88 |\n",
        "| **More dropout layers**                  |    85.97 |     71.84 |  **78.27** |\n",
        "\n",
        "The APoLLo model overfits the base classes no matter what and the paper states that image and text augmentation didn't bring big improvements, so this model was discarded for further testing.\n"
      ]
    },
    {
      "cell_type": "markdown",
      "id": "f0f739c6",
      "metadata": {
        "id": "f0f739c6"
      },
      "source": [
        "## Other work - Image augmentation\n",
        "Image augmentation was tried on the train dataset, without changing the image colours, as they can be a distinctive trait of a class.\n",
        "The problem of this approach is that the *cache* learns wrong prototypes of the base classes, leading to lower accuracy of the Tip adapter and consequently of our blended implementations."
      ]
    },
    {
      "cell_type": "markdown",
      "id": "3be7d61e",
      "metadata": {
        "id": "3be7d61e"
      },
      "source": [
        "---\n",
        "# 7. References\n",
        "1. Zhang, R., Fang, R., Zhang, W., Gao, P., Li, K., Dai, J., Qiao, Y., & Li, H. (2021). *Tip‑Adapter: Training‑free CLIP‑Adapter for Better Vision‑Language Modeling*.  \n",
        "   *arXiv:2111.03930*. Available at: [https://arxiv.org/pdf/2111.03930](https://arxiv.org/pdf/2111.03930)\n",
        "2. Wang, P., Chen, Q., et al. (2022). *Unified Vision and Language Prompt Learning*.    \n",
        " arXiv:2210.07225. Available at: https://arxiv.org/pdf/2210.07225\n",
        "3. Zhou, K. et al. (2022) *Learning to prompt for vision-language models* - International Journal of Computer Vision, SpringerLink. Available at: https://link.springer.com/article/10.1007/s11263-022-01653-1 .\n",
        "4. Zhou, K., Yang, J., Loy, C. C., & Liu, Z. (2022). *Conditional Prompt Learning for Vision‑Language Models*.  \n",
        "   *arXiv:2203.05557*. Available at: [https://arxiv.org/pdf/2203.05557](https://arxiv.org/pdf/2203.05557)\n",
        "5. Chowdhury, S., Nag, S., & Manocha, D. (2023). *APoLLo: Unified Adapter and Prompt Learning for Vision‑Language Models*.  \n",
        "   *arXiv:2312.01564*. Available at: [https://arxiv.org/pdf/2312.01564](https://arxiv.org/pdf/2312.01564)\n"
      ]
    }
  ],
  "metadata": {
    "accelerator": "GPU",
    "colab": {
      "gpuType": "A100",
      "provenance": []
    },
    "kernelspec": {
      "display_name": "Python 3",
      "name": "python3"
    },
    "language_info": {
      "codemirror_mode": {
        "name": "ipython",
        "version": 3
      },
      "file_extension": ".py",
      "mimetype": "text/x-python",
      "name": "python",
      "nbconvert_exporter": "python",
      "pygments_lexer": "ipython3",
      "version": "3.10.12"
    }
  },
  "nbformat": 4,
  "nbformat_minor": 5
}